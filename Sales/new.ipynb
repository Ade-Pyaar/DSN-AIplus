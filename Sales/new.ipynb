{
 "cells": [
  {
   "cell_type": "code",
   "execution_count": 53,
   "metadata": {},
   "outputs": [],
   "source": [
    "import numpy as np\n",
    "import pandas as pd\n",
    "import math\n",
    "\n",
    "from sklearn.model_selection import train_test_split, RandomizedSearchCV\n",
    "from sklearn.metrics import mean_squared_error\n",
    "from sklearn.preprocessing import OrdinalEncoder, scale"
   ]
  },
  {
   "cell_type": "code",
   "execution_count": null,
   "metadata": {},
   "outputs": [],
   "source": []
  },
  {
   "cell_type": "code",
   "execution_count": 2,
   "metadata": {},
   "outputs": [],
   "source": []
  },
  {
   "cell_type": "code",
   "execution_count": 2,
   "metadata": {},
   "outputs": [],
   "source": [
    "pd.set_option('display.max_columns', None)\n",
    "pd.set_option('display.max_rows', None)"
   ]
  },
  {
   "cell_type": "code",
   "execution_count": null,
   "metadata": {},
   "outputs": [],
   "source": []
  },
  {
   "cell_type": "code",
   "execution_count": 3,
   "metadata": {},
   "outputs": [],
   "source": [
    "train  = pd.read_csv('Train.csv')\n",
    "test = pd.read_csv('Test.csv')\n",
    "submit = pd.read_csv('Sample_submission.csv')"
   ]
  },
  {
   "cell_type": "code",
   "execution_count": null,
   "metadata": {},
   "outputs": [],
   "source": []
  },
  {
   "cell_type": "code",
   "execution_count": 28,
   "metadata": {
    "scrolled": false
   },
   "outputs": [
    {
     "data": {
      "text/html": [
       "<div>\n",
       "<style scoped>\n",
       "    .dataframe tbody tr th:only-of-type {\n",
       "        vertical-align: middle;\n",
       "    }\n",
       "\n",
       "    .dataframe tbody tr th {\n",
       "        vertical-align: top;\n",
       "    }\n",
       "\n",
       "    .dataframe thead th {\n",
       "        text-align: right;\n",
       "    }\n",
       "</style>\n",
       "<table border=\"1\" class=\"dataframe\">\n",
       "  <thead>\n",
       "    <tr style=\"text-align: right;\">\n",
       "      <th></th>\n",
       "      <th>Product_Weight</th>\n",
       "      <th>Product_Fat_Content</th>\n",
       "      <th>Product_Shelf_Visibility</th>\n",
       "      <th>Product_Type</th>\n",
       "      <th>Product_Price</th>\n",
       "      <th>Supermarket_Opening_Year</th>\n",
       "      <th>Supermarket _Size</th>\n",
       "      <th>Supermarket_Location_Type</th>\n",
       "      <th>Supermarket_Type</th>\n",
       "      <th>Average_Price_per_ProductType</th>\n",
       "      <th>Product_Supermarket_Sales</th>\n",
       "      <th>PPW</th>\n",
       "      <th>APP</th>\n",
       "      <th>PSV</th>\n",
       "    </tr>\n",
       "  </thead>\n",
       "  <tbody>\n",
       "    <tr>\n",
       "      <th>0</th>\n",
       "      <td>-0.545535</td>\n",
       "      <td>0.0</td>\n",
       "      <td>-0.737630</td>\n",
       "      <td>9.0</td>\n",
       "      <td>0.292861</td>\n",
       "      <td>2004</td>\n",
       "      <td>2.0</td>\n",
       "      <td>0.0</td>\n",
       "      <td>1.0</td>\n",
       "      <td>0.690378</td>\n",
       "      <td>8983.31</td>\n",
       "      <td>-0.245713</td>\n",
       "      <td>-0.356266</td>\n",
       "      <td>-0.737630</td>\n",
       "    </tr>\n",
       "    <tr>\n",
       "      <th>1</th>\n",
       "      <td>-0.662437</td>\n",
       "      <td>0.0</td>\n",
       "      <td>-0.375244</td>\n",
       "      <td>5.0</td>\n",
       "      <td>-0.398619</td>\n",
       "      <td>2006</td>\n",
       "      <td>1.0</td>\n",
       "      <td>0.0</td>\n",
       "      <td>1.0</td>\n",
       "      <td>-0.293253</td>\n",
       "      <td>4893.63</td>\n",
       "      <td>-0.693654</td>\n",
       "      <td>-0.036294</td>\n",
       "      <td>-0.375244</td>\n",
       "    </tr>\n",
       "    <tr>\n",
       "      <th>2</th>\n",
       "      <td>-1.075101</td>\n",
       "      <td>0.0</td>\n",
       "      <td>-0.986077</td>\n",
       "      <td>8.0</td>\n",
       "      <td>0.552937</td>\n",
       "      <td>2009</td>\n",
       "      <td>0.0</td>\n",
       "      <td>1.0</td>\n",
       "      <td>1.0</td>\n",
       "      <td>-2.019018</td>\n",
       "      <td>7323.80</td>\n",
       "      <td>-0.551669</td>\n",
       "      <td>-0.583641</td>\n",
       "      <td>-0.986077</td>\n",
       "    </tr>\n",
       "    <tr>\n",
       "      <th>3</th>\n",
       "      <td>1.406729</td>\n",
       "      <td>0.0</td>\n",
       "      <td>-0.954630</td>\n",
       "      <td>8.0</td>\n",
       "      <td>-0.572697</td>\n",
       "      <td>2004</td>\n",
       "      <td>2.0</td>\n",
       "      <td>0.0</td>\n",
       "      <td>1.0</td>\n",
       "      <td>-2.019018</td>\n",
       "      <td>7541.85</td>\n",
       "      <td>0.448631</td>\n",
       "      <td>-0.023052</td>\n",
       "      <td>-0.954630</td>\n",
       "    </tr>\n",
       "    <tr>\n",
       "      <th>4</th>\n",
       "      <td>-0.054547</td>\n",
       "      <td>1.0</td>\n",
       "      <td>0.171530</td>\n",
       "      <td>4.0</td>\n",
       "      <td>2.020394</td>\n",
       "      <td>2009</td>\n",
       "      <td>0.0</td>\n",
       "      <td>1.0</td>\n",
       "      <td>1.0</td>\n",
       "      <td>1.474172</td>\n",
       "      <td>11445.10</td>\n",
       "      <td>1.261024</td>\n",
       "      <td>-0.844359</td>\n",
       "      <td>0.171530</td>\n",
       "    </tr>\n",
       "  </tbody>\n",
       "</table>\n",
       "</div>"
      ],
      "text/plain": [
       "   Product_Weight  Product_Fat_Content  Product_Shelf_Visibility  \\\n",
       "0       -0.545535                  0.0                 -0.737630   \n",
       "1       -0.662437                  0.0                 -0.375244   \n",
       "2       -1.075101                  0.0                 -0.986077   \n",
       "3        1.406729                  0.0                 -0.954630   \n",
       "4       -0.054547                  1.0                  0.171530   \n",
       "\n",
       "   Product_Type  Product_Price  Supermarket_Opening_Year  Supermarket _Size  \\\n",
       "0           9.0       0.292861                      2004                2.0   \n",
       "1           5.0      -0.398619                      2006                1.0   \n",
       "2           8.0       0.552937                      2009                0.0   \n",
       "3           8.0      -0.572697                      2004                2.0   \n",
       "4           4.0       2.020394                      2009                0.0   \n",
       "\n",
       "   Supermarket_Location_Type  Supermarket_Type  Average_Price_per_ProductType  \\\n",
       "0                        0.0               1.0                       0.690378   \n",
       "1                        0.0               1.0                      -0.293253   \n",
       "2                        1.0               1.0                      -2.019018   \n",
       "3                        0.0               1.0                      -2.019018   \n",
       "4                        1.0               1.0                       1.474172   \n",
       "\n",
       "   Product_Supermarket_Sales       PPW       APP       PSV  \n",
       "0                    8983.31 -0.245713 -0.356266 -0.737630  \n",
       "1                    4893.63 -0.693654 -0.036294 -0.375244  \n",
       "2                    7323.80 -0.551669 -0.583641 -0.986077  \n",
       "3                    7541.85  0.448631 -0.023052 -0.954630  \n",
       "4                   11445.10  1.261024 -0.844359  0.171530  "
      ]
     },
     "execution_count": 28,
     "metadata": {},
     "output_type": "execute_result"
    }
   ],
   "source": [
    "train.head()"
   ]
  },
  {
   "cell_type": "code",
   "execution_count": 29,
   "metadata": {},
   "outputs": [
    {
     "data": {
      "text/html": [
       "<div>\n",
       "<style scoped>\n",
       "    .dataframe tbody tr th:only-of-type {\n",
       "        vertical-align: middle;\n",
       "    }\n",
       "\n",
       "    .dataframe tbody tr th {\n",
       "        vertical-align: top;\n",
       "    }\n",
       "\n",
       "    .dataframe thead th {\n",
       "        text-align: right;\n",
       "    }\n",
       "</style>\n",
       "<table border=\"1\" class=\"dataframe\">\n",
       "  <thead>\n",
       "    <tr style=\"text-align: right;\">\n",
       "      <th></th>\n",
       "      <th>Product_Weight</th>\n",
       "      <th>Product_Fat_Content</th>\n",
       "      <th>Product_Shelf_Visibility</th>\n",
       "      <th>Product_Type</th>\n",
       "      <th>Product_Price</th>\n",
       "      <th>Supermarket_Opening_Year</th>\n",
       "      <th>Supermarket _Size</th>\n",
       "      <th>Supermarket_Location_Type</th>\n",
       "      <th>Supermarket_Type</th>\n",
       "      <th>Average_Price_per_ProductType</th>\n",
       "      <th>PPW</th>\n",
       "      <th>APP</th>\n",
       "      <th>PSV</th>\n",
       "    </tr>\n",
       "  </thead>\n",
       "  <tbody>\n",
       "    <tr>\n",
       "      <th>0</th>\n",
       "      <td>1.655901</td>\n",
       "      <td>1.0</td>\n",
       "      <td>0.936231</td>\n",
       "      <td>13.0</td>\n",
       "      <td>-1.236451</td>\n",
       "      <td>1994</td>\n",
       "      <td>0.0</td>\n",
       "      <td>2.0</td>\n",
       "      <td>1.0</td>\n",
       "      <td>0.263208</td>\n",
       "      <td>-0.061707</td>\n",
       "      <td>0.826200</td>\n",
       "      <td>0.936231</td>\n",
       "    </tr>\n",
       "    <tr>\n",
       "      <th>1</th>\n",
       "      <td>1.058617</td>\n",
       "      <td>0.0</td>\n",
       "      <td>-0.364899</td>\n",
       "      <td>13.0</td>\n",
       "      <td>-0.906147</td>\n",
       "      <td>2016</td>\n",
       "      <td>1.0</td>\n",
       "      <td>2.0</td>\n",
       "      <td>2.0</td>\n",
       "      <td>0.263208</td>\n",
       "      <td>-0.037740</td>\n",
       "      <td>0.434145</td>\n",
       "      <td>-0.364899</td>\n",
       "    </tr>\n",
       "    <tr>\n",
       "      <th>2</th>\n",
       "      <td>0.943755</td>\n",
       "      <td>0.0</td>\n",
       "      <td>-0.663671</td>\n",
       "      <td>5.0</td>\n",
       "      <td>-0.149574</td>\n",
       "      <td>2016</td>\n",
       "      <td>1.0</td>\n",
       "      <td>2.0</td>\n",
       "      <td>2.0</td>\n",
       "      <td>-0.320419</td>\n",
       "      <td>0.565695</td>\n",
       "      <td>-0.187503</td>\n",
       "      <td>-0.663671</td>\n",
       "    </tr>\n",
       "    <tr>\n",
       "      <th>3</th>\n",
       "      <td>1.093076</td>\n",
       "      <td>0.0</td>\n",
       "      <td>-1.256646</td>\n",
       "      <td>11.0</td>\n",
       "      <td>-0.997466</td>\n",
       "      <td>2016</td>\n",
       "      <td>1.0</td>\n",
       "      <td>2.0</td>\n",
       "      <td>2.0</td>\n",
       "      <td>-0.277406</td>\n",
       "      <td>-0.102631</td>\n",
       "      <td>0.487953</td>\n",
       "      <td>-1.256646</td>\n",
       "    </tr>\n",
       "    <tr>\n",
       "      <th>4</th>\n",
       "      <td>1.518066</td>\n",
       "      <td>0.0</td>\n",
       "      <td>-0.823130</td>\n",
       "      <td>9.0</td>\n",
       "      <td>-1.060739</td>\n",
       "      <td>2004</td>\n",
       "      <td>2.0</td>\n",
       "      <td>0.0</td>\n",
       "      <td>1.0</td>\n",
       "      <td>0.635713</td>\n",
       "      <td>0.051850</td>\n",
       "      <td>0.633875</td>\n",
       "      <td>-0.823130</td>\n",
       "    </tr>\n",
       "  </tbody>\n",
       "</table>\n",
       "</div>"
      ],
      "text/plain": [
       "   Product_Weight  Product_Fat_Content  Product_Shelf_Visibility  \\\n",
       "0        1.655901                  1.0                  0.936231   \n",
       "1        1.058617                  0.0                 -0.364899   \n",
       "2        0.943755                  0.0                 -0.663671   \n",
       "3        1.093076                  0.0                 -1.256646   \n",
       "4        1.518066                  0.0                 -0.823130   \n",
       "\n",
       "   Product_Type  Product_Price  Supermarket_Opening_Year  Supermarket _Size  \\\n",
       "0          13.0      -1.236451                      1994                0.0   \n",
       "1          13.0      -0.906147                      2016                1.0   \n",
       "2           5.0      -0.149574                      2016                1.0   \n",
       "3          11.0      -0.997466                      2016                1.0   \n",
       "4           9.0      -1.060739                      2004                2.0   \n",
       "\n",
       "   Supermarket_Location_Type  Supermarket_Type  Average_Price_per_ProductType  \\\n",
       "0                        2.0               1.0                       0.263208   \n",
       "1                        2.0               2.0                       0.263208   \n",
       "2                        2.0               2.0                      -0.320419   \n",
       "3                        2.0               2.0                      -0.277406   \n",
       "4                        0.0               1.0                       0.635713   \n",
       "\n",
       "        PPW       APP       PSV  \n",
       "0 -0.061707  0.826200  0.936231  \n",
       "1 -0.037740  0.434145 -0.364899  \n",
       "2  0.565695 -0.187503 -0.663671  \n",
       "3 -0.102631  0.487953 -1.256646  \n",
       "4  0.051850  0.633875 -0.823130  "
      ]
     },
     "execution_count": 29,
     "metadata": {},
     "output_type": "execute_result"
    }
   ],
   "source": [
    "test.head()"
   ]
  },
  {
   "cell_type": "code",
   "execution_count": null,
   "metadata": {},
   "outputs": [],
   "source": []
  },
  {
   "cell_type": "code",
   "execution_count": 6,
   "metadata": {},
   "outputs": [],
   "source": [
    "train['Supermarket _Size'] = train['Supermarket _Size'].fillna('High')"
   ]
  },
  {
   "cell_type": "code",
   "execution_count": 7,
   "metadata": {},
   "outputs": [],
   "source": [
    "test['Supermarket _Size'] = test['Supermarket _Size'].fillna('High')"
   ]
  },
  {
   "cell_type": "code",
   "execution_count": null,
   "metadata": {},
   "outputs": [],
   "source": []
  },
  {
   "cell_type": "code",
   "execution_count": 8,
   "metadata": {},
   "outputs": [],
   "source": [
    "a = train['Product_Weight'].mean()\n",
    "\n",
    "train['Product_Weight'] = train['Product_Weight'].fillna(a)"
   ]
  },
  {
   "cell_type": "code",
   "execution_count": 9,
   "metadata": {},
   "outputs": [],
   "source": [
    "b = train['Product_Weight'].mean()\n",
    "\n",
    "test['Product_Weight'] = test['Product_Weight'].fillna(b)"
   ]
  },
  {
   "cell_type": "code",
   "execution_count": null,
   "metadata": {},
   "outputs": [],
   "source": []
  },
  {
   "cell_type": "code",
   "execution_count": 10,
   "metadata": {},
   "outputs": [],
   "source": [
    "train.drop(['Product_Identifier', 'Supermarket_Identifier', 'Product_Supermarket_Identifier',], axis=1, inplace=True)\n",
    "test.drop(['Product_Identifier', 'Supermarket_Identifier', 'Product_Supermarket_Identifier'], axis=1, inplace=True)"
   ]
  },
  {
   "cell_type": "code",
   "execution_count": null,
   "metadata": {},
   "outputs": [],
   "source": []
  },
  {
   "cell_type": "code",
   "execution_count": 11,
   "metadata": {},
   "outputs": [],
   "source": [
    "train['PPW'] = train['Product_Weight'] * train['Product_Price']\n",
    "test['PPW'] = test['Product_Weight'] * test['Product_Price']"
   ]
  },
  {
   "cell_type": "code",
   "execution_count": 12,
   "metadata": {},
   "outputs": [],
   "source": [
    "train['APP'] = train['Average_Price_per_ProductType'] / train['Product_Price']\n",
    "test['APP'] = test['Average_Price_per_ProductType'] / test['Product_Price']"
   ]
  },
  {
   "cell_type": "code",
   "execution_count": 13,
   "metadata": {},
   "outputs": [],
   "source": [
    "train['PSV'] = train['Product_Shelf_Visibility'] * 100\n",
    "test['PSV'] = test['Product_Shelf_Visibility'] * 100"
   ]
  },
  {
   "cell_type": "code",
   "execution_count": null,
   "metadata": {},
   "outputs": [],
   "source": []
  },
  {
   "cell_type": "code",
   "execution_count": 15,
   "metadata": {},
   "outputs": [
    {
     "data": {
      "text/plain": [
       "Product_Weight                   0\n",
       "Product_Fat_Content              0\n",
       "Product_Shelf_Visibility         0\n",
       "Product_Type                     0\n",
       "Product_Price                    0\n",
       "Supermarket_Opening_Year         0\n",
       "Supermarket _Size                0\n",
       "Supermarket_Location_Type        0\n",
       "Supermarket_Type                 0\n",
       "Average_Price_per_ProductType    0\n",
       "Product_Supermarket_Sales        0\n",
       "PPW                              0\n",
       "APP                              0\n",
       "PSV                              0\n",
       "dtype: int64"
      ]
     },
     "execution_count": 15,
     "metadata": {},
     "output_type": "execute_result"
    }
   ],
   "source": [
    "train.isna().sum()"
   ]
  },
  {
   "cell_type": "code",
   "execution_count": 16,
   "metadata": {},
   "outputs": [
    {
     "data": {
      "text/plain": [
       "Product_Weight                   0\n",
       "Product_Fat_Content              0\n",
       "Product_Shelf_Visibility         0\n",
       "Product_Type                     0\n",
       "Product_Price                    0\n",
       "Supermarket_Opening_Year         0\n",
       "Supermarket _Size                0\n",
       "Supermarket_Location_Type        0\n",
       "Supermarket_Type                 0\n",
       "Average_Price_per_ProductType    0\n",
       "PPW                              0\n",
       "APP                              0\n",
       "PSV                              0\n",
       "dtype: int64"
      ]
     },
     "execution_count": 16,
     "metadata": {},
     "output_type": "execute_result"
    }
   ],
   "source": [
    "test.isna().sum()"
   ]
  },
  {
   "cell_type": "code",
   "execution_count": null,
   "metadata": {},
   "outputs": [],
   "source": []
  },
  {
   "cell_type": "code",
   "execution_count": 17,
   "metadata": {},
   "outputs": [],
   "source": [
    "def ordinal_encode(e_train, e_test):\n",
    "    ord_enc = OrdinalEncoder()\n",
    "    ord_enc.fit(e_train)\n",
    "    train_encode = ord_enc.transform(e_train)\n",
    "    test_encode = ord_enc.transform(e_test)\n",
    "    return train_encode, test_encode"
   ]
  },
  {
   "cell_type": "code",
   "execution_count": 18,
   "metadata": {},
   "outputs": [],
   "source": [
    "col_encode = ['Product_Fat_Content', 'Product_Type', 'Supermarket _Size', 'Supermarket_Location_Type', 'Supermarket_Type']"
   ]
  },
  {
   "cell_type": "code",
   "execution_count": null,
   "metadata": {},
   "outputs": [],
   "source": []
  },
  {
   "cell_type": "code",
   "execution_count": 19,
   "metadata": {},
   "outputs": [],
   "source": [
    "train_cate = train[col_encode]"
   ]
  },
  {
   "cell_type": "code",
   "execution_count": 20,
   "metadata": {},
   "outputs": [],
   "source": [
    "test_cate = test[col_encode]"
   ]
  },
  {
   "cell_type": "code",
   "execution_count": 21,
   "metadata": {},
   "outputs": [],
   "source": [
    "train_cate_encode, test_cate_encode = ordinal_encode(train_cate, test_cate)"
   ]
  },
  {
   "cell_type": "code",
   "execution_count": 22,
   "metadata": {},
   "outputs": [],
   "source": [
    "train[col_encode] = pd.DataFrame(train_cate_encode)\n",
    "test[col_encode] = pd.DataFrame(test_cate_encode)"
   ]
  },
  {
   "cell_type": "code",
   "execution_count": null,
   "metadata": {},
   "outputs": [],
   "source": []
  },
  {
   "cell_type": "code",
   "execution_count": 23,
   "metadata": {},
   "outputs": [],
   "source": [
    "col_scale = ['Product_Weight', 'Product_Shelf_Visibility', 'Product_Price', 'Average_Price_per_ProductType', 'PPW', 'APP', 'PSV']"
   ]
  },
  {
   "cell_type": "code",
   "execution_count": 24,
   "metadata": {},
   "outputs": [],
   "source": [
    "train_scale = scale(train[col_scale])\n",
    "test_scale = scale(test[col_scale])"
   ]
  },
  {
   "cell_type": "code",
   "execution_count": 25,
   "metadata": {},
   "outputs": [],
   "source": [
    "train[col_scale] = train_scale\n",
    "test[col_scale] = test_scale"
   ]
  },
  {
   "cell_type": "code",
   "execution_count": null,
   "metadata": {},
   "outputs": [],
   "source": []
  },
  {
   "cell_type": "code",
   "execution_count": 26,
   "metadata": {
    "collapsed": true
   },
   "outputs": [
    {
     "name": "stdout",
     "output_type": "stream",
     "text": [
      "<class 'pandas.core.frame.DataFrame'>\n",
      "RangeIndex: 2994 entries, 0 to 2993\n",
      "Data columns (total 14 columns):\n",
      "Product_Weight                   2994 non-null float64\n",
      "Product_Fat_Content              2994 non-null float64\n",
      "Product_Shelf_Visibility         2994 non-null float64\n",
      "Product_Type                     2994 non-null float64\n",
      "Product_Price                    2994 non-null float64\n",
      "Supermarket_Opening_Year         2994 non-null int64\n",
      "Supermarket _Size                2994 non-null float64\n",
      "Supermarket_Location_Type        2994 non-null float64\n",
      "Supermarket_Type                 2994 non-null float64\n",
      "Average_Price_per_ProductType    2994 non-null float64\n",
      "Product_Supermarket_Sales        2994 non-null float64\n",
      "PPW                              2994 non-null float64\n",
      "APP                              2994 non-null float64\n",
      "PSV                              2994 non-null float64\n",
      "dtypes: float64(13), int64(1)\n",
      "memory usage: 327.5 KB\n"
     ]
    }
   ],
   "source": [
    "train.info()"
   ]
  },
  {
   "cell_type": "code",
   "execution_count": 27,
   "metadata": {
    "collapsed": true
   },
   "outputs": [
    {
     "name": "stdout",
     "output_type": "stream",
     "text": [
      "<class 'pandas.core.frame.DataFrame'>\n",
      "RangeIndex: 1996 entries, 0 to 1995\n",
      "Data columns (total 13 columns):\n",
      "Product_Weight                   1996 non-null float64\n",
      "Product_Fat_Content              1996 non-null float64\n",
      "Product_Shelf_Visibility         1996 non-null float64\n",
      "Product_Type                     1996 non-null float64\n",
      "Product_Price                    1996 non-null float64\n",
      "Supermarket_Opening_Year         1996 non-null int64\n",
      "Supermarket _Size                1996 non-null float64\n",
      "Supermarket_Location_Type        1996 non-null float64\n",
      "Supermarket_Type                 1996 non-null float64\n",
      "Average_Price_per_ProductType    1996 non-null float64\n",
      "PPW                              1996 non-null float64\n",
      "APP                              1996 non-null float64\n",
      "PSV                              1996 non-null float64\n",
      "dtypes: float64(12), int64(1)\n",
      "memory usage: 202.8 KB\n"
     ]
    }
   ],
   "source": [
    "test.info()"
   ]
  },
  {
   "cell_type": "code",
   "execution_count": null,
   "metadata": {},
   "outputs": [],
   "source": []
  },
  {
   "cell_type": "code",
   "execution_count": 30,
   "metadata": {},
   "outputs": [],
   "source": [
    "X = train.drop('Product_Supermarket_Sales', axis=1)\n",
    "y = train['Product_Supermarket_Sales']"
   ]
  },
  {
   "cell_type": "code",
   "execution_count": 42,
   "metadata": {},
   "outputs": [],
   "source": [
    "X_train, X_test, y_train, y_test = train_test_split(X, y, test_size=0.25, random_state=101)"
   ]
  },
  {
   "cell_type": "code",
   "execution_count": null,
   "metadata": {},
   "outputs": [],
   "source": []
  },
  {
   "cell_type": "code",
   "execution_count": 32,
   "metadata": {
    "collapsed": true
   },
   "outputs": [
    {
     "data": {
      "text/html": [
       "<div>\n",
       "<style scoped>\n",
       "    .dataframe tbody tr th:only-of-type {\n",
       "        vertical-align: middle;\n",
       "    }\n",
       "\n",
       "    .dataframe tbody tr th {\n",
       "        vertical-align: top;\n",
       "    }\n",
       "\n",
       "    .dataframe thead th {\n",
       "        text-align: right;\n",
       "    }\n",
       "</style>\n",
       "<table border=\"1\" class=\"dataframe\">\n",
       "  <thead>\n",
       "    <tr style=\"text-align: right;\">\n",
       "      <th></th>\n",
       "      <th>Product_Supermarket_Identifier</th>\n",
       "      <th>Product_Supermarket_Sales</th>\n",
       "    </tr>\n",
       "  </thead>\n",
       "  <tbody>\n",
       "    <tr>\n",
       "      <th>0</th>\n",
       "      <td>FDY57_CHUKWUDI013</td>\n",
       "      <td>0</td>\n",
       "    </tr>\n",
       "    <tr>\n",
       "      <th>1</th>\n",
       "      <td>FDY10_CHUKWUDI018</td>\n",
       "      <td>0</td>\n",
       "    </tr>\n",
       "    <tr>\n",
       "      <th>2</th>\n",
       "      <td>FDO40_CHUKWUDI018</td>\n",
       "      <td>0</td>\n",
       "    </tr>\n",
       "    <tr>\n",
       "      <th>3</th>\n",
       "      <td>NCQ43_CHUKWUDI018</td>\n",
       "      <td>0</td>\n",
       "    </tr>\n",
       "    <tr>\n",
       "      <th>4</th>\n",
       "      <td>NCC07_CHUKWUDI046</td>\n",
       "      <td>0</td>\n",
       "    </tr>\n",
       "  </tbody>\n",
       "</table>\n",
       "</div>"
      ],
      "text/plain": [
       "  Product_Supermarket_Identifier  Product_Supermarket_Sales\n",
       "0              FDY57_CHUKWUDI013                          0\n",
       "1              FDY10_CHUKWUDI018                          0\n",
       "2              FDO40_CHUKWUDI018                          0\n",
       "3              NCQ43_CHUKWUDI018                          0\n",
       "4              NCC07_CHUKWUDI046                          0"
      ]
     },
     "execution_count": 32,
     "metadata": {},
     "output_type": "execute_result"
    }
   ],
   "source": [
    "submit.head()"
   ]
  },
  {
   "cell_type": "code",
   "execution_count": null,
   "metadata": {},
   "outputs": [],
   "source": []
  },
  {
   "cell_type": "code",
   "execution_count": null,
   "metadata": {},
   "outputs": [],
   "source": []
  },
  {
   "cell_type": "code",
   "execution_count": null,
   "metadata": {},
   "outputs": [],
   "source": []
  },
  {
   "cell_type": "code",
   "execution_count": null,
   "metadata": {},
   "outputs": [],
   "source": []
  },
  {
   "cell_type": "code",
   "execution_count": 33,
   "metadata": {},
   "outputs": [],
   "source": [
    "from sklearn.linear_model import LinearRegression"
   ]
  },
  {
   "cell_type": "code",
   "execution_count": 43,
   "metadata": {},
   "outputs": [],
   "source": [
    "linreg = LinearRegression(n_jobs=2)"
   ]
  },
  {
   "cell_type": "code",
   "execution_count": 44,
   "metadata": {},
   "outputs": [
    {
     "data": {
      "text/plain": [
       "LinearRegression(copy_X=True, fit_intercept=True, n_jobs=2, normalize=False)"
      ]
     },
     "execution_count": 44,
     "metadata": {},
     "output_type": "execute_result"
    }
   ],
   "source": [
    "linreg.fit(X_train, y_train)"
   ]
  },
  {
   "cell_type": "code",
   "execution_count": 45,
   "metadata": {},
   "outputs": [],
   "source": [
    "linreg_pred = linreg.predict(X_test)"
   ]
  },
  {
   "cell_type": "code",
   "execution_count": 46,
   "metadata": {},
   "outputs": [],
   "source": [
    "linreg_score = mean_squared_error(y_test, linreg_pred)"
   ]
  },
  {
   "cell_type": "code",
   "execution_count": 47,
   "metadata": {},
   "outputs": [
    {
     "data": {
      "text/plain": [
       "3285.266303393114"
      ]
     },
     "execution_count": 47,
     "metadata": {},
     "output_type": "execute_result"
    }
   ],
   "source": [
    "math.sqrt(linreg_score)"
   ]
  },
  {
   "cell_type": "code",
   "execution_count": 39,
   "metadata": {},
   "outputs": [],
   "source": [
    "linreg_final = linreg.predict(test)"
   ]
  },
  {
   "cell_type": "code",
   "execution_count": 40,
   "metadata": {},
   "outputs": [],
   "source": [
    "submit['Product_Supermarket_Sales'] = linreg_final"
   ]
  },
  {
   "cell_type": "code",
   "execution_count": 41,
   "metadata": {},
   "outputs": [],
   "source": [
    "submit.to_csv('linreg_sub.csv', index=None)"
   ]
  },
  {
   "cell_type": "code",
   "execution_count": null,
   "metadata": {},
   "outputs": [],
   "source": []
  },
  {
   "cell_type": "code",
   "execution_count": null,
   "metadata": {},
   "outputs": [],
   "source": []
  },
  {
   "cell_type": "code",
   "execution_count": null,
   "metadata": {},
   "outputs": [],
   "source": []
  },
  {
   "cell_type": "code",
   "execution_count": 57,
   "metadata": {},
   "outputs": [],
   "source": [
    "parameters = {'depth': [6, 7, 8, 9, 10, 11, 12, 13, 14, 15], 'learning_rate': [0.01, 0.02, 0.03, 0.04, 0.05, 0.06, 0.07, 0.08, 0.09, 0.1], 'iterations': [30, 35, 40, 45, 50, 55, 60, 65, 70, 75, 80, 85, 90, 95, 100]}"
   ]
  },
  {
   "cell_type": "code",
   "execution_count": 58,
   "metadata": {},
   "outputs": [],
   "source": [
    "rand_search = RandomizedSearchCV(estimator=cat_model, param_distributions=parameters, cv=2, n_jobs=-1)"
   ]
  },
  {
   "cell_type": "code",
   "execution_count": 59,
   "metadata": {
    "collapsed": true
   },
   "outputs": [
    {
     "name": "stdout",
     "output_type": "stream",
     "text": [
      "0:\tlearn: 4256.1478548\ttotal: 58.2ms\tremaining: 3.72s\n",
      "1:\tlearn: 4083.1986534\ttotal: 61.6ms\tremaining: 1.94s\n",
      "2:\tlearn: 3920.1649050\ttotal: 64.3ms\tremaining: 1.33s\n",
      "3:\tlearn: 3785.6395816\ttotal: 67.8ms\tremaining: 1.03s\n",
      "4:\tlearn: 3656.6716658\ttotal: 71ms\tremaining: 852ms\n",
      "5:\tlearn: 3551.6331536\ttotal: 74.4ms\tremaining: 732ms\n",
      "6:\tlearn: 3461.4243256\ttotal: 77.9ms\tremaining: 645ms\n",
      "7:\tlearn: 3377.0833181\ttotal: 81.3ms\tremaining: 579ms\n",
      "8:\tlearn: 3307.3056466\ttotal: 84.6ms\tremaining: 526ms\n",
      "9:\tlearn: 3244.4874893\ttotal: 87.8ms\tremaining: 483ms\n",
      "10:\tlearn: 3192.5235707\ttotal: 91ms\tremaining: 447ms\n",
      "11:\tlearn: 3151.5848583\ttotal: 94.2ms\tremaining: 416ms\n",
      "12:\tlearn: 3114.1003093\ttotal: 97.6ms\tremaining: 390ms\n",
      "13:\tlearn: 3078.2455347\ttotal: 101ms\tremaining: 370ms\n",
      "14:\tlearn: 3051.0874058\ttotal: 105ms\tremaining: 349ms\n",
      "15:\tlearn: 3028.5869159\ttotal: 109ms\tremaining: 333ms\n",
      "16:\tlearn: 3004.9786605\ttotal: 112ms\tremaining: 317ms\n",
      "17:\tlearn: 2989.2514610\ttotal: 115ms\tremaining: 301ms\n",
      "18:\tlearn: 2971.2802857\ttotal: 119ms\tremaining: 288ms\n",
      "19:\tlearn: 2958.2735258\ttotal: 121ms\tremaining: 273ms\n",
      "20:\tlearn: 2944.8522554\ttotal: 125ms\tremaining: 262ms\n",
      "21:\tlearn: 2930.2537355\ttotal: 128ms\tremaining: 251ms\n",
      "22:\tlearn: 2918.6298200\ttotal: 132ms\tremaining: 241ms\n",
      "23:\tlearn: 2909.2223777\ttotal: 135ms\tremaining: 231ms\n",
      "24:\tlearn: 2897.1069066\ttotal: 140ms\tremaining: 224ms\n",
      "25:\tlearn: 2890.7401002\ttotal: 144ms\tremaining: 216ms\n",
      "26:\tlearn: 2885.0383542\ttotal: 150ms\tremaining: 211ms\n",
      "27:\tlearn: 2878.4984370\ttotal: 154ms\tremaining: 204ms\n",
      "28:\tlearn: 2872.3944647\ttotal: 158ms\tremaining: 196ms\n",
      "29:\tlearn: 2866.4546161\ttotal: 162ms\tremaining: 189ms\n",
      "30:\tlearn: 2857.3931808\ttotal: 165ms\tremaining: 181ms\n",
      "31:\tlearn: 2852.4719165\ttotal: 170ms\tremaining: 175ms\n",
      "32:\tlearn: 2848.4027525\ttotal: 173ms\tremaining: 168ms\n",
      "33:\tlearn: 2840.4234784\ttotal: 176ms\tremaining: 161ms\n",
      "34:\tlearn: 2835.9420426\ttotal: 181ms\tremaining: 155ms\n",
      "35:\tlearn: 2832.1179566\ttotal: 184ms\tremaining: 149ms\n",
      "36:\tlearn: 2829.2335603\ttotal: 189ms\tremaining: 143ms\n",
      "37:\tlearn: 2824.5873788\ttotal: 193ms\tremaining: 137ms\n",
      "38:\tlearn: 2822.2011418\ttotal: 196ms\tremaining: 131ms\n",
      "39:\tlearn: 2819.1729893\ttotal: 201ms\tremaining: 126ms\n",
      "40:\tlearn: 2815.2514810\ttotal: 205ms\tremaining: 120ms\n",
      "41:\tlearn: 2811.5631739\ttotal: 209ms\tremaining: 115ms\n",
      "42:\tlearn: 2807.9378506\ttotal: 212ms\tremaining: 109ms\n",
      "43:\tlearn: 2804.4182602\ttotal: 216ms\tremaining: 103ms\n",
      "44:\tlearn: 2801.5342546\ttotal: 221ms\tremaining: 98.3ms\n",
      "45:\tlearn: 2797.5237704\ttotal: 226ms\tremaining: 93.3ms\n",
      "46:\tlearn: 2793.0727627\ttotal: 229ms\tremaining: 87.9ms\n",
      "47:\tlearn: 2785.1243603\ttotal: 236ms\tremaining: 83.5ms\n",
      "48:\tlearn: 2782.1032593\ttotal: 239ms\tremaining: 78.2ms\n",
      "49:\tlearn: 2778.0669367\ttotal: 242ms\tremaining: 72.7ms\n",
      "50:\tlearn: 2771.6984552\ttotal: 246ms\tremaining: 67.6ms\n",
      "51:\tlearn: 2770.5859354\ttotal: 249ms\tremaining: 62.2ms\n",
      "52:\tlearn: 2768.0626116\ttotal: 252ms\tremaining: 57.1ms\n",
      "53:\tlearn: 2762.1869090\ttotal: 255ms\tremaining: 52ms\n",
      "54:\tlearn: 2760.1220016\ttotal: 259ms\tremaining: 47ms\n",
      "55:\tlearn: 2756.1948917\ttotal: 262ms\tremaining: 42.1ms\n",
      "56:\tlearn: 2752.9786557\ttotal: 265ms\tremaining: 37.2ms\n",
      "57:\tlearn: 2748.8899702\ttotal: 268ms\tremaining: 32.4ms\n",
      "58:\tlearn: 2744.2943857\ttotal: 271ms\tremaining: 27.6ms\n",
      "59:\tlearn: 2741.2839663\ttotal: 275ms\tremaining: 22.9ms\n",
      "60:\tlearn: 2736.6481910\ttotal: 278ms\tremaining: 18.2ms\n",
      "61:\tlearn: 2734.7432613\ttotal: 282ms\tremaining: 13.6ms\n",
      "62:\tlearn: 2731.6187094\ttotal: 285ms\tremaining: 9.04ms\n",
      "63:\tlearn: 2727.8522450\ttotal: 288ms\tremaining: 4.5ms\n",
      "64:\tlearn: 2721.7734837\ttotal: 291ms\tremaining: 0us\n"
     ]
    },
    {
     "data": {
      "text/plain": [
       "RandomizedSearchCV(cv=2, error_score='raise-deprecating',\n",
       "                   estimator=<catboost.core.CatBoostRegressor object at 0x00000265A53E3C50>,\n",
       "                   iid='warn', n_iter=10, n_jobs=-1,\n",
       "                   param_distributions={'depth': [6, 7, 8, 9, 10, 11, 12, 13,\n",
       "                                                  14, 15],\n",
       "                                        'iterations': [30, 35, 40, 45, 50, 55,\n",
       "                                                       60, 65, 70, 75, 80, 85,\n",
       "                                                       90, 95, 100],\n",
       "                                        'learning_rate': [0.01, 0.02, 0.03,\n",
       "                                                          0.04, 0.05, 0.06,\n",
       "                                                          0.07, 0.08, 0.09,\n",
       "                                                          0.1]},\n",
       "                   pre_dispatch='2*n_jobs', random_state=None, refit=True,\n",
       "                   return_train_score=False, scoring=None, verbose=0)"
      ]
     },
     "execution_count": 59,
     "metadata": {},
     "output_type": "execute_result"
    }
   ],
   "source": [
    "rand_search.fit(X_train, y_train)"
   ]
  },
  {
   "cell_type": "code",
   "execution_count": 60,
   "metadata": {
    "scrolled": false
   },
   "outputs": [
    {
     "name": "stdout",
     "output_type": "stream",
     "text": [
      "Result:\n",
      "\n",
      " the best estimator across all searched parmas:  <catboost.core.CatBoostRegressor object at 0x00000265A6B7BA90>\n",
      "\n",
      " the best score across all searched params:  0.5521158749980276\n",
      "\n",
      " the best parameters acress al best searched params:  {'learning_rate': 0.09, 'iterations': 65, 'depth': 6}\n"
     ]
    }
   ],
   "source": [
    "print('Result:')\n",
    "print('\\n the best estimator across all searched parmas: ', rand_search.best_estimator_)\n",
    "print('\\n the best score across all searched params: ', rand_search.best_score_)\n",
    "print('\\n the best parameters acress al best searched params: ', rand_search.best_params_)"
   ]
  },
  {
   "cell_type": "code",
   "execution_count": null,
   "metadata": {},
   "outputs": [],
   "source": []
  },
  {
   "cell_type": "code",
   "execution_count": null,
   "metadata": {},
   "outputs": [],
   "source": []
  },
  {
   "cell_type": "code",
   "execution_count": null,
   "metadata": {},
   "outputs": [],
   "source": []
  },
  {
   "cell_type": "code",
   "execution_count": 48,
   "metadata": {},
   "outputs": [],
   "source": [
    "from catboost import CatBoostRegressor"
   ]
  },
  {
   "cell_type": "code",
   "execution_count": 61,
   "metadata": {},
   "outputs": [],
   "source": [
    "cat_model = CatBoostRegressor(learning_rate=0.09, iterations=65, depth=6)"
   ]
  },
  {
   "cell_type": "code",
   "execution_count": 62,
   "metadata": {},
   "outputs": [
    {
     "name": "stdout",
     "output_type": "stream",
     "text": [
      "0:\tlearn: 4256.1478548\ttest: 4256.1478548\ttest1: 4395.6232992\tbest: 4395.6232992 (0)\ttotal: 4.23ms\tremaining: 271ms\n",
      "1:\tlearn: 4083.1986534\ttest: 4083.1986534\ttest1: 4227.8238785\tbest: 4227.8238785 (1)\ttotal: 7.39ms\tremaining: 233ms\n",
      "2:\tlearn: 3920.1649050\ttest: 3920.1649050\ttest1: 4069.2514032\tbest: 4069.2514032 (2)\ttotal: 9.69ms\tremaining: 200ms\n",
      "3:\tlearn: 3785.6395816\ttest: 3785.6395816\ttest1: 3936.3887168\tbest: 3936.3887168 (3)\ttotal: 12.8ms\tremaining: 195ms\n",
      "4:\tlearn: 3656.6716658\ttest: 3656.6716658\ttest1: 3807.8552369\tbest: 3807.8552369 (4)\ttotal: 15.8ms\tremaining: 190ms\n",
      "5:\tlearn: 3551.6331536\ttest: 3551.6331536\ttest1: 3706.1059704\tbest: 3706.1059704 (5)\ttotal: 18.9ms\tremaining: 186ms\n",
      "6:\tlearn: 3461.4243256\ttest: 3461.4243256\ttest1: 3619.7843732\tbest: 3619.7843732 (6)\ttotal: 22.3ms\tremaining: 185ms\n",
      "7:\tlearn: 3377.0833181\ttest: 3377.0833181\ttest1: 3536.7906524\tbest: 3536.7906524 (7)\ttotal: 25.5ms\tremaining: 182ms\n",
      "8:\tlearn: 3307.3056466\ttest: 3307.3056466\ttest1: 3467.7321444\tbest: 3467.7321444 (8)\ttotal: 28.7ms\tremaining: 179ms\n",
      "9:\tlearn: 3244.4874893\ttest: 3244.4874893\ttest1: 3404.8643436\tbest: 3404.8643436 (9)\ttotal: 32ms\tremaining: 176ms\n",
      "10:\tlearn: 3192.5235707\ttest: 3192.5235707\ttest1: 3353.8758623\tbest: 3353.8758623 (10)\ttotal: 35.1ms\tremaining: 172ms\n",
      "11:\tlearn: 3151.5848583\ttest: 3151.5848583\ttest1: 3316.7670911\tbest: 3316.7670911 (11)\ttotal: 38.2ms\tremaining: 169ms\n",
      "12:\tlearn: 3114.1003093\ttest: 3114.1003093\ttest1: 3284.6816824\tbest: 3284.6816824 (12)\ttotal: 41.3ms\tremaining: 165ms\n",
      "13:\tlearn: 3078.2455347\ttest: 3078.2455347\ttest1: 3253.2697011\tbest: 3253.2697011 (13)\ttotal: 44.4ms\tremaining: 162ms\n",
      "14:\tlearn: 3051.0874058\ttest: 3051.0874058\ttest1: 3228.9652347\tbest: 3228.9652347 (14)\ttotal: 47.5ms\tremaining: 158ms\n",
      "15:\tlearn: 3028.5869159\ttest: 3028.5869159\ttest1: 3208.1858190\tbest: 3208.1858190 (15)\ttotal: 50.9ms\tremaining: 156ms\n",
      "16:\tlearn: 3004.9786605\ttest: 3004.9786605\ttest1: 3184.6697833\tbest: 3184.6697833 (16)\ttotal: 54.3ms\tremaining: 153ms\n",
      "17:\tlearn: 2989.2514610\ttest: 2989.2514610\ttest1: 3168.2447976\tbest: 3168.2447976 (17)\ttotal: 57.8ms\tremaining: 151ms\n",
      "18:\tlearn: 2971.2802857\ttest: 2971.2802857\ttest1: 3150.9800222\tbest: 3150.9800222 (18)\ttotal: 60.9ms\tremaining: 148ms\n",
      "19:\tlearn: 2958.2735258\ttest: 2958.2735258\ttest1: 3139.4304205\tbest: 3139.4304205 (19)\ttotal: 63.2ms\tremaining: 142ms\n",
      "20:\tlearn: 2944.8522554\ttest: 2944.8522554\ttest1: 3128.8286455\tbest: 3128.8286455 (20)\ttotal: 66.3ms\tremaining: 139ms\n",
      "21:\tlearn: 2930.2537355\ttest: 2930.2537355\ttest1: 3115.8650547\tbest: 3115.8650547 (21)\ttotal: 69.5ms\tremaining: 136ms\n",
      "22:\tlearn: 2918.6298200\ttest: 2918.6298200\ttest1: 3104.7738052\tbest: 3104.7738052 (22)\ttotal: 72.6ms\tremaining: 133ms\n",
      "23:\tlearn: 2909.2223777\ttest: 2909.2223777\ttest1: 3097.8833297\tbest: 3097.8833297 (23)\ttotal: 76.3ms\tremaining: 130ms\n",
      "24:\tlearn: 2897.1069066\ttest: 2897.1069066\ttest1: 3095.6661356\tbest: 3095.6661356 (24)\ttotal: 79.9ms\tremaining: 128ms\n",
      "25:\tlearn: 2890.7401002\ttest: 2890.7401002\ttest1: 3089.4392737\tbest: 3089.4392737 (25)\ttotal: 83ms\tremaining: 124ms\n",
      "26:\tlearn: 2885.0383542\ttest: 2885.0383542\ttest1: 3084.9085530\tbest: 3084.9085530 (26)\ttotal: 86.1ms\tremaining: 121ms\n",
      "27:\tlearn: 2878.4984370\ttest: 2878.4984370\ttest1: 3080.8284558\tbest: 3080.8284558 (27)\ttotal: 89.1ms\tremaining: 118ms\n",
      "28:\tlearn: 2872.3944647\ttest: 2872.3944647\ttest1: 3078.9001006\tbest: 3078.9001006 (28)\ttotal: 92.2ms\tremaining: 115ms\n",
      "29:\tlearn: 2866.4546161\ttest: 2866.4546161\ttest1: 3074.7539005\tbest: 3074.7539005 (29)\ttotal: 96ms\tremaining: 112ms\n",
      "30:\tlearn: 2857.3931808\ttest: 2857.3931808\ttest1: 3076.5975260\tbest: 3074.7539005 (29)\ttotal: 101ms\tremaining: 111ms\n",
      "31:\tlearn: 2852.4719165\ttest: 2852.4719165\ttest1: 3074.2247036\tbest: 3074.2247036 (31)\ttotal: 105ms\tremaining: 108ms\n",
      "32:\tlearn: 2848.4027525\ttest: 2848.4027525\ttest1: 3070.5428809\tbest: 3070.5428809 (32)\ttotal: 110ms\tremaining: 107ms\n",
      "33:\tlearn: 2840.4234784\ttest: 2840.4234784\ttest1: 3071.8028246\tbest: 3070.5428809 (32)\ttotal: 114ms\tremaining: 104ms\n",
      "34:\tlearn: 2835.9420426\ttest: 2835.9420426\ttest1: 3071.5810809\tbest: 3070.5428809 (32)\ttotal: 117ms\tremaining: 100ms\n",
      "35:\tlearn: 2832.1179566\ttest: 2832.1179566\ttest1: 3070.7404067\tbest: 3070.5428809 (32)\ttotal: 120ms\tremaining: 96.9ms\n",
      "36:\tlearn: 2829.2335603\ttest: 2829.2335603\ttest1: 3069.7758029\tbest: 3069.7758029 (36)\ttotal: 123ms\tremaining: 93.4ms\n",
      "37:\tlearn: 2824.5873788\ttest: 2824.5873788\ttest1: 3070.1520131\tbest: 3069.7758029 (36)\ttotal: 127ms\tremaining: 90ms\n",
      "38:\tlearn: 2822.2011418\ttest: 2822.2011418\ttest1: 3069.5609922\tbest: 3069.5609922 (38)\ttotal: 130ms\tremaining: 86.5ms\n",
      "39:\tlearn: 2819.1729893\ttest: 2819.1729893\ttest1: 3068.2235652\tbest: 3068.2235652 (39)\ttotal: 133ms\tremaining: 83.1ms\n",
      "40:\tlearn: 2815.2514810\ttest: 2815.2514810\ttest1: 3067.1288544\tbest: 3067.1288544 (40)\ttotal: 136ms\tremaining: 79.8ms\n",
      "41:\tlearn: 2811.5631739\ttest: 2811.5631739\ttest1: 3066.0761412\tbest: 3066.0761412 (41)\ttotal: 140ms\tremaining: 76.4ms\n",
      "42:\tlearn: 2807.9378506\ttest: 2807.9378506\ttest1: 3065.1248061\tbest: 3065.1248061 (42)\ttotal: 143ms\tremaining: 73ms\n",
      "43:\tlearn: 2804.4182602\ttest: 2804.4182602\ttest1: 3062.6655530\tbest: 3062.6655530 (43)\ttotal: 146ms\tremaining: 69.6ms\n",
      "44:\tlearn: 2801.5342546\ttest: 2801.5342546\ttest1: 3062.1562517\tbest: 3062.1562517 (44)\ttotal: 149ms\tremaining: 66.2ms\n",
      "45:\tlearn: 2797.5237704\ttest: 2797.5237704\ttest1: 3061.2359235\tbest: 3061.2359235 (45)\ttotal: 152ms\tremaining: 62.8ms\n",
      "46:\tlearn: 2793.0727627\ttest: 2793.0727627\ttest1: 3061.8951128\tbest: 3061.2359235 (45)\ttotal: 155ms\tremaining: 59.4ms\n",
      "47:\tlearn: 2785.1243603\ttest: 2785.1243603\ttest1: 3065.2202190\tbest: 3061.2359235 (45)\ttotal: 159ms\tremaining: 56.2ms\n",
      "48:\tlearn: 2782.1032593\ttest: 2782.1032593\ttest1: 3064.4803177\tbest: 3061.2359235 (45)\ttotal: 163ms\tremaining: 53.1ms\n",
      "49:\tlearn: 2778.0669367\ttest: 2778.0669367\ttest1: 3063.7168761\tbest: 3061.2359235 (45)\ttotal: 167ms\tremaining: 50ms\n",
      "50:\tlearn: 2771.6984552\ttest: 2771.6984552\ttest1: 3067.2450257\tbest: 3061.2359235 (45)\ttotal: 170ms\tremaining: 46.7ms\n",
      "51:\tlearn: 2770.5859354\ttest: 2770.5859354\ttest1: 3066.9977300\tbest: 3061.2359235 (45)\ttotal: 172ms\tremaining: 43ms\n",
      "52:\tlearn: 2768.0626116\ttest: 2768.0626116\ttest1: 3066.7291971\tbest: 3061.2359235 (45)\ttotal: 179ms\tremaining: 40.5ms\n",
      "53:\tlearn: 2762.1869090\ttest: 2762.1869090\ttest1: 3065.9237388\tbest: 3061.2359235 (45)\ttotal: 182ms\tremaining: 37.1ms\n",
      "54:\tlearn: 2760.1220016\ttest: 2760.1220016\ttest1: 3064.3271632\tbest: 3061.2359235 (45)\ttotal: 186ms\tremaining: 33.8ms\n",
      "55:\tlearn: 2756.1948917\ttest: 2756.1948917\ttest1: 3063.3480536\tbest: 3061.2359235 (45)\ttotal: 189ms\tremaining: 30.4ms\n",
      "56:\tlearn: 2752.9786557\ttest: 2752.9786557\ttest1: 3063.8053852\tbest: 3061.2359235 (45)\ttotal: 192ms\tremaining: 27ms\n",
      "57:\tlearn: 2748.8899702\ttest: 2748.8899702\ttest1: 3064.9748245\tbest: 3061.2359235 (45)\ttotal: 197ms\tremaining: 23.8ms\n",
      "58:\tlearn: 2744.2943857\ttest: 2744.2943857\ttest1: 3065.0789696\tbest: 3061.2359235 (45)\ttotal: 202ms\tremaining: 20.5ms\n",
      "59:\tlearn: 2741.2839663\ttest: 2741.2839663\ttest1: 3065.8205936\tbest: 3061.2359235 (45)\ttotal: 206ms\tremaining: 17.2ms\n",
      "60:\tlearn: 2736.6481910\ttest: 2736.6481910\ttest1: 3068.1635208\tbest: 3061.2359235 (45)\ttotal: 212ms\tremaining: 13.9ms\n",
      "61:\tlearn: 2734.7432613\ttest: 2734.7432613\ttest1: 3066.5658945\tbest: 3061.2359235 (45)\ttotal: 215ms\tremaining: 10.4ms\n",
      "62:\tlearn: 2731.6187094\ttest: 2731.6187094\ttest1: 3067.0659612\tbest: 3061.2359235 (45)\ttotal: 218ms\tremaining: 6.92ms\n",
      "63:\tlearn: 2727.8522450\ttest: 2727.8522450\ttest1: 3068.9457961\tbest: 3061.2359235 (45)\ttotal: 221ms\tremaining: 3.45ms\n",
      "64:\tlearn: 2721.7734837\ttest: 2721.7734837\ttest1: 3068.5171578\tbest: 3061.2359235 (45)\ttotal: 225ms\tremaining: 0us\n",
      "\n",
      "bestTest = 3061.235924\n",
      "bestIteration = 45\n",
      "\n",
      "Shrink model to first 46 iterations.\n"
     ]
    },
    {
     "data": {
      "text/plain": [
       "<catboost.core.CatBoostRegressor at 0x265a6b7bb00>"
      ]
     },
     "execution_count": 62,
     "metadata": {},
     "output_type": "execute_result"
    }
   ],
   "source": [
    "cat_model.fit(X_train, y_train, eval_set=[(X_train, y_train), (X_test, y_test)], early_stopping_rounds=500, use_best_model=True)"
   ]
  },
  {
   "cell_type": "code",
   "execution_count": 63,
   "metadata": {},
   "outputs": [],
   "source": [
    "cat_pred = cat_model.predict(test)"
   ]
  },
  {
   "cell_type": "code",
   "execution_count": 64,
   "metadata": {},
   "outputs": [],
   "source": [
    "submit['Product_Supermarket_Sales'] = cat_pred"
   ]
  },
  {
   "cell_type": "code",
   "execution_count": 65,
   "metadata": {},
   "outputs": [],
   "source": [
    "submit.to_csv('catboost_sub.csv', index=None)"
   ]
  },
  {
   "cell_type": "code",
   "execution_count": null,
   "metadata": {},
   "outputs": [],
   "source": []
  },
  {
   "cell_type": "code",
   "execution_count": null,
   "metadata": {},
   "outputs": [],
   "source": []
  },
  {
   "cell_type": "code",
   "execution_count": null,
   "metadata": {},
   "outputs": [],
   "source": []
  }
 ],
 "metadata": {
  "kernelspec": {
   "display_name": "Python 3",
   "language": "python",
   "name": "python3"
  },
  "language_info": {
   "codemirror_mode": {
    "name": "ipython",
    "version": 3
   },
   "file_extension": ".py",
   "mimetype": "text/x-python",
   "name": "python",
   "nbconvert_exporter": "python",
   "pygments_lexer": "ipython3",
   "version": "3.7.3"
  }
 },
 "nbformat": 4,
 "nbformat_minor": 2
}
