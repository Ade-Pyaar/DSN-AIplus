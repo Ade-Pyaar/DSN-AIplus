{
 "cells": [
  {
   "cell_type": "code",
   "execution_count": 1,
   "metadata": {},
   "outputs": [],
   "source": [
    "import numpy as np\n",
    "import pandas as pd\n",
    "import math\n",
    "\n",
    "from sklearn.model_selection import train_test_split, RandomizedSearchCV\n",
    "from sklearn.metrics import mean_squared_error\n",
    "from sklearn.preprocessing import OrdinalEncoder, scale"
   ]
  },
  {
   "cell_type": "code",
   "execution_count": 2,
   "metadata": {},
   "outputs": [],
   "source": [
    "pd.set_option('display.max_columns', None)\n",
    "pd.set_option('display.max_rows', None)"
   ]
  },
  {
   "cell_type": "code",
   "execution_count": 3,
   "metadata": {},
   "outputs": [],
   "source": [
    "train  = pd.read_csv('Train.csv')\n",
    "test = pd.read_csv('Test.csv')\n",
    "submit = pd.read_csv('Sample_submission.csv')"
   ]
  },
  {
   "cell_type": "code",
   "execution_count": 4,
   "metadata": {},
   "outputs": [],
   "source": [
    "train['Supermarket _Size'] = train['Supermarket _Size'].fillna('High')"
   ]
  },
  {
   "cell_type": "code",
   "execution_count": 5,
   "metadata": {},
   "outputs": [],
   "source": [
    "test['Supermarket _Size'] = test['Supermarket _Size'].fillna('High')"
   ]
  },
  {
   "cell_type": "code",
   "execution_count": 6,
   "metadata": {},
   "outputs": [],
   "source": [
    "a = train['Product_Weight'].mean()\n",
    "\n",
    "train['Product_Weight'] = train['Product_Weight'].fillna(a)"
   ]
  },
  {
   "cell_type": "code",
   "execution_count": 7,
   "metadata": {},
   "outputs": [],
   "source": [
    "b = train['Product_Weight'].mean()\n",
    "\n",
    "test['Product_Weight'] = test['Product_Weight'].fillna(b)"
   ]
  },
  {
   "cell_type": "code",
   "execution_count": 8,
   "metadata": {},
   "outputs": [],
   "source": [
    "train.drop(['Product_Identifier', 'Supermarket_Identifier', 'Product_Supermarket_Identifier',], axis=1, inplace=True)\n",
    "test.drop(['Product_Identifier', 'Supermarket_Identifier', 'Product_Supermarket_Identifier'], axis=1, inplace=True)"
   ]
  },
  {
   "cell_type": "code",
   "execution_count": 9,
   "metadata": {},
   "outputs": [],
   "source": [
    "train['PPW'] = train['Product_Weight'] * train['Product_Price']\n",
    "test['PPW'] = test['Product_Weight'] * test['Product_Price']"
   ]
  },
  {
   "cell_type": "code",
   "execution_count": 10,
   "metadata": {},
   "outputs": [],
   "source": [
    "train['APP'] = train['Average_Price_per_ProductType'] / train['Product_Price']\n",
    "test['APP'] = test['Average_Price_per_ProductType'] / test['Product_Price']"
   ]
  },
  {
   "cell_type": "code",
   "execution_count": 11,
   "metadata": {},
   "outputs": [],
   "source": [
    "train['PSV'] = train['Product_Shelf_Visibility'] * 100\n",
    "test['PSV'] = test['Product_Shelf_Visibility'] * 100"
   ]
  },
  {
   "cell_type": "code",
   "execution_count": 12,
   "metadata": {},
   "outputs": [],
   "source": [
    "def ordinal_encode(e_train, e_test):\n",
    "    ord_enc = OrdinalEncoder()\n",
    "    ord_enc.fit(e_train)\n",
    "    train_encode = ord_enc.transform(e_train)\n",
    "    test_encode = ord_enc.transform(e_test)\n",
    "    return train_encode, test_encode"
   ]
  },
  {
   "cell_type": "code",
   "execution_count": 13,
   "metadata": {},
   "outputs": [],
   "source": [
    "col_encode = ['Product_Fat_Content', 'Product_Type', 'Supermarket _Size', 'Supermarket_Location_Type', 'Supermarket_Type']"
   ]
  },
  {
   "cell_type": "code",
   "execution_count": 14,
   "metadata": {},
   "outputs": [],
   "source": [
    "train_cate = train[col_encode]"
   ]
  },
  {
   "cell_type": "code",
   "execution_count": 15,
   "metadata": {},
   "outputs": [],
   "source": [
    "test_cate = test[col_encode]"
   ]
  },
  {
   "cell_type": "code",
   "execution_count": 16,
   "metadata": {},
   "outputs": [],
   "source": [
    "train_cate_encode, test_cate_encode = ordinal_encode(train_cate, test_cate)"
   ]
  },
  {
   "cell_type": "code",
   "execution_count": 17,
   "metadata": {},
   "outputs": [],
   "source": [
    "train[col_encode] = pd.DataFrame(train_cate_encode)\n",
    "test[col_encode] = pd.DataFrame(test_cate_encode)"
   ]
  },
  {
   "cell_type": "code",
   "execution_count": null,
   "metadata": {},
   "outputs": [],
   "source": []
  },
  {
   "cell_type": "code",
   "execution_count": 18,
   "metadata": {
    "scrolled": true
   },
   "outputs": [
    {
     "data": {
      "text/html": [
       "<div>\n",
       "<style scoped>\n",
       "    .dataframe tbody tr th:only-of-type {\n",
       "        vertical-align: middle;\n",
       "    }\n",
       "\n",
       "    .dataframe tbody tr th {\n",
       "        vertical-align: top;\n",
       "    }\n",
       "\n",
       "    .dataframe thead th {\n",
       "        text-align: right;\n",
       "    }\n",
       "</style>\n",
       "<table border=\"1\" class=\"dataframe\">\n",
       "  <thead>\n",
       "    <tr style=\"text-align: right;\">\n",
       "      <th></th>\n",
       "      <th>Product_Weight</th>\n",
       "      <th>Product_Fat_Content</th>\n",
       "      <th>Product_Shelf_Visibility</th>\n",
       "      <th>Product_Type</th>\n",
       "      <th>Product_Price</th>\n",
       "      <th>Supermarket_Opening_Year</th>\n",
       "      <th>Supermarket _Size</th>\n",
       "      <th>Supermarket_Location_Type</th>\n",
       "      <th>Supermarket_Type</th>\n",
       "      <th>Average_Price_per_ProductType</th>\n",
       "      <th>Product_Supermarket_Sales</th>\n",
       "      <th>PPW</th>\n",
       "      <th>APP</th>\n",
       "      <th>PSV</th>\n",
       "    </tr>\n",
       "  </thead>\n",
       "  <tbody>\n",
       "    <tr>\n",
       "      <th>0</th>\n",
       "      <td>10.500</td>\n",
       "      <td>0.0</td>\n",
       "      <td>0.027276</td>\n",
       "      <td>9.0</td>\n",
       "      <td>428.28</td>\n",
       "      <td>2004</td>\n",
       "      <td>2.0</td>\n",
       "      <td>0.0</td>\n",
       "      <td>1.0</td>\n",
       "      <td>399.999418</td>\n",
       "      <td>8983.31</td>\n",
       "      <td>4496.94000</td>\n",
       "      <td>0.933967</td>\n",
       "      <td>2.727641</td>\n",
       "    </tr>\n",
       "    <tr>\n",
       "      <th>1</th>\n",
       "      <td>10.000</td>\n",
       "      <td>0.0</td>\n",
       "      <td>0.045928</td>\n",
       "      <td>5.0</td>\n",
       "      <td>345.30</td>\n",
       "      <td>2006</td>\n",
       "      <td>1.0</td>\n",
       "      <td>0.0</td>\n",
       "      <td>1.0</td>\n",
       "      <td>388.071094</td>\n",
       "      <td>4893.63</td>\n",
       "      <td>3453.00000</td>\n",
       "      <td>1.123866</td>\n",
       "      <td>4.592823</td>\n",
       "    </tr>\n",
       "    <tr>\n",
       "      <th>2</th>\n",
       "      <td>8.235</td>\n",
       "      <td>0.0</td>\n",
       "      <td>0.014489</td>\n",
       "      <td>8.0</td>\n",
       "      <td>459.49</td>\n",
       "      <td>2009</td>\n",
       "      <td>0.0</td>\n",
       "      <td>1.0</td>\n",
       "      <td>1.0</td>\n",
       "      <td>367.143029</td>\n",
       "      <td>7323.80</td>\n",
       "      <td>3783.90015</td>\n",
       "      <td>0.799023</td>\n",
       "      <td>1.448900</td>\n",
       "    </tr>\n",
       "    <tr>\n",
       "      <th>3</th>\n",
       "      <td>18.850</td>\n",
       "      <td>0.0</td>\n",
       "      <td>0.016108</td>\n",
       "      <td>8.0</td>\n",
       "      <td>324.41</td>\n",
       "      <td>2004</td>\n",
       "      <td>2.0</td>\n",
       "      <td>0.0</td>\n",
       "      <td>1.0</td>\n",
       "      <td>367.143029</td>\n",
       "      <td>7541.85</td>\n",
       "      <td>6115.12850</td>\n",
       "      <td>1.131725</td>\n",
       "      <td>1.610755</td>\n",
       "    </tr>\n",
       "    <tr>\n",
       "      <th>4</th>\n",
       "      <td>12.600</td>\n",
       "      <td>1.0</td>\n",
       "      <td>0.074070</td>\n",
       "      <td>4.0</td>\n",
       "      <td>635.59</td>\n",
       "      <td>2009</td>\n",
       "      <td>0.0</td>\n",
       "      <td>1.0</td>\n",
       "      <td>1.0</td>\n",
       "      <td>409.504343</td>\n",
       "      <td>11445.10</td>\n",
       "      <td>8008.43400</td>\n",
       "      <td>0.644290</td>\n",
       "      <td>7.407035</td>\n",
       "    </tr>\n",
       "  </tbody>\n",
       "</table>\n",
       "</div>"
      ],
      "text/plain": [
       "   Product_Weight  Product_Fat_Content  Product_Shelf_Visibility  \\\n",
       "0          10.500                  0.0                  0.027276   \n",
       "1          10.000                  0.0                  0.045928   \n",
       "2           8.235                  0.0                  0.014489   \n",
       "3          18.850                  0.0                  0.016108   \n",
       "4          12.600                  1.0                  0.074070   \n",
       "\n",
       "   Product_Type  Product_Price  Supermarket_Opening_Year  Supermarket _Size  \\\n",
       "0           9.0         428.28                      2004                2.0   \n",
       "1           5.0         345.30                      2006                1.0   \n",
       "2           8.0         459.49                      2009                0.0   \n",
       "3           8.0         324.41                      2004                2.0   \n",
       "4           4.0         635.59                      2009                0.0   \n",
       "\n",
       "   Supermarket_Location_Type  Supermarket_Type  Average_Price_per_ProductType  \\\n",
       "0                        0.0               1.0                     399.999418   \n",
       "1                        0.0               1.0                     388.071094   \n",
       "2                        1.0               1.0                     367.143029   \n",
       "3                        0.0               1.0                     367.143029   \n",
       "4                        1.0               1.0                     409.504343   \n",
       "\n",
       "   Product_Supermarket_Sales         PPW       APP       PSV  \n",
       "0                    8983.31  4496.94000  0.933967  2.727641  \n",
       "1                    4893.63  3453.00000  1.123866  4.592823  \n",
       "2                    7323.80  3783.90015  0.799023  1.448900  \n",
       "3                    7541.85  6115.12850  1.131725  1.610755  \n",
       "4                   11445.10  8008.43400  0.644290  7.407035  "
      ]
     },
     "execution_count": 18,
     "metadata": {},
     "output_type": "execute_result"
    }
   ],
   "source": [
    "train.head()"
   ]
  },
  {
   "cell_type": "code",
   "execution_count": 19,
   "metadata": {},
   "outputs": [
    {
     "data": {
      "text/html": [
       "<div>\n",
       "<style scoped>\n",
       "    .dataframe tbody tr th:only-of-type {\n",
       "        vertical-align: middle;\n",
       "    }\n",
       "\n",
       "    .dataframe tbody tr th {\n",
       "        vertical-align: top;\n",
       "    }\n",
       "\n",
       "    .dataframe thead th {\n",
       "        text-align: right;\n",
       "    }\n",
       "</style>\n",
       "<table border=\"1\" class=\"dataframe\">\n",
       "  <thead>\n",
       "    <tr style=\"text-align: right;\">\n",
       "      <th></th>\n",
       "      <th>Product_Weight</th>\n",
       "      <th>Product_Fat_Content</th>\n",
       "      <th>Product_Shelf_Visibility</th>\n",
       "      <th>Product_Type</th>\n",
       "      <th>Product_Price</th>\n",
       "      <th>Supermarket_Opening_Year</th>\n",
       "      <th>Supermarket _Size</th>\n",
       "      <th>Supermarket_Location_Type</th>\n",
       "      <th>Supermarket_Type</th>\n",
       "      <th>Average_Price_per_ProductType</th>\n",
       "      <th>PPW</th>\n",
       "      <th>APP</th>\n",
       "      <th>PSV</th>\n",
       "    </tr>\n",
       "  </thead>\n",
       "  <tbody>\n",
       "    <tr>\n",
       "      <th>0</th>\n",
       "      <td>20.20</td>\n",
       "      <td>1.0</td>\n",
       "      <td>0.121153</td>\n",
       "      <td>13.0</td>\n",
       "      <td>243.44</td>\n",
       "      <td>1994</td>\n",
       "      <td>0.0</td>\n",
       "      <td>2.0</td>\n",
       "      <td>1.0</td>\n",
       "      <td>395.352190</td>\n",
       "      <td>4917.4880</td>\n",
       "      <td>1.624023</td>\n",
       "      <td>12.115333</td>\n",
       "    </tr>\n",
       "    <tr>\n",
       "      <th>1</th>\n",
       "      <td>17.60</td>\n",
       "      <td>0.0</td>\n",
       "      <td>0.049268</td>\n",
       "      <td>13.0</td>\n",
       "      <td>282.54</td>\n",
       "      <td>2016</td>\n",
       "      <td>1.0</td>\n",
       "      <td>2.0</td>\n",
       "      <td>2.0</td>\n",
       "      <td>395.352190</td>\n",
       "      <td>4972.7040</td>\n",
       "      <td>1.399279</td>\n",
       "      <td>4.926776</td>\n",
       "    </tr>\n",
       "    <tr>\n",
       "      <th>2</th>\n",
       "      <td>17.10</td>\n",
       "      <td>0.0</td>\n",
       "      <td>0.032761</td>\n",
       "      <td>5.0</td>\n",
       "      <td>372.10</td>\n",
       "      <td>2016</td>\n",
       "      <td>1.0</td>\n",
       "      <td>2.0</td>\n",
       "      <td>2.0</td>\n",
       "      <td>388.071094</td>\n",
       "      <td>6362.9100</td>\n",
       "      <td>1.042922</td>\n",
       "      <td>3.276102</td>\n",
       "    </tr>\n",
       "    <tr>\n",
       "      <th>3</th>\n",
       "      <td>17.75</td>\n",
       "      <td>0.0</td>\n",
       "      <td>0.000000</td>\n",
       "      <td>11.0</td>\n",
       "      <td>271.73</td>\n",
       "      <td>2016</td>\n",
       "      <td>1.0</td>\n",
       "      <td>2.0</td>\n",
       "      <td>2.0</td>\n",
       "      <td>388.607700</td>\n",
       "      <td>4823.2075</td>\n",
       "      <td>1.430124</td>\n",
       "      <td>0.000000</td>\n",
       "    </tr>\n",
       "    <tr>\n",
       "      <th>4</th>\n",
       "      <td>19.60</td>\n",
       "      <td>0.0</td>\n",
       "      <td>0.023951</td>\n",
       "      <td>9.0</td>\n",
       "      <td>264.24</td>\n",
       "      <td>2004</td>\n",
       "      <td>2.0</td>\n",
       "      <td>0.0</td>\n",
       "      <td>1.0</td>\n",
       "      <td>399.999418</td>\n",
       "      <td>5179.1040</td>\n",
       "      <td>1.513773</td>\n",
       "      <td>2.395115</td>\n",
       "    </tr>\n",
       "  </tbody>\n",
       "</table>\n",
       "</div>"
      ],
      "text/plain": [
       "   Product_Weight  Product_Fat_Content  Product_Shelf_Visibility  \\\n",
       "0           20.20                  1.0                  0.121153   \n",
       "1           17.60                  0.0                  0.049268   \n",
       "2           17.10                  0.0                  0.032761   \n",
       "3           17.75                  0.0                  0.000000   \n",
       "4           19.60                  0.0                  0.023951   \n",
       "\n",
       "   Product_Type  Product_Price  Supermarket_Opening_Year  Supermarket _Size  \\\n",
       "0          13.0         243.44                      1994                0.0   \n",
       "1          13.0         282.54                      2016                1.0   \n",
       "2           5.0         372.10                      2016                1.0   \n",
       "3          11.0         271.73                      2016                1.0   \n",
       "4           9.0         264.24                      2004                2.0   \n",
       "\n",
       "   Supermarket_Location_Type  Supermarket_Type  Average_Price_per_ProductType  \\\n",
       "0                        2.0               1.0                     395.352190   \n",
       "1                        2.0               2.0                     395.352190   \n",
       "2                        2.0               2.0                     388.071094   \n",
       "3                        2.0               2.0                     388.607700   \n",
       "4                        0.0               1.0                     399.999418   \n",
       "\n",
       "         PPW       APP        PSV  \n",
       "0  4917.4880  1.624023  12.115333  \n",
       "1  4972.7040  1.399279   4.926776  \n",
       "2  6362.9100  1.042922   3.276102  \n",
       "3  4823.2075  1.430124   0.000000  \n",
       "4  5179.1040  1.513773   2.395115  "
      ]
     },
     "execution_count": 19,
     "metadata": {},
     "output_type": "execute_result"
    }
   ],
   "source": [
    "test.head()"
   ]
  },
  {
   "cell_type": "code",
   "execution_count": 16,
   "metadata": {
    "collapsed": true
   },
   "outputs": [
    {
     "name": "stdout",
     "output_type": "stream",
     "text": [
      "<class 'pandas.core.frame.DataFrame'>\n",
      "RangeIndex: 2994 entries, 0 to 2993\n",
      "Data columns (total 14 columns):\n",
      "Product_Weight                   2994 non-null float64\n",
      "Product_Fat_Content              2994 non-null object\n",
      "Product_Shelf_Visibility         2994 non-null float64\n",
      "Product_Type                     2994 non-null object\n",
      "Product_Price                    2994 non-null float64\n",
      "Supermarket_Opening_Year         2994 non-null int64\n",
      "Supermarket _Size                2994 non-null object\n",
      "Supermarket_Location_Type        2994 non-null object\n",
      "Supermarket_Type                 2994 non-null object\n",
      "Average_Price_per_ProductType    2994 non-null float64\n",
      "Product_Supermarket_Sales        2994 non-null float64\n",
      "PPW                              2994 non-null float64\n",
      "APP                              2994 non-null float64\n",
      "PSV                              2994 non-null float64\n",
      "dtypes: float64(8), int64(1), object(5)\n",
      "memory usage: 327.5+ KB\n"
     ]
    }
   ],
   "source": [
    "train.info()"
   ]
  },
  {
   "cell_type": "code",
   "execution_count": 17,
   "metadata": {
    "collapsed": true
   },
   "outputs": [
    {
     "name": "stdout",
     "output_type": "stream",
     "text": [
      "<class 'pandas.core.frame.DataFrame'>\n",
      "RangeIndex: 1996 entries, 0 to 1995\n",
      "Data columns (total 13 columns):\n",
      "Product_Weight                   1996 non-null float64\n",
      "Product_Fat_Content              1996 non-null object\n",
      "Product_Shelf_Visibility         1996 non-null float64\n",
      "Product_Type                     1996 non-null object\n",
      "Product_Price                    1996 non-null float64\n",
      "Supermarket_Opening_Year         1996 non-null int64\n",
      "Supermarket _Size                1996 non-null object\n",
      "Supermarket_Location_Type        1996 non-null object\n",
      "Supermarket_Type                 1996 non-null object\n",
      "Average_Price_per_ProductType    1996 non-null float64\n",
      "PPW                              1996 non-null float64\n",
      "APP                              1996 non-null float64\n",
      "PSV                              1996 non-null float64\n",
      "dtypes: float64(7), int64(1), object(5)\n",
      "memory usage: 202.8+ KB\n"
     ]
    }
   ],
   "source": [
    "test.info()"
   ]
  },
  {
   "cell_type": "code",
   "execution_count": null,
   "metadata": {},
   "outputs": [],
   "source": []
  },
  {
   "cell_type": "code",
   "execution_count": null,
   "metadata": {},
   "outputs": [],
   "source": []
  },
  {
   "cell_type": "code",
   "execution_count": null,
   "metadata": {},
   "outputs": [],
   "source": []
  },
  {
   "cell_type": "code",
   "execution_count": null,
   "metadata": {},
   "outputs": [],
   "source": []
  },
  {
   "cell_type": "code",
   "execution_count": null,
   "metadata": {},
   "outputs": [],
   "source": []
  },
  {
   "cell_type": "code",
   "execution_count": null,
   "metadata": {},
   "outputs": [],
   "source": []
  },
  {
   "cell_type": "code",
   "execution_count": 20,
   "metadata": {},
   "outputs": [],
   "source": [
    "X = train.drop('Product_Supermarket_Sales', axis=1)\n",
    "y = train['Product_Supermarket_Sales']"
   ]
  },
  {
   "cell_type": "code",
   "execution_count": 21,
   "metadata": {},
   "outputs": [],
   "source": [
    "X_train, X_test, y_train, y_test = train_test_split(X, y, test_size=0.25, random_state=101)"
   ]
  },
  {
   "cell_type": "code",
   "execution_count": null,
   "metadata": {},
   "outputs": [],
   "source": []
  },
  {
   "cell_type": "code",
   "execution_count": null,
   "metadata": {},
   "outputs": [],
   "source": []
  },
  {
   "cell_type": "code",
   "execution_count": 22,
   "metadata": {},
   "outputs": [],
   "source": [
    "from sklearn.ensemble import RandomForestRegressor"
   ]
  },
  {
   "cell_type": "code",
   "execution_count": 23,
   "metadata": {},
   "outputs": [],
   "source": [
    "rfc_model = RandomForestRegressor(n_estimators=1000, max_depth=None, min_samples_split=10, max_leaf_nodes=50)"
   ]
  },
  {
   "cell_type": "code",
   "execution_count": 24,
   "metadata": {},
   "outputs": [
    {
     "data": {
      "text/plain": [
       "RandomForestRegressor(bootstrap=True, criterion='mse', max_depth=None,\n",
       "                      max_features='auto', max_leaf_nodes=50,\n",
       "                      min_impurity_decrease=0.0, min_impurity_split=None,\n",
       "                      min_samples_leaf=1, min_samples_split=10,\n",
       "                      min_weight_fraction_leaf=0.0, n_estimators=1000,\n",
       "                      n_jobs=None, oob_score=False, random_state=None,\n",
       "                      verbose=0, warm_start=False)"
      ]
     },
     "execution_count": 24,
     "metadata": {},
     "output_type": "execute_result"
    }
   ],
   "source": [
    "rfc_model.fit(X_train, y_train)"
   ]
  },
  {
   "cell_type": "code",
   "execution_count": 25,
   "metadata": {},
   "outputs": [],
   "source": [
    "rfc_pred = rfc_model.predict(X_test)"
   ]
  },
  {
   "cell_type": "code",
   "execution_count": 26,
   "metadata": {},
   "outputs": [],
   "source": [
    "rfc_score = mean_squared_error(y_test, rfc_pred)"
   ]
  },
  {
   "cell_type": "code",
   "execution_count": 27,
   "metadata": {},
   "outputs": [
    {
     "data": {
      "text/plain": [
       "3111.879557932649"
      ]
     },
     "execution_count": 27,
     "metadata": {},
     "output_type": "execute_result"
    }
   ],
   "source": [
    "math.sqrt(rfc_score)"
   ]
  },
  {
   "cell_type": "code",
   "execution_count": 28,
   "metadata": {},
   "outputs": [],
   "source": [
    "rfc_final = rfc_model.predict(test)"
   ]
  },
  {
   "cell_type": "code",
   "execution_count": 29,
   "metadata": {},
   "outputs": [
    {
     "data": {
      "text/html": [
       "<div>\n",
       "<style scoped>\n",
       "    .dataframe tbody tr th:only-of-type {\n",
       "        vertical-align: middle;\n",
       "    }\n",
       "\n",
       "    .dataframe tbody tr th {\n",
       "        vertical-align: top;\n",
       "    }\n",
       "\n",
       "    .dataframe thead th {\n",
       "        text-align: right;\n",
       "    }\n",
       "</style>\n",
       "<table border=\"1\" class=\"dataframe\">\n",
       "  <thead>\n",
       "    <tr style=\"text-align: right;\">\n",
       "      <th></th>\n",
       "      <th>Product_Supermarket_Identifier</th>\n",
       "      <th>Product_Supermarket_Sales</th>\n",
       "    </tr>\n",
       "  </thead>\n",
       "  <tbody>\n",
       "    <tr>\n",
       "      <th>0</th>\n",
       "      <td>FDY57_CHUKWUDI013</td>\n",
       "      <td>0</td>\n",
       "    </tr>\n",
       "    <tr>\n",
       "      <th>1</th>\n",
       "      <td>FDY10_CHUKWUDI018</td>\n",
       "      <td>0</td>\n",
       "    </tr>\n",
       "    <tr>\n",
       "      <th>2</th>\n",
       "      <td>FDO40_CHUKWUDI018</td>\n",
       "      <td>0</td>\n",
       "    </tr>\n",
       "    <tr>\n",
       "      <th>3</th>\n",
       "      <td>NCQ43_CHUKWUDI018</td>\n",
       "      <td>0</td>\n",
       "    </tr>\n",
       "    <tr>\n",
       "      <th>4</th>\n",
       "      <td>NCC07_CHUKWUDI046</td>\n",
       "      <td>0</td>\n",
       "    </tr>\n",
       "  </tbody>\n",
       "</table>\n",
       "</div>"
      ],
      "text/plain": [
       "  Product_Supermarket_Identifier  Product_Supermarket_Sales\n",
       "0              FDY57_CHUKWUDI013                          0\n",
       "1              FDY10_CHUKWUDI018                          0\n",
       "2              FDO40_CHUKWUDI018                          0\n",
       "3              NCQ43_CHUKWUDI018                          0\n",
       "4              NCC07_CHUKWUDI046                          0"
      ]
     },
     "execution_count": 29,
     "metadata": {},
     "output_type": "execute_result"
    }
   ],
   "source": [
    "submit.head()"
   ]
  },
  {
   "cell_type": "code",
   "execution_count": 30,
   "metadata": {},
   "outputs": [],
   "source": [
    "submit['Product_Supermarket_Sales'] = rfc_final"
   ]
  },
  {
   "cell_type": "code",
   "execution_count": 31,
   "metadata": {},
   "outputs": [
    {
     "data": {
      "text/html": [
       "<div>\n",
       "<style scoped>\n",
       "    .dataframe tbody tr th:only-of-type {\n",
       "        vertical-align: middle;\n",
       "    }\n",
       "\n",
       "    .dataframe tbody tr th {\n",
       "        vertical-align: top;\n",
       "    }\n",
       "\n",
       "    .dataframe thead th {\n",
       "        text-align: right;\n",
       "    }\n",
       "</style>\n",
       "<table border=\"1\" class=\"dataframe\">\n",
       "  <thead>\n",
       "    <tr style=\"text-align: right;\">\n",
       "      <th></th>\n",
       "      <th>Product_Supermarket_Identifier</th>\n",
       "      <th>Product_Supermarket_Sales</th>\n",
       "    </tr>\n",
       "  </thead>\n",
       "  <tbody>\n",
       "    <tr>\n",
       "      <th>0</th>\n",
       "      <td>FDY57_CHUKWUDI013</td>\n",
       "      <td>3854.703533</td>\n",
       "    </tr>\n",
       "    <tr>\n",
       "      <th>1</th>\n",
       "      <td>FDY10_CHUKWUDI018</td>\n",
       "      <td>4523.149135</td>\n",
       "    </tr>\n",
       "    <tr>\n",
       "      <th>2</th>\n",
       "      <td>FDO40_CHUKWUDI018</td>\n",
       "      <td>5930.809756</td>\n",
       "    </tr>\n",
       "    <tr>\n",
       "      <th>3</th>\n",
       "      <td>NCQ43_CHUKWUDI018</td>\n",
       "      <td>4085.107423</td>\n",
       "    </tr>\n",
       "    <tr>\n",
       "      <th>4</th>\n",
       "      <td>NCC07_CHUKWUDI046</td>\n",
       "      <td>4022.213649</td>\n",
       "    </tr>\n",
       "  </tbody>\n",
       "</table>\n",
       "</div>"
      ],
      "text/plain": [
       "  Product_Supermarket_Identifier  Product_Supermarket_Sales\n",
       "0              FDY57_CHUKWUDI013                3854.703533\n",
       "1              FDY10_CHUKWUDI018                4523.149135\n",
       "2              FDO40_CHUKWUDI018                5930.809756\n",
       "3              NCQ43_CHUKWUDI018                4085.107423\n",
       "4              NCC07_CHUKWUDI046                4022.213649"
      ]
     },
     "execution_count": 31,
     "metadata": {},
     "output_type": "execute_result"
    }
   ],
   "source": [
    "submit.head()"
   ]
  },
  {
   "cell_type": "code",
   "execution_count": 32,
   "metadata": {},
   "outputs": [],
   "source": [
    "submit.to_csv('rfc_6-7.csv', index=None)"
   ]
  },
  {
   "cell_type": "code",
   "execution_count": null,
   "metadata": {},
   "outputs": [],
   "source": []
  },
  {
   "cell_type": "code",
   "execution_count": null,
   "metadata": {},
   "outputs": [],
   "source": []
  },
  {
   "cell_type": "code",
   "execution_count": null,
   "metadata": {},
   "outputs": [],
   "source": []
  },
  {
   "cell_type": "code",
   "execution_count": null,
   "metadata": {},
   "outputs": [],
   "source": []
  },
  {
   "cell_type": "code",
   "execution_count": null,
   "metadata": {},
   "outputs": [],
   "source": []
  },
  {
   "cell_type": "code",
   "execution_count": 79,
   "metadata": {},
   "outputs": [],
   "source": [
    "from sklearn.svm import SVR"
   ]
  },
  {
   "cell_type": "code",
   "execution_count": 80,
   "metadata": {},
   "outputs": [],
   "source": [
    "svr_model = SVR(kernel='poly', degree=3, gamma='auto')"
   ]
  },
  {
   "cell_type": "code",
   "execution_count": null,
   "metadata": {},
   "outputs": [],
   "source": [
    "svr_model.fit(X_train, y_train)"
   ]
  },
  {
   "cell_type": "code",
   "execution_count": null,
   "metadata": {},
   "outputs": [],
   "source": [
    "svr_pred = svr_model.predict(X_test)"
   ]
  },
  {
   "cell_type": "code",
   "execution_count": null,
   "metadata": {},
   "outputs": [],
   "source": [
    "svr_score = mean_squared_error(y_test, svr_pred)"
   ]
  },
  {
   "cell_type": "code",
   "execution_count": null,
   "metadata": {},
   "outputs": [],
   "source": [
    "math.sqrt(svr_score)"
   ]
  },
  {
   "cell_type": "code",
   "execution_count": null,
   "metadata": {},
   "outputs": [],
   "source": []
  },
  {
   "cell_type": "code",
   "execution_count": null,
   "metadata": {},
   "outputs": [],
   "source": []
  },
  {
   "cell_type": "code",
   "execution_count": null,
   "metadata": {},
   "outputs": [],
   "source": []
  },
  {
   "cell_type": "code",
   "execution_count": 71,
   "metadata": {},
   "outputs": [],
   "source": [
    "parameters = {'depth': [6, 7, 8, 9, 10, 11, 12, 13, 14, 15], 'learning_rate': [0.01, 0.02, 0.03, 0.04, 0.05, 0.06, 0.07, 0.08, 0.09, 0.1], 'iterations': [30, 35, 40, 45, 50, 55, 60, 65, 70, 75, 80, 85, 90, 95, 100]}"
   ]
  },
  {
   "cell_type": "code",
   "execution_count": 72,
   "metadata": {},
   "outputs": [],
   "source": [
    "rand_search = RandomizedSearchCV(estimator=xgb_model, param_distributions=parameters, cv=2, n_jobs=-1)"
   ]
  },
  {
   "cell_type": "code",
   "execution_count": 73,
   "metadata": {},
   "outputs": [
    {
     "name": "stdout",
     "output_type": "stream",
     "text": [
      "[23:08:48] WARNING: C:\\Users\\Administrator\\workspace\\xgboost-win64_release_1.1.0\\src\\learner.cc:480: \n",
      "Parameters: { depth, iterations, n_estimator } might not be used.\n",
      "\n",
      "  This may not be accurate due to some parameters are only used in language bindings but\n",
      "  passed down to XGBoost core.  Or some parameters are not used but slip through this\n",
      "  verification. Please open an issue if you find above cases.\n",
      "\n",
      "\n"
     ]
    },
    {
     "data": {
      "text/plain": [
       "RandomizedSearchCV(cv=2, error_score='raise-deprecating',\n",
       "                   estimator=XGBRegressor(base_score=0.5, booster='gbtree',\n",
       "                                          colsample_bylevel=1,\n",
       "                                          colsample_bynode=1,\n",
       "                                          colsample_bytree=1, gamma=0,\n",
       "                                          gpu_id=-1, importance_type='gain',\n",
       "                                          interaction_constraints='',\n",
       "                                          learning_rate=0.300000012,\n",
       "                                          max_delta_step=0, max_depth=4,\n",
       "                                          min_child_weight=1, missing=nan,\n",
       "                                          monotone_constraints='()',\n",
       "                                          n...\n",
       "                                          validate_parameters=1,\n",
       "                                          verbosity=None),\n",
       "                   iid='warn', n_iter=10, n_jobs=-1,\n",
       "                   param_distributions={'depth': [6, 7, 8, 9, 10, 11, 12, 13,\n",
       "                                                  14, 15],\n",
       "                                        'iterations': [30, 35, 40, 45, 50, 55,\n",
       "                                                       60, 65, 70, 75, 80, 85,\n",
       "                                                       90, 95, 100],\n",
       "                                        'learning_rate': [0.01, 0.02, 0.03,\n",
       "                                                          0.04, 0.05, 0.06,\n",
       "                                                          0.07, 0.08, 0.09,\n",
       "                                                          0.1]},\n",
       "                   pre_dispatch='2*n_jobs', random_state=None, refit=True,\n",
       "                   return_train_score=False, scoring=None, verbose=0)"
      ]
     },
     "execution_count": 73,
     "metadata": {},
     "output_type": "execute_result"
    }
   ],
   "source": [
    "rand_search.fit(X_train, y_train)"
   ]
  },
  {
   "cell_type": "code",
   "execution_count": 74,
   "metadata": {},
   "outputs": [
    {
     "name": "stdout",
     "output_type": "stream",
     "text": [
      "Result:\n",
      "\n",
      " the best estimator across all searched parmas:  XGBRegressor(base_score=0.5, booster='gbtree', colsample_bylevel=1,\n",
      "             colsample_bynode=1, colsample_bytree=1, depth=6, gamma=0,\n",
      "             gpu_id=-1, importance_type='gain', interaction_constraints='',\n",
      "             iterations=100, learning_rate=0.04, max_delta_step=0, max_depth=4,\n",
      "             min_child_weight=1, missing=nan, monotone_constraints='()',\n",
      "             n_estimator=5000, n_estimators=100, n_jobs=0, num_parallel_tree=1,\n",
      "             objective='reg:squarederror', random_state=0, reg_alpha=0,\n",
      "             reg_lambda=10, scale_pos_weight=1, subsample=1,\n",
      "             tree_method='exact', validate_parameters=1, verbosity=None)\n",
      "\n",
      " the best score across all searched params:  0.5265744420365911\n",
      "\n",
      " the best parameters acress al best searched params:  {'learning_rate': 0.04, 'iterations': 100, 'depth': 6}\n"
     ]
    }
   ],
   "source": [
    "print('Result:')\n",
    "print('\\n the best estimator across all searched parmas: ', rand_search.best_estimator_)\n",
    "print('\\n the best score across all searched params: ', rand_search.best_score_)\n",
    "print('\\n the best parameters acress al best searched params: ', rand_search.best_params_)"
   ]
  },
  {
   "cell_type": "code",
   "execution_count": null,
   "metadata": {},
   "outputs": [],
   "source": []
  },
  {
   "cell_type": "code",
   "execution_count": 62,
   "metadata": {
    "collapsed": true
   },
   "outputs": [
    {
     "data": {
      "text/html": [
       "<div>\n",
       "<style scoped>\n",
       "    .dataframe tbody tr th:only-of-type {\n",
       "        vertical-align: middle;\n",
       "    }\n",
       "\n",
       "    .dataframe tbody tr th {\n",
       "        vertical-align: top;\n",
       "    }\n",
       "\n",
       "    .dataframe thead th {\n",
       "        text-align: right;\n",
       "    }\n",
       "</style>\n",
       "<table border=\"1\" class=\"dataframe\">\n",
       "  <thead>\n",
       "    <tr style=\"text-align: right;\">\n",
       "      <th></th>\n",
       "      <th>Product_Weight</th>\n",
       "      <th>Product_Fat_Content</th>\n",
       "      <th>Product_Shelf_Visibility</th>\n",
       "      <th>Product_Type</th>\n",
       "      <th>Product_Price</th>\n",
       "      <th>Supermarket_Opening_Year</th>\n",
       "      <th>Supermarket _Size</th>\n",
       "      <th>Supermarket_Location_Type</th>\n",
       "      <th>Supermarket_Type</th>\n",
       "      <th>Average_Price_per_ProductType</th>\n",
       "      <th>PPW</th>\n",
       "      <th>APP</th>\n",
       "      <th>PSV</th>\n",
       "    </tr>\n",
       "  </thead>\n",
       "  <tbody>\n",
       "    <tr>\n",
       "      <th>1089</th>\n",
       "      <td>-2.450385e-14</td>\n",
       "      <td>0.0</td>\n",
       "      <td>-0.762128</td>\n",
       "      <td>13.0</td>\n",
       "      <td>2.053726</td>\n",
       "      <td>1992</td>\n",
       "      <td>1.0</td>\n",
       "      <td>2.0</td>\n",
       "      <td>3.0</td>\n",
       "      <td>0.307160</td>\n",
       "      <td>1.346677</td>\n",
       "      <td>-0.888431</td>\n",
       "      <td>-0.762128</td>\n",
       "    </tr>\n",
       "    <tr>\n",
       "      <th>1868</th>\n",
       "      <td>2.260184e-01</td>\n",
       "      <td>1.0</td>\n",
       "      <td>-0.021138</td>\n",
       "      <td>6.0</td>\n",
       "      <td>-1.673998</td>\n",
       "      <td>1994</td>\n",
       "      <td>0.0</td>\n",
       "      <td>2.0</td>\n",
       "      <td>1.0</td>\n",
       "      <td>0.545963</td>\n",
       "      <td>-1.036903</td>\n",
       "      <td>1.560446</td>\n",
       "      <td>-0.021138</td>\n",
       "    </tr>\n",
       "    <tr>\n",
       "      <th>896</th>\n",
       "      <td>7.053168e-01</td>\n",
       "      <td>0.0</td>\n",
       "      <td>0.257391</td>\n",
       "      <td>3.0</td>\n",
       "      <td>-2.443725</td>\n",
       "      <td>1994</td>\n",
       "      <td>0.0</td>\n",
       "      <td>2.0</td>\n",
       "      <td>1.0</td>\n",
       "      <td>0.007448</td>\n",
       "      <td>-1.496005</td>\n",
       "      <td>4.678238</td>\n",
       "      <td>0.257391</td>\n",
       "    </tr>\n",
       "    <tr>\n",
       "      <th>2645</th>\n",
       "      <td>1.815886e+00</td>\n",
       "      <td>1.0</td>\n",
       "      <td>-0.336405</td>\n",
       "      <td>6.0</td>\n",
       "      <td>0.597935</td>\n",
       "      <td>2011</td>\n",
       "      <td>2.0</td>\n",
       "      <td>1.0</td>\n",
       "      <td>1.0</td>\n",
       "      <td>0.545963</td>\n",
       "      <td>1.933961</td>\n",
       "      <td>-0.486542</td>\n",
       "      <td>-0.336405</td>\n",
       "    </tr>\n",
       "    <tr>\n",
       "      <th>1028</th>\n",
       "      <td>1.605463e+00</td>\n",
       "      <td>0.0</td>\n",
       "      <td>-1.267584</td>\n",
       "      <td>7.0</td>\n",
       "      <td>-0.652445</td>\n",
       "      <td>2006</td>\n",
       "      <td>1.0</td>\n",
       "      <td>0.0</td>\n",
       "      <td>1.0</td>\n",
       "      <td>-1.239278</td>\n",
       "      <td>0.486055</td>\n",
       "      <td>0.085516</td>\n",
       "      <td>-1.267584</td>\n",
       "    </tr>\n",
       "  </tbody>\n",
       "</table>\n",
       "</div>"
      ],
      "text/plain": [
       "      Product_Weight  Product_Fat_Content  Product_Shelf_Visibility  \\\n",
       "1089   -2.450385e-14                  0.0                 -0.762128   \n",
       "1868    2.260184e-01                  1.0                 -0.021138   \n",
       "896     7.053168e-01                  0.0                  0.257391   \n",
       "2645    1.815886e+00                  1.0                 -0.336405   \n",
       "1028    1.605463e+00                  0.0                 -1.267584   \n",
       "\n",
       "      Product_Type  Product_Price  Supermarket_Opening_Year  \\\n",
       "1089          13.0       2.053726                      1992   \n",
       "1868           6.0      -1.673998                      1994   \n",
       "896            3.0      -2.443725                      1994   \n",
       "2645           6.0       0.597935                      2011   \n",
       "1028           7.0      -0.652445                      2006   \n",
       "\n",
       "      Supermarket _Size  Supermarket_Location_Type  Supermarket_Type  \\\n",
       "1089                1.0                        2.0               3.0   \n",
       "1868                0.0                        2.0               1.0   \n",
       "896                 0.0                        2.0               1.0   \n",
       "2645                2.0                        1.0               1.0   \n",
       "1028                1.0                        0.0               1.0   \n",
       "\n",
       "      Average_Price_per_ProductType       PPW       APP       PSV  \n",
       "1089                       0.307160  1.346677 -0.888431 -0.762128  \n",
       "1868                       0.545963 -1.036903  1.560446 -0.021138  \n",
       "896                        0.007448 -1.496005  4.678238  0.257391  \n",
       "2645                       0.545963  1.933961 -0.486542 -0.336405  \n",
       "1028                      -1.239278  0.486055  0.085516 -1.267584  "
      ]
     },
     "execution_count": 62,
     "metadata": {},
     "output_type": "execute_result"
    }
   ],
   "source": [
    "X_train.head()"
   ]
  },
  {
   "cell_type": "code",
   "execution_count": 43,
   "metadata": {},
   "outputs": [],
   "source": [
    "features = ['Product_Weight', 'Product_Fat_Content', 'Product_Shelf_Visibility',\n",
    "       'Product_Type', 'Product_Price', 'Supermarket_Opening_Year',\n",
    "       'Supermarket _Size', 'Supermarket_Location_Type', 'Supermarket_Type',\n",
    "       'Average_Price_per_ProductType', 'PPW', 'APP', 'PSV']"
   ]
  },
  {
   "cell_type": "code",
   "execution_count": null,
   "metadata": {},
   "outputs": [],
   "source": []
  },
  {
   "cell_type": "code",
   "execution_count": null,
   "metadata": {},
   "outputs": [],
   "source": []
  },
  {
   "cell_type": "code",
   "execution_count": 20,
   "metadata": {},
   "outputs": [],
   "source": [
    "from lightgbm import LGBMRegressor"
   ]
  },
  {
   "cell_type": "code",
   "execution_count": 30,
   "metadata": {},
   "outputs": [],
   "source": [
    "lgbm_model = LGBMRegressor(boosting_type='rf', objective='regression')"
   ]
  },
  {
   "cell_type": "code",
   "execution_count": 45,
   "metadata": {
    "collapsed": true
   },
   "outputs": [
    {
     "name": "stderr",
     "output_type": "stream",
     "text": [
      "C:\\Users\\Pyaar\\Anaconda3\\lib\\site-packages\\lightgbm\\basic.py:1247: UserWarning: categorical_feature in Dataset is overridden.\n",
      "New categorical_feature is ['Product_Fat_Content', 'Product_Type', 'Supermarket _Size', 'Supermarket_Location_Type', 'Supermarket_Type']\n",
      "  'New categorical_feature is {}'.format(sorted(list(categorical_feature))))\n"
     ]
    },
    {
     "ename": "ValueError",
     "evalue": "DataFrame.dtypes for data must be int, float or bool.\nDid not expect the data types in the following fields: Product_Fat_Content, Product_Type, Supermarket _Size, Supermarket_Location_Type, Supermarket_Type",
     "output_type": "error",
     "traceback": [
      "\u001b[1;31m---------------------------------------------------------------------------\u001b[0m",
      "\u001b[1;31mValueError\u001b[0m                                Traceback (most recent call last)",
      "\u001b[1;32m<ipython-input-45-b505f4ad629d>\u001b[0m in \u001b[0;36m<module>\u001b[1;34m\u001b[0m\n\u001b[1;32m----> 1\u001b[1;33m \u001b[0mlgbm_model\u001b[0m\u001b[1;33m.\u001b[0m\u001b[0mfit\u001b[0m\u001b[1;33m(\u001b[0m\u001b[0mX_train\u001b[0m\u001b[1;33m,\u001b[0m \u001b[0my_train\u001b[0m\u001b[1;33m,\u001b[0m \u001b[0mfeature_name\u001b[0m\u001b[1;33m=\u001b[0m\u001b[0mcol_encode\u001b[0m\u001b[1;33m,\u001b[0m \u001b[0mcategorical_feature\u001b[0m\u001b[1;33m=\u001b[0m\u001b[0mcol_encode\u001b[0m\u001b[1;33m,\u001b[0m \u001b[0mearly_stopping_rounds\u001b[0m\u001b[1;33m=\u001b[0m\u001b[1;36m500\u001b[0m\u001b[1;33m)\u001b[0m\u001b[1;33m\u001b[0m\u001b[1;33m\u001b[0m\u001b[0m\n\u001b[0m",
      "\u001b[1;32m~\\Anaconda3\\lib\\site-packages\\lightgbm\\sklearn.py\u001b[0m in \u001b[0;36mfit\u001b[1;34m(self, X, y, sample_weight, init_score, eval_set, eval_names, eval_sample_weight, eval_init_score, eval_metric, early_stopping_rounds, verbose, feature_name, categorical_feature, callbacks)\u001b[0m\n\u001b[0;32m    736\u001b[0m                                        \u001b[0mverbose\u001b[0m\u001b[1;33m=\u001b[0m\u001b[0mverbose\u001b[0m\u001b[1;33m,\u001b[0m \u001b[0mfeature_name\u001b[0m\u001b[1;33m=\u001b[0m\u001b[0mfeature_name\u001b[0m\u001b[1;33m,\u001b[0m\u001b[1;33m\u001b[0m\u001b[1;33m\u001b[0m\u001b[0m\n\u001b[0;32m    737\u001b[0m                                        \u001b[0mcategorical_feature\u001b[0m\u001b[1;33m=\u001b[0m\u001b[0mcategorical_feature\u001b[0m\u001b[1;33m,\u001b[0m\u001b[1;33m\u001b[0m\u001b[1;33m\u001b[0m\u001b[0m\n\u001b[1;32m--> 738\u001b[1;33m                                        callbacks=callbacks)\n\u001b[0m\u001b[0;32m    739\u001b[0m         \u001b[1;32mreturn\u001b[0m \u001b[0mself\u001b[0m\u001b[1;33m\u001b[0m\u001b[1;33m\u001b[0m\u001b[0m\n\u001b[0;32m    740\u001b[0m \u001b[1;33m\u001b[0m\u001b[0m\n",
      "\u001b[1;32m~\\Anaconda3\\lib\\site-packages\\lightgbm\\sklearn.py\u001b[0m in \u001b[0;36mfit\u001b[1;34m(self, X, y, sample_weight, init_score, group, eval_set, eval_names, eval_sample_weight, eval_class_weight, eval_init_score, eval_group, eval_metric, early_stopping_rounds, verbose, feature_name, categorical_feature, callbacks)\u001b[0m\n\u001b[0;32m    593\u001b[0m                               \u001b[0mverbose_eval\u001b[0m\u001b[1;33m=\u001b[0m\u001b[0mverbose\u001b[0m\u001b[1;33m,\u001b[0m \u001b[0mfeature_name\u001b[0m\u001b[1;33m=\u001b[0m\u001b[0mfeature_name\u001b[0m\u001b[1;33m,\u001b[0m\u001b[1;33m\u001b[0m\u001b[1;33m\u001b[0m\u001b[0m\n\u001b[0;32m    594\u001b[0m                               \u001b[0mcategorical_feature\u001b[0m\u001b[1;33m=\u001b[0m\u001b[0mcategorical_feature\u001b[0m\u001b[1;33m,\u001b[0m\u001b[1;33m\u001b[0m\u001b[1;33m\u001b[0m\u001b[0m\n\u001b[1;32m--> 595\u001b[1;33m                               callbacks=callbacks)\n\u001b[0m\u001b[0;32m    596\u001b[0m \u001b[1;33m\u001b[0m\u001b[0m\n\u001b[0;32m    597\u001b[0m         \u001b[1;32mif\u001b[0m \u001b[0mevals_result\u001b[0m\u001b[1;33m:\u001b[0m\u001b[1;33m\u001b[0m\u001b[1;33m\u001b[0m\u001b[0m\n",
      "\u001b[1;32m~\\Anaconda3\\lib\\site-packages\\lightgbm\\engine.py\u001b[0m in \u001b[0;36mtrain\u001b[1;34m(params, train_set, num_boost_round, valid_sets, valid_names, fobj, feval, init_model, feature_name, categorical_feature, early_stopping_rounds, evals_result, verbose_eval, learning_rates, keep_training_booster, callbacks)\u001b[0m\n\u001b[0;32m    226\u001b[0m     \u001b[1;31m# construct booster\u001b[0m\u001b[1;33m\u001b[0m\u001b[1;33m\u001b[0m\u001b[1;33m\u001b[0m\u001b[0m\n\u001b[0;32m    227\u001b[0m     \u001b[1;32mtry\u001b[0m\u001b[1;33m:\u001b[0m\u001b[1;33m\u001b[0m\u001b[1;33m\u001b[0m\u001b[0m\n\u001b[1;32m--> 228\u001b[1;33m         \u001b[0mbooster\u001b[0m \u001b[1;33m=\u001b[0m \u001b[0mBooster\u001b[0m\u001b[1;33m(\u001b[0m\u001b[0mparams\u001b[0m\u001b[1;33m=\u001b[0m\u001b[0mparams\u001b[0m\u001b[1;33m,\u001b[0m \u001b[0mtrain_set\u001b[0m\u001b[1;33m=\u001b[0m\u001b[0mtrain_set\u001b[0m\u001b[1;33m)\u001b[0m\u001b[1;33m\u001b[0m\u001b[1;33m\u001b[0m\u001b[0m\n\u001b[0m\u001b[0;32m    229\u001b[0m         \u001b[1;32mif\u001b[0m \u001b[0mis_valid_contain_train\u001b[0m\u001b[1;33m:\u001b[0m\u001b[1;33m\u001b[0m\u001b[1;33m\u001b[0m\u001b[0m\n\u001b[0;32m    230\u001b[0m             \u001b[0mbooster\u001b[0m\u001b[1;33m.\u001b[0m\u001b[0mset_train_data_name\u001b[0m\u001b[1;33m(\u001b[0m\u001b[0mtrain_data_name\u001b[0m\u001b[1;33m)\u001b[0m\u001b[1;33m\u001b[0m\u001b[1;33m\u001b[0m\u001b[0m\n",
      "\u001b[1;32m~\\Anaconda3\\lib\\site-packages\\lightgbm\\basic.py\u001b[0m in \u001b[0;36m__init__\u001b[1;34m(self, params, train_set, model_file, model_str, silent)\u001b[0m\n\u001b[0;32m   1662\u001b[0m             \u001b[0mself\u001b[0m\u001b[1;33m.\u001b[0m\u001b[0mhandle\u001b[0m \u001b[1;33m=\u001b[0m \u001b[0mctypes\u001b[0m\u001b[1;33m.\u001b[0m\u001b[0mc_void_p\u001b[0m\u001b[1;33m(\u001b[0m\u001b[1;33m)\u001b[0m\u001b[1;33m\u001b[0m\u001b[1;33m\u001b[0m\u001b[0m\n\u001b[0;32m   1663\u001b[0m             _safe_call(_LIB.LGBM_BoosterCreate(\n\u001b[1;32m-> 1664\u001b[1;33m                 \u001b[0mtrain_set\u001b[0m\u001b[1;33m.\u001b[0m\u001b[0mconstruct\u001b[0m\u001b[1;33m(\u001b[0m\u001b[1;33m)\u001b[0m\u001b[1;33m.\u001b[0m\u001b[0mhandle\u001b[0m\u001b[1;33m,\u001b[0m\u001b[1;33m\u001b[0m\u001b[1;33m\u001b[0m\u001b[0m\n\u001b[0m\u001b[0;32m   1665\u001b[0m                 \u001b[0mc_str\u001b[0m\u001b[1;33m(\u001b[0m\u001b[0mparams_str\u001b[0m\u001b[1;33m)\u001b[0m\u001b[1;33m,\u001b[0m\u001b[1;33m\u001b[0m\u001b[1;33m\u001b[0m\u001b[0m\n\u001b[0;32m   1666\u001b[0m                 ctypes.byref(self.handle)))\n",
      "\u001b[1;32m~\\Anaconda3\\lib\\site-packages\\lightgbm\\basic.py\u001b[0m in \u001b[0;36mconstruct\u001b[1;34m(self)\u001b[0m\n\u001b[0;32m   1035\u001b[0m                                 \u001b[0minit_score\u001b[0m\u001b[1;33m=\u001b[0m\u001b[0mself\u001b[0m\u001b[1;33m.\u001b[0m\u001b[0minit_score\u001b[0m\u001b[1;33m,\u001b[0m \u001b[0mpredictor\u001b[0m\u001b[1;33m=\u001b[0m\u001b[0mself\u001b[0m\u001b[1;33m.\u001b[0m\u001b[0m_predictor\u001b[0m\u001b[1;33m,\u001b[0m\u001b[1;33m\u001b[0m\u001b[1;33m\u001b[0m\u001b[0m\n\u001b[0;32m   1036\u001b[0m                                 \u001b[0msilent\u001b[0m\u001b[1;33m=\u001b[0m\u001b[0mself\u001b[0m\u001b[1;33m.\u001b[0m\u001b[0msilent\u001b[0m\u001b[1;33m,\u001b[0m \u001b[0mfeature_name\u001b[0m\u001b[1;33m=\u001b[0m\u001b[0mself\u001b[0m\u001b[1;33m.\u001b[0m\u001b[0mfeature_name\u001b[0m\u001b[1;33m,\u001b[0m\u001b[1;33m\u001b[0m\u001b[1;33m\u001b[0m\u001b[0m\n\u001b[1;32m-> 1037\u001b[1;33m                                 categorical_feature=self.categorical_feature, params=self.params)\n\u001b[0m\u001b[0;32m   1038\u001b[0m             \u001b[1;32mif\u001b[0m \u001b[0mself\u001b[0m\u001b[1;33m.\u001b[0m\u001b[0mfree_raw_data\u001b[0m\u001b[1;33m:\u001b[0m\u001b[1;33m\u001b[0m\u001b[1;33m\u001b[0m\u001b[0m\n\u001b[0;32m   1039\u001b[0m                 \u001b[0mself\u001b[0m\u001b[1;33m.\u001b[0m\u001b[0mdata\u001b[0m \u001b[1;33m=\u001b[0m \u001b[1;32mNone\u001b[0m\u001b[1;33m\u001b[0m\u001b[1;33m\u001b[0m\u001b[0m\n",
      "\u001b[1;32m~\\Anaconda3\\lib\\site-packages\\lightgbm\\basic.py\u001b[0m in \u001b[0;36m_lazy_init\u001b[1;34m(self, data, label, reference, weight, group, init_score, predictor, silent, feature_name, categorical_feature, params)\u001b[0m\n\u001b[0;32m    780\u001b[0m                                                                                              \u001b[0mfeature_name\u001b[0m\u001b[1;33m,\u001b[0m\u001b[1;33m\u001b[0m\u001b[1;33m\u001b[0m\u001b[0m\n\u001b[0;32m    781\u001b[0m                                                                                              \u001b[0mcategorical_feature\u001b[0m\u001b[1;33m,\u001b[0m\u001b[1;33m\u001b[0m\u001b[1;33m\u001b[0m\u001b[0m\n\u001b[1;32m--> 782\u001b[1;33m                                                                                              self.pandas_categorical)\n\u001b[0m\u001b[0;32m    783\u001b[0m         \u001b[0mlabel\u001b[0m \u001b[1;33m=\u001b[0m \u001b[0m_label_from_pandas\u001b[0m\u001b[1;33m(\u001b[0m\u001b[0mlabel\u001b[0m\u001b[1;33m)\u001b[0m\u001b[1;33m\u001b[0m\u001b[1;33m\u001b[0m\u001b[0m\n\u001b[0;32m    784\u001b[0m \u001b[1;33m\u001b[0m\u001b[0m\n",
      "\u001b[1;32m~\\Anaconda3\\lib\\site-packages\\lightgbm\\basic.py\u001b[0m in \u001b[0;36m_data_from_pandas\u001b[1;34m(data, feature_name, categorical_feature, pandas_categorical)\u001b[0m\n\u001b[0;32m    293\u001b[0m             raise ValueError(\"DataFrame.dtypes for data must be int, float or bool.\\n\"\n\u001b[0;32m    294\u001b[0m                              \u001b[1;34m\"Did not expect the data types in the following fields: \"\u001b[0m\u001b[1;33m\u001b[0m\u001b[1;33m\u001b[0m\u001b[0m\n\u001b[1;32m--> 295\u001b[1;33m                              + ', '.join(data.columns[bad_indices]))\n\u001b[0m\u001b[0;32m    296\u001b[0m         \u001b[0mdata\u001b[0m \u001b[1;33m=\u001b[0m \u001b[0mdata\u001b[0m\u001b[1;33m.\u001b[0m\u001b[0mvalues\u001b[0m\u001b[1;33m\u001b[0m\u001b[1;33m\u001b[0m\u001b[0m\n\u001b[0;32m    297\u001b[0m         \u001b[1;32mif\u001b[0m \u001b[0mdata\u001b[0m\u001b[1;33m.\u001b[0m\u001b[0mdtype\u001b[0m \u001b[1;33m!=\u001b[0m \u001b[0mnp\u001b[0m\u001b[1;33m.\u001b[0m\u001b[0mfloat32\u001b[0m \u001b[1;32mand\u001b[0m \u001b[0mdata\u001b[0m\u001b[1;33m.\u001b[0m\u001b[0mdtype\u001b[0m \u001b[1;33m!=\u001b[0m \u001b[0mnp\u001b[0m\u001b[1;33m.\u001b[0m\u001b[0mfloat64\u001b[0m\u001b[1;33m:\u001b[0m\u001b[1;33m\u001b[0m\u001b[1;33m\u001b[0m\u001b[0m\n",
      "\u001b[1;31mValueError\u001b[0m: DataFrame.dtypes for data must be int, float or bool.\nDid not expect the data types in the following fields: Product_Fat_Content, Product_Type, Supermarket _Size, Supermarket_Location_Type, Supermarket_Type"
     ]
    }
   ],
   "source": [
    "lgbm_model.fit(X_train, y_train, feature_name=col_encode, categorical_feature=col_encode, early_stopping_rounds=500)"
   ]
  },
  {
   "cell_type": "code",
   "execution_count": null,
   "metadata": {},
   "outputs": [],
   "source": []
  },
  {
   "cell_type": "code",
   "execution_count": null,
   "metadata": {},
   "outputs": [],
   "source": []
  },
  {
   "cell_type": "code",
   "execution_count": null,
   "metadata": {},
   "outputs": [],
   "source": []
  },
  {
   "cell_type": "code",
   "execution_count": null,
   "metadata": {},
   "outputs": [],
   "source": []
  },
  {
   "cell_type": "code",
   "execution_count": null,
   "metadata": {},
   "outputs": [],
   "source": []
  },
  {
   "cell_type": "code",
   "execution_count": null,
   "metadata": {},
   "outputs": [],
   "source": []
  },
  {
   "cell_type": "code",
   "execution_count": 33,
   "metadata": {},
   "outputs": [],
   "source": [
    "from xgboost import XGBRegressor"
   ]
  },
  {
   "cell_type": "code",
   "execution_count": 35,
   "metadata": {},
   "outputs": [],
   "source": [
    "xgb_model = XGBRegressor(n_estimator=5000, max_depth=4, reg_lambda=10, random_state=1)"
   ]
  },
  {
   "cell_type": "code",
   "execution_count": 36,
   "metadata": {},
   "outputs": [
    {
     "name": "stdout",
     "output_type": "stream",
     "text": [
      "[00:24:28] WARNING: C:\\Users\\Administrator\\workspace\\xgboost-win64_release_1.1.0\\src\\learner.cc:480: \n",
      "Parameters: { n_estimator } might not be used.\n",
      "\n",
      "  This may not be accurate due to some parameters are only used in language bindings but\n",
      "  passed down to XGBoost core.  Or some parameters are not used but slip through this\n",
      "  verification. Please open an issue if you find above cases.\n",
      "\n",
      "\n",
      "[0]\tvalidation_0-rmse:5778.62451\tvalidation_1-rmse:5953.45801\n",
      "Multiple eval metrics have been passed: 'validation_1-rmse' will be used for early stopping.\n",
      "\n",
      "Will train until validation_1-rmse hasn't improved in 300 rounds.\n",
      "[1]\tvalidation_0-rmse:4600.46582\tvalidation_1-rmse:4759.96533\n",
      "[2]\tvalidation_0-rmse:3864.01514\tvalidation_1-rmse:4022.04004\n",
      "[3]\tvalidation_0-rmse:3403.43066\tvalidation_1-rmse:3572.10913\n",
      "[4]\tvalidation_0-rmse:3136.68018\tvalidation_1-rmse:3325.74731\n",
      "[5]\tvalidation_0-rmse:2978.95044\tvalidation_1-rmse:3185.53540\n",
      "[6]\tvalidation_0-rmse:2885.71753\tvalidation_1-rmse:3122.32764\n",
      "[7]\tvalidation_0-rmse:2826.41064\tvalidation_1-rmse:3084.44653\n",
      "[8]\tvalidation_0-rmse:2782.15479\tvalidation_1-rmse:3078.39722\n",
      "[9]\tvalidation_0-rmse:2747.38306\tvalidation_1-rmse:3097.23389\n",
      "[10]\tvalidation_0-rmse:2719.23608\tvalidation_1-rmse:3111.84741\n",
      "[11]\tvalidation_0-rmse:2696.92505\tvalidation_1-rmse:3106.64087\n",
      "[12]\tvalidation_0-rmse:2677.49805\tvalidation_1-rmse:3118.48853\n",
      "[13]\tvalidation_0-rmse:2655.58106\tvalidation_1-rmse:3116.22046\n",
      "[14]\tvalidation_0-rmse:2641.58618\tvalidation_1-rmse:3119.99365\n",
      "[15]\tvalidation_0-rmse:2632.58057\tvalidation_1-rmse:3122.66602\n",
      "[16]\tvalidation_0-rmse:2614.52246\tvalidation_1-rmse:3124.53784\n",
      "[17]\tvalidation_0-rmse:2603.58325\tvalidation_1-rmse:3131.54102\n",
      "[18]\tvalidation_0-rmse:2592.12646\tvalidation_1-rmse:3130.68945\n",
      "[19]\tvalidation_0-rmse:2574.86011\tvalidation_1-rmse:3131.45972\n",
      "[20]\tvalidation_0-rmse:2559.38037\tvalidation_1-rmse:3134.86645\n",
      "[21]\tvalidation_0-rmse:2549.25562\tvalidation_1-rmse:3137.57275\n",
      "[22]\tvalidation_0-rmse:2535.37305\tvalidation_1-rmse:3136.50391\n",
      "[23]\tvalidation_0-rmse:2529.14331\tvalidation_1-rmse:3137.81079\n",
      "[24]\tvalidation_0-rmse:2522.68848\tvalidation_1-rmse:3138.88355\n",
      "[25]\tvalidation_0-rmse:2517.43506\tvalidation_1-rmse:3137.02954\n",
      "[26]\tvalidation_0-rmse:2496.57202\tvalidation_1-rmse:3133.47730\n",
      "[27]\tvalidation_0-rmse:2486.35303\tvalidation_1-rmse:3141.15088\n",
      "[28]\tvalidation_0-rmse:2479.85571\tvalidation_1-rmse:3147.06641\n",
      "[29]\tvalidation_0-rmse:2462.60938\tvalidation_1-rmse:3156.00293\n",
      "[30]\tvalidation_0-rmse:2448.32227\tvalidation_1-rmse:3162.17993\n",
      "[31]\tvalidation_0-rmse:2435.55444\tvalidation_1-rmse:3169.23706\n",
      "[32]\tvalidation_0-rmse:2426.72754\tvalidation_1-rmse:3170.64868\n",
      "[33]\tvalidation_0-rmse:2412.97827\tvalidation_1-rmse:3172.11548\n",
      "[34]\tvalidation_0-rmse:2397.02124\tvalidation_1-rmse:3170.73901\n",
      "[35]\tvalidation_0-rmse:2382.89600\tvalidation_1-rmse:3172.62598\n",
      "[36]\tvalidation_0-rmse:2376.99463\tvalidation_1-rmse:3174.85059\n",
      "[37]\tvalidation_0-rmse:2367.02368\tvalidation_1-rmse:3176.37427\n",
      "[38]\tvalidation_0-rmse:2364.25366\tvalidation_1-rmse:3176.83545\n",
      "[39]\tvalidation_0-rmse:2353.30151\tvalidation_1-rmse:3181.29224\n",
      "[40]\tvalidation_0-rmse:2342.73926\tvalidation_1-rmse:3186.24561\n",
      "[41]\tvalidation_0-rmse:2330.91333\tvalidation_1-rmse:3185.59839\n",
      "[42]\tvalidation_0-rmse:2321.49268\tvalidation_1-rmse:3187.25244\n",
      "[43]\tvalidation_0-rmse:2317.98584\tvalidation_1-rmse:3186.86011\n",
      "[44]\tvalidation_0-rmse:2306.41187\tvalidation_1-rmse:3188.17261\n",
      "[45]\tvalidation_0-rmse:2293.42090\tvalidation_1-rmse:3188.87891\n",
      "[46]\tvalidation_0-rmse:2287.71655\tvalidation_1-rmse:3190.00488\n",
      "[47]\tvalidation_0-rmse:2285.14966\tvalidation_1-rmse:3189.35718\n",
      "[48]\tvalidation_0-rmse:2271.55640\tvalidation_1-rmse:3186.56030\n",
      "[49]\tvalidation_0-rmse:2266.70776\tvalidation_1-rmse:3187.47046\n",
      "[50]\tvalidation_0-rmse:2250.84863\tvalidation_1-rmse:3192.10034\n",
      "[51]\tvalidation_0-rmse:2245.83838\tvalidation_1-rmse:3198.42578\n",
      "[52]\tvalidation_0-rmse:2241.61841\tvalidation_1-rmse:3202.02759\n",
      "[53]\tvalidation_0-rmse:2233.32153\tvalidation_1-rmse:3200.90625\n",
      "[54]\tvalidation_0-rmse:2223.89770\tvalidation_1-rmse:3207.16724\n",
      "[55]\tvalidation_0-rmse:2212.95459\tvalidation_1-rmse:3205.40161\n",
      "[56]\tvalidation_0-rmse:2204.34448\tvalidation_1-rmse:3212.07617\n",
      "[57]\tvalidation_0-rmse:2201.85156\tvalidation_1-rmse:3214.02075\n",
      "[58]\tvalidation_0-rmse:2199.35010\tvalidation_1-rmse:3215.37598\n",
      "[59]\tvalidation_0-rmse:2194.24683\tvalidation_1-rmse:3214.17358\n",
      "[60]\tvalidation_0-rmse:2192.65601\tvalidation_1-rmse:3214.53833\n",
      "[61]\tvalidation_0-rmse:2184.45801\tvalidation_1-rmse:3213.53809\n",
      "[62]\tvalidation_0-rmse:2175.07837\tvalidation_1-rmse:3216.08594\n",
      "[63]\tvalidation_0-rmse:2166.16406\tvalidation_1-rmse:3217.26733\n",
      "[64]\tvalidation_0-rmse:2160.97583\tvalidation_1-rmse:3219.58301\n",
      "[65]\tvalidation_0-rmse:2155.97656\tvalidation_1-rmse:3220.08716\n",
      "[66]\tvalidation_0-rmse:2150.75244\tvalidation_1-rmse:3219.44458\n",
      "[67]\tvalidation_0-rmse:2148.45068\tvalidation_1-rmse:3221.83374\n",
      "[68]\tvalidation_0-rmse:2140.92920\tvalidation_1-rmse:3226.66138\n",
      "[69]\tvalidation_0-rmse:2129.57080\tvalidation_1-rmse:3223.46704\n",
      "[70]\tvalidation_0-rmse:2122.39868\tvalidation_1-rmse:3225.81421\n",
      "[71]\tvalidation_0-rmse:2114.27979\tvalidation_1-rmse:3228.61548\n",
      "[72]\tvalidation_0-rmse:2104.82422\tvalidation_1-rmse:3227.40503\n",
      "[73]\tvalidation_0-rmse:2096.93140\tvalidation_1-rmse:3225.02441\n",
      "[74]\tvalidation_0-rmse:2086.14502\tvalidation_1-rmse:3231.92871\n",
      "[75]\tvalidation_0-rmse:2077.25146\tvalidation_1-rmse:3234.72266\n",
      "[76]\tvalidation_0-rmse:2070.40454\tvalidation_1-rmse:3234.02612\n",
      "[77]\tvalidation_0-rmse:2064.35889\tvalidation_1-rmse:3234.58569\n",
      "[78]\tvalidation_0-rmse:2054.93262\tvalidation_1-rmse:3232.74390\n",
      "[79]\tvalidation_0-rmse:2045.62671\tvalidation_1-rmse:3232.11523\n",
      "[80]\tvalidation_0-rmse:2037.56982\tvalidation_1-rmse:3235.79639\n",
      "[81]\tvalidation_0-rmse:2029.18201\tvalidation_1-rmse:3237.33789\n",
      "[82]\tvalidation_0-rmse:2021.91736\tvalidation_1-rmse:3242.22388\n",
      "[83]\tvalidation_0-rmse:2015.93127\tvalidation_1-rmse:3247.02075\n",
      "[84]\tvalidation_0-rmse:2008.93030\tvalidation_1-rmse:3253.72949\n",
      "[85]\tvalidation_0-rmse:2003.23340\tvalidation_1-rmse:3258.91333\n",
      "[86]\tvalidation_0-rmse:1995.08655\tvalidation_1-rmse:3265.51733\n",
      "[87]\tvalidation_0-rmse:1989.37524\tvalidation_1-rmse:3270.17481\n",
      "[88]\tvalidation_0-rmse:1979.55603\tvalidation_1-rmse:3270.44482\n",
      "[89]\tvalidation_0-rmse:1977.65051\tvalidation_1-rmse:3272.66211\n",
      "[90]\tvalidation_0-rmse:1976.46826\tvalidation_1-rmse:3273.03198\n",
      "[91]\tvalidation_0-rmse:1970.10254\tvalidation_1-rmse:3272.00684\n",
      "[92]\tvalidation_0-rmse:1967.93494\tvalidation_1-rmse:3274.72388\n",
      "[93]\tvalidation_0-rmse:1963.19507\tvalidation_1-rmse:3276.08032\n",
      "[94]\tvalidation_0-rmse:1956.50317\tvalidation_1-rmse:3280.33447\n",
      "[95]\tvalidation_0-rmse:1950.51892\tvalidation_1-rmse:3281.06421\n",
      "[96]\tvalidation_0-rmse:1946.42602\tvalidation_1-rmse:3280.81812\n",
      "[97]\tvalidation_0-rmse:1943.30066\tvalidation_1-rmse:3280.28711\n",
      "[98]\tvalidation_0-rmse:1937.19971\tvalidation_1-rmse:3279.39429\n",
      "[99]\tvalidation_0-rmse:1933.89624\tvalidation_1-rmse:3280.22388\n"
     ]
    },
    {
     "data": {
      "text/plain": [
       "XGBRegressor(base_score=0.5, booster='gbtree', colsample_bylevel=1,\n",
       "             colsample_bynode=1, colsample_bytree=1, gamma=0, gpu_id=-1,\n",
       "             importance_type='gain', interaction_constraints='',\n",
       "             learning_rate=0.300000012, max_delta_step=0, max_depth=4,\n",
       "             min_child_weight=1, missing=nan, monotone_constraints='()',\n",
       "             n_estimator=5000, n_estimators=100, n_jobs=0, num_parallel_tree=1,\n",
       "             objective='reg:squarederror', random_state=1, reg_alpha=0,\n",
       "             reg_lambda=10, scale_pos_weight=1, subsample=1,\n",
       "             tree_method='exact', validate_parameters=1, verbosity=None)"
      ]
     },
     "execution_count": 36,
     "metadata": {},
     "output_type": "execute_result"
    }
   ],
   "source": [
    "xgb_model.fit(X_train, y_train, eval_metric='rmse', eval_set=[(X_train, y_train), (X_test, y_test)], early_stopping_rounds=300)"
   ]
  },
  {
   "cell_type": "code",
   "execution_count": 37,
   "metadata": {},
   "outputs": [],
   "source": [
    "xgb_pred = xgb_model.predict(X_test)"
   ]
  },
  {
   "cell_type": "code",
   "execution_count": 38,
   "metadata": {},
   "outputs": [],
   "source": [
    "xgb_score = mean_squared_error(y_test, xgb_pred)"
   ]
  },
  {
   "cell_type": "code",
   "execution_count": 39,
   "metadata": {},
   "outputs": [
    {
     "data": {
      "text/plain": [
       "3078.39722387781"
      ]
     },
     "execution_count": 39,
     "metadata": {},
     "output_type": "execute_result"
    }
   ],
   "source": [
    "math.sqrt(xgb_score)"
   ]
  },
  {
   "cell_type": "code",
   "execution_count": null,
   "metadata": {},
   "outputs": [],
   "source": []
  },
  {
   "cell_type": "code",
   "execution_count": null,
   "metadata": {},
   "outputs": [],
   "source": [
    "{'learning_rate': 0.04, 'iterations': 100, 'depth': 6}"
   ]
  },
  {
   "cell_type": "code",
   "execution_count": null,
   "metadata": {},
   "outputs": [],
   "source": []
  },
  {
   "cell_type": "code",
   "execution_count": null,
   "metadata": {},
   "outputs": [],
   "source": []
  },
  {
   "cell_type": "code",
   "execution_count": null,
   "metadata": {},
   "outputs": [],
   "source": []
  },
  {
   "cell_type": "code",
   "execution_count": null,
   "metadata": {},
   "outputs": [],
   "source": []
  },
  {
   "cell_type": "code",
   "execution_count": 40,
   "metadata": {},
   "outputs": [],
   "source": [
    "from catboost import CatBoostRegressor"
   ]
  },
  {
   "cell_type": "code",
   "execution_count": 42,
   "metadata": {},
   "outputs": [],
   "source": [
    "cat_model = CatBoostRegressor(learning_rate=0.09, iterations=65, depth=6)"
   ]
  },
  {
   "cell_type": "code",
   "execution_count": 43,
   "metadata": {
    "scrolled": true
   },
   "outputs": [
    {
     "name": "stdout",
     "output_type": "stream",
     "text": [
      "0:\tlearn: 4256.1478548\ttest: 4256.1478548\ttest1: 4395.6232992\tbest: 4395.6232992 (0)\ttotal: 57.4ms\tremaining: 3.67s\n",
      "1:\tlearn: 4083.1986534\ttest: 4083.1986534\ttest1: 4227.8238785\tbest: 4227.8238785 (1)\ttotal: 60.6ms\tremaining: 1.91s\n",
      "2:\tlearn: 3920.1649050\ttest: 3920.1649050\ttest1: 4069.2514032\tbest: 4069.2514032 (2)\ttotal: 63ms\tremaining: 1.3s\n",
      "3:\tlearn: 3785.6395816\ttest: 3785.6395816\ttest1: 3936.3887168\tbest: 3936.3887168 (3)\ttotal: 66.2ms\tremaining: 1.01s\n",
      "4:\tlearn: 3656.6716658\ttest: 3656.6716658\ttest1: 3807.8552369\tbest: 3807.8552369 (4)\ttotal: 69.9ms\tremaining: 838ms\n",
      "5:\tlearn: 3551.6331536\ttest: 3551.6331536\ttest1: 3706.1059704\tbest: 3706.1059704 (5)\ttotal: 72.9ms\tremaining: 717ms\n",
      "6:\tlearn: 3461.4243256\ttest: 3461.4243256\ttest1: 3619.7843732\tbest: 3619.7843732 (6)\ttotal: 76ms\tremaining: 630ms\n",
      "7:\tlearn: 3377.0833181\ttest: 3377.0833181\ttest1: 3536.7906524\tbest: 3536.7906524 (7)\ttotal: 79.2ms\tremaining: 564ms\n",
      "8:\tlearn: 3307.3056466\ttest: 3307.3056466\ttest1: 3467.6935879\tbest: 3467.6935879 (8)\ttotal: 82.2ms\tremaining: 512ms\n",
      "9:\tlearn: 3244.4874893\ttest: 3244.4874893\ttest1: 3404.8255716\tbest: 3404.8255716 (9)\ttotal: 85.4ms\tremaining: 470ms\n",
      "10:\tlearn: 3192.5235707\ttest: 3192.5235707\ttest1: 3353.8386287\tbest: 3353.8386287 (10)\ttotal: 88.6ms\tremaining: 435ms\n",
      "11:\tlearn: 3151.5848583\ttest: 3151.5848583\ttest1: 3316.7327036\tbest: 3316.7327036 (11)\ttotal: 91.9ms\tremaining: 406ms\n",
      "12:\tlearn: 3114.1003093\ttest: 3114.1003093\ttest1: 3284.6482513\tbest: 3284.6482513 (12)\ttotal: 95ms\tremaining: 380ms\n",
      "13:\tlearn: 3078.2455347\ttest: 3078.2455347\ttest1: 3253.2381978\tbest: 3253.2381978 (13)\ttotal: 98.1ms\tremaining: 357ms\n",
      "14:\tlearn: 3051.0874058\ttest: 3051.0874058\ttest1: 3228.9360708\tbest: 3228.9360708 (14)\ttotal: 101ms\tremaining: 338ms\n",
      "15:\tlearn: 3028.5869159\ttest: 3028.5869159\ttest1: 3208.1585594\tbest: 3208.1585594 (15)\ttotal: 105ms\tremaining: 320ms\n",
      "16:\tlearn: 3004.9786605\ttest: 3004.9786605\ttest1: 3184.6430709\tbest: 3184.6430709 (16)\ttotal: 108ms\tremaining: 304ms\n",
      "17:\tlearn: 2989.2514610\ttest: 2989.2514610\ttest1: 3168.2189994\tbest: 3168.2189994 (17)\ttotal: 111ms\tremaining: 289ms\n",
      "18:\tlearn: 2971.2802857\ttest: 2971.2802857\ttest1: 3150.9549051\tbest: 3150.9549051 (18)\ttotal: 114ms\tremaining: 276ms\n",
      "19:\tlearn: 2958.2735258\ttest: 2958.2735258\ttest1: 3139.4047796\tbest: 3139.4047796 (19)\ttotal: 116ms\tremaining: 261ms\n",
      "20:\tlearn: 2944.8522554\ttest: 2944.8522554\ttest1: 3128.8037984\tbest: 3128.8037984 (20)\ttotal: 119ms\tremaining: 250ms\n",
      "21:\tlearn: 2930.2537355\ttest: 2930.2537355\ttest1: 3115.8403419\tbest: 3115.8403419 (21)\ttotal: 122ms\tremaining: 239ms\n",
      "22:\tlearn: 2918.6298200\ttest: 2918.6298200\ttest1: 3104.7490953\tbest: 3104.7490953 (22)\ttotal: 125ms\tremaining: 229ms\n",
      "23:\tlearn: 2909.2223777\ttest: 2909.2223777\ttest1: 3097.8601457\tbest: 3097.8601457 (23)\ttotal: 129ms\tremaining: 220ms\n",
      "24:\tlearn: 2897.1069066\ttest: 2897.1069066\ttest1: 3095.6434704\tbest: 3095.6434704 (24)\ttotal: 132ms\tremaining: 211ms\n",
      "25:\tlearn: 2890.7401002\ttest: 2890.7401002\ttest1: 3089.4166323\tbest: 3089.4166323 (25)\ttotal: 135ms\tremaining: 202ms\n",
      "26:\tlearn: 2885.0383542\ttest: 2885.0383542\ttest1: 3084.8860116\tbest: 3084.8860116 (26)\ttotal: 138ms\tremaining: 194ms\n",
      "27:\tlearn: 2878.4984370\ttest: 2878.4984370\ttest1: 3080.8061799\tbest: 3080.8061799 (27)\ttotal: 141ms\tremaining: 186ms\n",
      "28:\tlearn: 2872.3944647\ttest: 2872.3944647\ttest1: 3078.8785244\tbest: 3078.8785244 (28)\ttotal: 144ms\tremaining: 178ms\n",
      "29:\tlearn: 2866.4546161\ttest: 2866.4546161\ttest1: 3074.7326946\tbest: 3074.7326946 (29)\ttotal: 147ms\tremaining: 171ms\n",
      "30:\tlearn: 2857.3931808\ttest: 2857.3931808\ttest1: 3076.5770487\tbest: 3074.7326946 (29)\ttotal: 150ms\tremaining: 164ms\n",
      "31:\tlearn: 2852.4719165\ttest: 2852.4719165\ttest1: 3074.2039652\tbest: 3074.2039652 (31)\ttotal: 153ms\tremaining: 158ms\n",
      "32:\tlearn: 2848.4027525\ttest: 2848.4027525\ttest1: 3070.5231874\tbest: 3070.5231874 (32)\ttotal: 156ms\tremaining: 151ms\n",
      "33:\tlearn: 2840.4234784\ttest: 2840.4234784\ttest1: 3071.7842001\tbest: 3070.5231874 (32)\ttotal: 159ms\tremaining: 145ms\n",
      "34:\tlearn: 2835.9420426\ttest: 2835.9420426\ttest1: 3071.5623527\tbest: 3070.5231874 (32)\ttotal: 162ms\tremaining: 139ms\n",
      "35:\tlearn: 2832.1179566\ttest: 2832.1179566\ttest1: 3070.7219777\tbest: 3070.5231874 (32)\ttotal: 165ms\tremaining: 133ms\n",
      "36:\tlearn: 2829.2335603\ttest: 2829.2335603\ttest1: 3069.7579113\tbest: 3069.7579113 (36)\ttotal: 168ms\tremaining: 127ms\n",
      "37:\tlearn: 2824.5873788\ttest: 2824.5873788\ttest1: 3070.1329718\tbest: 3069.7579113 (36)\ttotal: 171ms\tremaining: 121ms\n",
      "38:\tlearn: 2822.2011418\ttest: 2822.2011418\ttest1: 3069.5418007\tbest: 3069.5418007 (38)\ttotal: 174ms\tremaining: 116ms\n",
      "39:\tlearn: 2819.1729893\ttest: 2819.1729893\ttest1: 3068.2043178\tbest: 3068.2043178 (39)\ttotal: 177ms\tremaining: 110ms\n",
      "40:\tlearn: 2815.2514810\ttest: 2815.2514810\ttest1: 3067.1094657\tbest: 3067.1094657 (40)\ttotal: 180ms\tremaining: 105ms\n",
      "41:\tlearn: 2811.5631739\ttest: 2811.5631739\ttest1: 3066.0566711\tbest: 3066.0566711 (41)\ttotal: 183ms\tremaining: 100ms\n",
      "42:\tlearn: 2807.9378506\ttest: 2807.9378506\ttest1: 3065.1055048\tbest: 3065.1055048 (42)\ttotal: 186ms\tremaining: 95ms\n",
      "43:\tlearn: 2804.4182602\ttest: 2804.4182602\ttest1: 3062.6466090\tbest: 3062.6466090 (43)\ttotal: 189ms\tremaining: 90ms\n",
      "44:\tlearn: 2801.5342546\ttest: 2801.5342546\ttest1: 3062.1368103\tbest: 3062.1368103 (44)\ttotal: 192ms\tremaining: 85.2ms\n",
      "45:\tlearn: 2797.5237704\ttest: 2797.5237704\ttest1: 3061.2171966\tbest: 3061.2171966 (45)\ttotal: 195ms\tremaining: 80.4ms\n",
      "46:\tlearn: 2793.0727627\ttest: 2793.0727627\ttest1: 3061.8760507\tbest: 3061.2171966 (45)\ttotal: 198ms\tremaining: 75.7ms\n",
      "47:\tlearn: 2785.1243603\ttest: 2785.1243603\ttest1: 3065.2009252\tbest: 3061.2171966 (45)\ttotal: 201ms\tremaining: 71ms\n",
      "48:\tlearn: 2782.1032593\ttest: 2782.1032593\ttest1: 3064.4613842\tbest: 3061.2171966 (45)\ttotal: 204ms\tremaining: 66.5ms\n",
      "49:\tlearn: 2778.0669367\ttest: 2778.0669367\ttest1: 3063.6987181\tbest: 3061.2171966 (45)\ttotal: 207ms\tremaining: 62ms\n",
      "50:\tlearn: 2771.6984552\ttest: 2771.6984552\ttest1: 3067.2272886\tbest: 3061.2171966 (45)\ttotal: 210ms\tremaining: 57.6ms\n",
      "51:\tlearn: 2770.5859354\ttest: 2770.5859354\ttest1: 3066.9802260\tbest: 3061.2171966 (45)\ttotal: 212ms\tremaining: 52.9ms\n",
      "52:\tlearn: 2768.0626116\ttest: 2768.0626116\ttest1: 3066.7119927\tbest: 3061.2171966 (45)\ttotal: 215ms\tremaining: 48.6ms\n",
      "53:\tlearn: 2762.1869090\ttest: 2762.1869090\ttest1: 3065.9063789\tbest: 3061.2171966 (45)\ttotal: 218ms\tremaining: 44.4ms\n",
      "54:\tlearn: 2760.1220016\ttest: 2760.1220016\ttest1: 3064.3097749\tbest: 3061.2171966 (45)\ttotal: 221ms\tremaining: 40.3ms\n",
      "55:\tlearn: 2756.1948917\ttest: 2756.1948917\ttest1: 3063.3305113\tbest: 3061.2171966 (45)\ttotal: 225ms\tremaining: 36.1ms\n",
      "56:\tlearn: 2752.9786557\ttest: 2752.9786557\ttest1: 3063.7887361\tbest: 3061.2171966 (45)\ttotal: 228ms\tremaining: 32ms\n",
      "57:\tlearn: 2748.8899702\ttest: 2748.8899702\ttest1: 3064.9580361\tbest: 3061.2171966 (45)\ttotal: 231ms\tremaining: 27.9ms\n",
      "58:\tlearn: 2744.2943857\ttest: 2744.2943857\ttest1: 3065.0618798\tbest: 3061.2171966 (45)\ttotal: 235ms\tremaining: 23.8ms\n",
      "59:\tlearn: 2741.2839663\ttest: 2741.2839663\ttest1: 3065.8034345\tbest: 3061.2171966 (45)\ttotal: 238ms\tremaining: 19.8ms\n",
      "60:\tlearn: 2736.6481910\ttest: 2736.6481910\ttest1: 3068.1462978\tbest: 3061.2171966 (45)\ttotal: 241ms\tremaining: 15.8ms\n",
      "61:\tlearn: 2734.7432613\ttest: 2734.7432613\ttest1: 3066.5468536\tbest: 3061.2171966 (45)\ttotal: 244ms\tremaining: 11.8ms\n",
      "62:\tlearn: 2731.6187094\ttest: 2731.6187094\ttest1: 3067.0476076\tbest: 3061.2171966 (45)\ttotal: 247ms\tremaining: 7.84ms\n",
      "63:\tlearn: 2727.8522450\ttest: 2727.8522450\ttest1: 3068.9278362\tbest: 3061.2171966 (45)\ttotal: 251ms\tremaining: 3.91ms\n",
      "64:\tlearn: 2721.7734837\ttest: 2721.7734837\ttest1: 3068.4994791\tbest: 3061.2171966 (45)\ttotal: 254ms\tremaining: 0us\n",
      "\n",
      "bestTest = 3061.217197\n",
      "bestIteration = 45\n",
      "\n",
      "Shrink model to first 46 iterations.\n"
     ]
    },
    {
     "data": {
      "text/plain": [
       "<catboost.core.CatBoostRegressor at 0x19b059b9588>"
      ]
     },
     "execution_count": 43,
     "metadata": {},
     "output_type": "execute_result"
    }
   ],
   "source": [
    "cat_model.fit(X_train, y_train, eval_set=[(X_train, y_train), (X_test, y_test)], early_stopping_rounds=500, use_best_model=True)"
   ]
  },
  {
   "cell_type": "code",
   "execution_count": null,
   "metadata": {},
   "outputs": [],
   "source": []
  },
  {
   "cell_type": "code",
   "execution_count": null,
   "metadata": {},
   "outputs": [],
   "source": []
  },
  {
   "cell_type": "code",
   "execution_count": null,
   "metadata": {},
   "outputs": [],
   "source": []
  },
  {
   "cell_type": "code",
   "execution_count": null,
   "metadata": {},
   "outputs": [],
   "source": []
  },
  {
   "cell_type": "code",
   "execution_count": null,
   "metadata": {},
   "outputs": [],
   "source": []
  },
  {
   "cell_type": "code",
   "execution_count": 44,
   "metadata": {},
   "outputs": [],
   "source": [
    "from sklearn.model_selection import KFold"
   ]
  },
  {
   "cell_type": "code",
   "execution_count": 48,
   "metadata": {},
   "outputs": [],
   "source": [
    "xgb = XGBRegressor(n_estimators=5000, max_depth=4, reg_lambda=5, random_state=101)\n",
    "NFOLDS = 7\n",
    "kf = KFold(n_splits=NFOLDS, shuffle=True, random_state=30)"
   ]
  },
  {
   "cell_type": "code",
   "execution_count": 52,
   "metadata": {},
   "outputs": [
    {
     "name": "stdout",
     "output_type": "stream",
     "text": [
      "============fold0=============\n",
      "[0]\tvalidation_0-rmse:5786.62158\tvalidation_1-rmse:5789.64258\n",
      "Multiple eval metrics have been passed: 'validation_1-rmse' will be used for early stopping.\n",
      "\n",
      "Will train until validation_1-rmse hasn't improved in 500 rounds.\n",
      "[1]\tvalidation_0-rmse:4586.20557\tvalidation_1-rmse:4616.29053\n",
      "[2]\tvalidation_0-rmse:3845.13599\tvalidation_1-rmse:3894.47461\n",
      "[3]\tvalidation_0-rmse:3410.55957\tvalidation_1-rmse:3478.31104\n",
      "[4]\tvalidation_0-rmse:3156.17627\tvalidation_1-rmse:3216.18604\n",
      "[5]\tvalidation_0-rmse:3010.62573\tvalidation_1-rmse:3078.95459\n",
      "[6]\tvalidation_0-rmse:2923.22827\tvalidation_1-rmse:3023.21289\n",
      "[7]\tvalidation_0-rmse:2867.47730\tvalidation_1-rmse:2996.55249\n",
      "[8]\tvalidation_0-rmse:2832.18774\tvalidation_1-rmse:2994.03857\n",
      "[9]\tvalidation_0-rmse:2805.82739\tvalidation_1-rmse:2980.36108\n",
      "[10]\tvalidation_0-rmse:2783.31177\tvalidation_1-rmse:2984.70654\n",
      "[11]\tvalidation_0-rmse:2763.24634\tvalidation_1-rmse:2993.95776\n",
      "[12]\tvalidation_0-rmse:2750.93066\tvalidation_1-rmse:2999.59595\n",
      "[13]\tvalidation_0-rmse:2724.97241\tvalidation_1-rmse:3013.29394\n",
      "[14]\tvalidation_0-rmse:2716.53687\tvalidation_1-rmse:3015.64160\n",
      "[15]\tvalidation_0-rmse:2697.92529\tvalidation_1-rmse:3025.60815\n",
      "[16]\tvalidation_0-rmse:2692.93530\tvalidation_1-rmse:3024.67529\n",
      "[17]\tvalidation_0-rmse:2681.80444\tvalidation_1-rmse:3027.28491\n",
      "[18]\tvalidation_0-rmse:2666.30859\tvalidation_1-rmse:3025.30200\n",
      "[19]\tvalidation_0-rmse:2657.17920\tvalidation_1-rmse:3030.01978\n",
      "[20]\tvalidation_0-rmse:2645.83423\tvalidation_1-rmse:3036.27905\n",
      "[21]\tvalidation_0-rmse:2625.78980\tvalidation_1-rmse:3046.98462\n",
      "[22]\tvalidation_0-rmse:2618.20483\tvalidation_1-rmse:3051.64258\n",
      "[23]\tvalidation_0-rmse:2612.65723\tvalidation_1-rmse:3050.05933\n",
      "[24]\tvalidation_0-rmse:2607.28345\tvalidation_1-rmse:3053.11865\n",
      "[25]\tvalidation_0-rmse:2593.69873\tvalidation_1-rmse:3056.85352\n",
      "[26]\tvalidation_0-rmse:2582.60205\tvalidation_1-rmse:3066.34912\n",
      "[27]\tvalidation_0-rmse:2558.82886\tvalidation_1-rmse:3072.04541\n",
      "[28]\tvalidation_0-rmse:2546.08545\tvalidation_1-rmse:3078.14478\n",
      "[29]\tvalidation_0-rmse:2532.32080\tvalidation_1-rmse:3083.21680\n",
      "[30]\tvalidation_0-rmse:2528.64844\tvalidation_1-rmse:3085.59741\n",
      "[31]\tvalidation_0-rmse:2517.32715\tvalidation_1-rmse:3087.29028\n",
      "[32]\tvalidation_0-rmse:2507.50562\tvalidation_1-rmse:3087.05225\n",
      "[33]\tvalidation_0-rmse:2493.26733\tvalidation_1-rmse:3092.30957\n",
      "[34]\tvalidation_0-rmse:2486.30151\tvalidation_1-rmse:3093.94336\n",
      "[35]\tvalidation_0-rmse:2473.70410\tvalidation_1-rmse:3092.01562\n",
      "[36]\tvalidation_0-rmse:2462.80542\tvalidation_1-rmse:3083.73535\n",
      "[37]\tvalidation_0-rmse:2446.86572\tvalidation_1-rmse:3082.72314\n",
      "[38]\tvalidation_0-rmse:2443.63086\tvalidation_1-rmse:3085.88623\n",
      "[39]\tvalidation_0-rmse:2432.00439\tvalidation_1-rmse:3074.47363\n",
      "[40]\tvalidation_0-rmse:2422.50586\tvalidation_1-rmse:3077.24731\n",
      "[41]\tvalidation_0-rmse:2416.59644\tvalidation_1-rmse:3080.04199\n",
      "[42]\tvalidation_0-rmse:2412.53638\tvalidation_1-rmse:3084.08276\n",
      "[43]\tvalidation_0-rmse:2401.10010\tvalidation_1-rmse:3082.92114\n",
      "[44]\tvalidation_0-rmse:2395.97363\tvalidation_1-rmse:3080.81348\n",
      "[45]\tvalidation_0-rmse:2379.91968\tvalidation_1-rmse:3078.42310\n",
      "[46]\tvalidation_0-rmse:2372.44531\tvalidation_1-rmse:3077.51221\n",
      "[47]\tvalidation_0-rmse:2368.03955\tvalidation_1-rmse:3080.53784\n",
      "[48]\tvalidation_0-rmse:2359.67114\tvalidation_1-rmse:3081.64966\n",
      "[49]\tvalidation_0-rmse:2350.08936\tvalidation_1-rmse:3080.23022\n",
      "[50]\tvalidation_0-rmse:2347.61499\tvalidation_1-rmse:3084.74219\n",
      "[51]\tvalidation_0-rmse:2335.64551\tvalidation_1-rmse:3078.25073\n",
      "[52]\tvalidation_0-rmse:2328.58789\tvalidation_1-rmse:3080.01611\n",
      "[53]\tvalidation_0-rmse:2319.90991\tvalidation_1-rmse:3081.87573\n",
      "[54]\tvalidation_0-rmse:2317.55908\tvalidation_1-rmse:3083.98438\n",
      "[55]\tvalidation_0-rmse:2306.57910\tvalidation_1-rmse:3090.95630\n",
      "[56]\tvalidation_0-rmse:2297.04394\tvalidation_1-rmse:3090.00122\n",
      "[57]\tvalidation_0-rmse:2285.41748\tvalidation_1-rmse:3100.07910\n",
      "[58]\tvalidation_0-rmse:2272.12231\tvalidation_1-rmse:3103.95435\n",
      "[59]\tvalidation_0-rmse:2261.93066\tvalidation_1-rmse:3101.64575\n",
      "[60]\tvalidation_0-rmse:2260.21094\tvalidation_1-rmse:3100.92358\n",
      "[61]\tvalidation_0-rmse:2247.31348\tvalidation_1-rmse:3101.25586\n",
      "[62]\tvalidation_0-rmse:2238.77100\tvalidation_1-rmse:3103.11328\n",
      "[63]\tvalidation_0-rmse:2229.06836\tvalidation_1-rmse:3102.27832\n",
      "[64]\tvalidation_0-rmse:2219.41772\tvalidation_1-rmse:3106.65332\n",
      "[65]\tvalidation_0-rmse:2214.04468\tvalidation_1-rmse:3105.11377\n",
      "[66]\tvalidation_0-rmse:2204.03711\tvalidation_1-rmse:3103.01318\n",
      "[67]\tvalidation_0-rmse:2189.91724\tvalidation_1-rmse:3115.10840\n",
      "[68]\tvalidation_0-rmse:2176.06836\tvalidation_1-rmse:3126.32910\n",
      "[69]\tvalidation_0-rmse:2168.17603\tvalidation_1-rmse:3127.54785\n",
      "[70]\tvalidation_0-rmse:2160.46460\tvalidation_1-rmse:3124.22119\n",
      "[71]\tvalidation_0-rmse:2153.86255\tvalidation_1-rmse:3127.76269\n",
      "[72]\tvalidation_0-rmse:2144.54370\tvalidation_1-rmse:3129.72266\n",
      "[73]\tvalidation_0-rmse:2137.50537\tvalidation_1-rmse:3134.84692\n",
      "[74]\tvalidation_0-rmse:2125.00391\tvalidation_1-rmse:3135.58887\n",
      "[75]\tvalidation_0-rmse:2119.55737\tvalidation_1-rmse:3142.10986\n",
      "[76]\tvalidation_0-rmse:2110.01929\tvalidation_1-rmse:3148.16504\n",
      "[77]\tvalidation_0-rmse:2104.34717\tvalidation_1-rmse:3149.67261\n",
      "[78]\tvalidation_0-rmse:2092.41602\tvalidation_1-rmse:3162.42554\n",
      "[79]\tvalidation_0-rmse:2082.49976\tvalidation_1-rmse:3163.26245\n",
      "[80]\tvalidation_0-rmse:2077.38696\tvalidation_1-rmse:3162.73877\n",
      "[81]\tvalidation_0-rmse:2069.81128\tvalidation_1-rmse:3163.97583\n",
      "[82]\tvalidation_0-rmse:2068.44312\tvalidation_1-rmse:3164.15112\n",
      "[83]\tvalidation_0-rmse:2065.25928\tvalidation_1-rmse:3164.38403\n",
      "[84]\tvalidation_0-rmse:2059.68872\tvalidation_1-rmse:3166.75122\n",
      "[85]\tvalidation_0-rmse:2048.42993\tvalidation_1-rmse:3168.50317\n",
      "[86]\tvalidation_0-rmse:2043.03027\tvalidation_1-rmse:3173.92871\n",
      "[87]\tvalidation_0-rmse:2038.87683\tvalidation_1-rmse:3177.91357\n",
      "[88]\tvalidation_0-rmse:2033.55798\tvalidation_1-rmse:3184.60693\n",
      "[89]\tvalidation_0-rmse:2024.84460\tvalidation_1-rmse:3179.64600\n",
      "[90]\tvalidation_0-rmse:2019.59583\tvalidation_1-rmse:3180.99194\n",
      "[91]\tvalidation_0-rmse:2012.15478\tvalidation_1-rmse:3181.78711\n",
      "[92]\tvalidation_0-rmse:2003.99939\tvalidation_1-rmse:3180.45410\n",
      "[93]\tvalidation_0-rmse:1996.20837\tvalidation_1-rmse:3178.29883\n",
      "[94]\tvalidation_0-rmse:1985.88013\tvalidation_1-rmse:3184.89356\n",
      "[95]\tvalidation_0-rmse:1973.74121\tvalidation_1-rmse:3178.87866\n",
      "[96]\tvalidation_0-rmse:1970.91394\tvalidation_1-rmse:3181.01733\n",
      "[97]\tvalidation_0-rmse:1963.69006\tvalidation_1-rmse:3178.33130\n",
      "[98]\tvalidation_0-rmse:1953.79736\tvalidation_1-rmse:3182.44067\n",
      "[99]\tvalidation_0-rmse:1946.77930\tvalidation_1-rmse:3182.71020\n",
      "[100]\tvalidation_0-rmse:1939.39038\tvalidation_1-rmse:3179.98560\n",
      "[101]\tvalidation_0-rmse:1930.83618\tvalidation_1-rmse:3179.87476\n",
      "[102]\tvalidation_0-rmse:1923.61401\tvalidation_1-rmse:3181.07739\n",
      "[103]\tvalidation_0-rmse:1919.60266\tvalidation_1-rmse:3181.72412\n",
      "[104]\tvalidation_0-rmse:1913.95508\tvalidation_1-rmse:3182.46460\n",
      "[105]\tvalidation_0-rmse:1908.11731\tvalidation_1-rmse:3186.65869\n",
      "[106]\tvalidation_0-rmse:1901.62598\tvalidation_1-rmse:3185.74707\n",
      "[107]\tvalidation_0-rmse:1893.64819\tvalidation_1-rmse:3185.22339\n",
      "[108]\tvalidation_0-rmse:1888.32129\tvalidation_1-rmse:3186.47485\n",
      "[109]\tvalidation_0-rmse:1882.09204\tvalidation_1-rmse:3190.84814\n",
      "[110]\tvalidation_0-rmse:1878.21228\tvalidation_1-rmse:3193.49023\n",
      "[111]\tvalidation_0-rmse:1872.63391\tvalidation_1-rmse:3191.75464\n",
      "[112]\tvalidation_0-rmse:1865.47827\tvalidation_1-rmse:3190.85644\n",
      "[113]\tvalidation_0-rmse:1864.35144\tvalidation_1-rmse:3191.27686\n",
      "[114]\tvalidation_0-rmse:1858.75940\tvalidation_1-rmse:3193.28980\n",
      "[115]\tvalidation_0-rmse:1851.84082\tvalidation_1-rmse:3197.94800\n",
      "[116]\tvalidation_0-rmse:1845.93494\tvalidation_1-rmse:3201.00586\n",
      "[117]\tvalidation_0-rmse:1842.24316\tvalidation_1-rmse:3199.65454\n",
      "[118]\tvalidation_0-rmse:1840.67676\tvalidation_1-rmse:3199.83740\n",
      "[119]\tvalidation_0-rmse:1831.42200\tvalidation_1-rmse:3202.80811\n",
      "[120]\tvalidation_0-rmse:1821.52441\tvalidation_1-rmse:3200.33350\n",
      "[121]\tvalidation_0-rmse:1815.51050\tvalidation_1-rmse:3201.74097\n",
      "[122]\tvalidation_0-rmse:1808.92346\tvalidation_1-rmse:3206.00977\n",
      "[123]\tvalidation_0-rmse:1802.31311\tvalidation_1-rmse:3207.07739\n",
      "[124]\tvalidation_0-rmse:1797.85840\tvalidation_1-rmse:3206.01440\n",
      "[125]\tvalidation_0-rmse:1794.66077\tvalidation_1-rmse:3212.62158\n",
      "[126]\tvalidation_0-rmse:1789.74292\tvalidation_1-rmse:3211.44019\n"
     ]
    },
    {
     "name": "stdout",
     "output_type": "stream",
     "text": [
      "[127]\tvalidation_0-rmse:1779.45435\tvalidation_1-rmse:3214.79272\n",
      "[128]\tvalidation_0-rmse:1773.22534\tvalidation_1-rmse:3212.55322\n",
      "[129]\tvalidation_0-rmse:1766.37756\tvalidation_1-rmse:3211.34424\n",
      "[130]\tvalidation_0-rmse:1763.95105\tvalidation_1-rmse:3212.04443\n",
      "[131]\tvalidation_0-rmse:1756.03235\tvalidation_1-rmse:3210.65015\n",
      "[132]\tvalidation_0-rmse:1754.03406\tvalidation_1-rmse:3210.12793\n",
      "[133]\tvalidation_0-rmse:1750.82617\tvalidation_1-rmse:3213.06641\n",
      "[134]\tvalidation_0-rmse:1747.51160\tvalidation_1-rmse:3213.29053\n",
      "[135]\tvalidation_0-rmse:1742.40002\tvalidation_1-rmse:3217.90430\n",
      "[136]\tvalidation_0-rmse:1739.80750\tvalidation_1-rmse:3214.89697\n",
      "[137]\tvalidation_0-rmse:1737.50879\tvalidation_1-rmse:3210.73120\n",
      "[138]\tvalidation_0-rmse:1732.30408\tvalidation_1-rmse:3210.11182\n",
      "[139]\tvalidation_0-rmse:1730.36877\tvalidation_1-rmse:3211.39087\n",
      "[140]\tvalidation_0-rmse:1725.69043\tvalidation_1-rmse:3212.72681\n",
      "[141]\tvalidation_0-rmse:1722.12744\tvalidation_1-rmse:3214.71167\n",
      "[142]\tvalidation_0-rmse:1715.93127\tvalidation_1-rmse:3216.50342\n",
      "[143]\tvalidation_0-rmse:1714.51587\tvalidation_1-rmse:3217.04028\n",
      "[144]\tvalidation_0-rmse:1706.19544\tvalidation_1-rmse:3215.12402\n",
      "[145]\tvalidation_0-rmse:1704.28613\tvalidation_1-rmse:3217.31226\n",
      "[146]\tvalidation_0-rmse:1698.64600\tvalidation_1-rmse:3217.73022\n",
      "[147]\tvalidation_0-rmse:1697.55530\tvalidation_1-rmse:3218.05713\n",
      "[148]\tvalidation_0-rmse:1694.42017\tvalidation_1-rmse:3219.04053\n",
      "[149]\tvalidation_0-rmse:1689.65210\tvalidation_1-rmse:3223.65332\n",
      "[150]\tvalidation_0-rmse:1683.60413\tvalidation_1-rmse:3230.29102\n",
      "[151]\tvalidation_0-rmse:1680.35938\tvalidation_1-rmse:3231.70508\n",
      "[152]\tvalidation_0-rmse:1677.64160\tvalidation_1-rmse:3233.61304\n",
      "[153]\tvalidation_0-rmse:1673.47778\tvalidation_1-rmse:3234.82593\n",
      "[154]\tvalidation_0-rmse:1671.92700\tvalidation_1-rmse:3235.10303\n",
      "[155]\tvalidation_0-rmse:1671.03418\tvalidation_1-rmse:3235.52783\n",
      "[156]\tvalidation_0-rmse:1666.65149\tvalidation_1-rmse:3236.95728\n",
      "[157]\tvalidation_0-rmse:1664.18591\tvalidation_1-rmse:3237.92554\n",
      "[158]\tvalidation_0-rmse:1661.63867\tvalidation_1-rmse:3239.20728\n",
      "[159]\tvalidation_0-rmse:1659.64465\tvalidation_1-rmse:3240.84253\n",
      "[160]\tvalidation_0-rmse:1658.78040\tvalidation_1-rmse:3241.44653\n",
      "[161]\tvalidation_0-rmse:1656.09009\tvalidation_1-rmse:3240.48242\n",
      "[162]\tvalidation_0-rmse:1649.85535\tvalidation_1-rmse:3242.17700\n",
      "[163]\tvalidation_0-rmse:1646.37073\tvalidation_1-rmse:3240.13574\n",
      "[164]\tvalidation_0-rmse:1644.37463\tvalidation_1-rmse:3241.50781\n",
      "[165]\tvalidation_0-rmse:1637.33960\tvalidation_1-rmse:3246.29907\n",
      "[166]\tvalidation_0-rmse:1633.66419\tvalidation_1-rmse:3245.39624\n",
      "[167]\tvalidation_0-rmse:1624.77686\tvalidation_1-rmse:3252.41577\n",
      "[168]\tvalidation_0-rmse:1620.70960\tvalidation_1-rmse:3255.15576\n",
      "[169]\tvalidation_0-rmse:1616.47644\tvalidation_1-rmse:3256.22485\n",
      "[170]\tvalidation_0-rmse:1612.01538\tvalidation_1-rmse:3258.96973\n",
      "[171]\tvalidation_0-rmse:1607.25952\tvalidation_1-rmse:3262.06860\n",
      "[172]\tvalidation_0-rmse:1600.48230\tvalidation_1-rmse:3260.26367\n",
      "[173]\tvalidation_0-rmse:1595.42859\tvalidation_1-rmse:3262.57349\n",
      "[174]\tvalidation_0-rmse:1592.23181\tvalidation_1-rmse:3263.38916\n",
      "[175]\tvalidation_0-rmse:1587.48657\tvalidation_1-rmse:3263.19263\n",
      "[176]\tvalidation_0-rmse:1579.75623\tvalidation_1-rmse:3268.55981\n",
      "[177]\tvalidation_0-rmse:1575.43750\tvalidation_1-rmse:3271.00195\n",
      "[178]\tvalidation_0-rmse:1573.59851\tvalidation_1-rmse:3269.85644\n",
      "[179]\tvalidation_0-rmse:1570.17798\tvalidation_1-rmse:3269.12280\n",
      "[180]\tvalidation_0-rmse:1564.83923\tvalidation_1-rmse:3262.97656\n",
      "[181]\tvalidation_0-rmse:1561.82800\tvalidation_1-rmse:3265.51685\n",
      "[182]\tvalidation_0-rmse:1559.48987\tvalidation_1-rmse:3266.04077\n",
      "[183]\tvalidation_0-rmse:1555.85864\tvalidation_1-rmse:3266.65308\n",
      "[184]\tvalidation_0-rmse:1552.93603\tvalidation_1-rmse:3265.51856\n",
      "[185]\tvalidation_0-rmse:1548.64404\tvalidation_1-rmse:3262.60693\n",
      "[186]\tvalidation_0-rmse:1544.97852\tvalidation_1-rmse:3262.24170\n",
      "[187]\tvalidation_0-rmse:1543.38940\tvalidation_1-rmse:3264.15552\n",
      "[188]\tvalidation_0-rmse:1539.53528\tvalidation_1-rmse:3262.15747\n",
      "[189]\tvalidation_0-rmse:1537.56726\tvalidation_1-rmse:3261.32886\n",
      "[190]\tvalidation_0-rmse:1535.60022\tvalidation_1-rmse:3265.18408\n",
      "[191]\tvalidation_0-rmse:1534.65979\tvalidation_1-rmse:3265.90576\n",
      "[192]\tvalidation_0-rmse:1533.07519\tvalidation_1-rmse:3266.12134\n",
      "[193]\tvalidation_0-rmse:1531.14380\tvalidation_1-rmse:3266.14038\n",
      "[194]\tvalidation_0-rmse:1528.64087\tvalidation_1-rmse:3265.13355\n",
      "[195]\tvalidation_0-rmse:1527.94373\tvalidation_1-rmse:3265.21167\n",
      "[196]\tvalidation_0-rmse:1523.87634\tvalidation_1-rmse:3265.26196\n",
      "[197]\tvalidation_0-rmse:1519.46704\tvalidation_1-rmse:3265.45044\n",
      "[198]\tvalidation_0-rmse:1515.62097\tvalidation_1-rmse:3264.53418\n",
      "[199]\tvalidation_0-rmse:1511.30188\tvalidation_1-rmse:3263.54907\n",
      "[200]\tvalidation_0-rmse:1509.95715\tvalidation_1-rmse:3264.99145\n",
      "[201]\tvalidation_0-rmse:1507.41040\tvalidation_1-rmse:3261.13428\n",
      "[202]\tvalidation_0-rmse:1504.86267\tvalidation_1-rmse:3259.73120\n",
      "[203]\tvalidation_0-rmse:1502.31824\tvalidation_1-rmse:3259.25366\n",
      "[204]\tvalidation_0-rmse:1497.69226\tvalidation_1-rmse:3261.13843\n",
      "[205]\tvalidation_0-rmse:1493.22473\tvalidation_1-rmse:3261.28027\n",
      "[206]\tvalidation_0-rmse:1489.51685\tvalidation_1-rmse:3264.38574\n",
      "[207]\tvalidation_0-rmse:1483.80847\tvalidation_1-rmse:3264.98975\n",
      "[208]\tvalidation_0-rmse:1480.14673\tvalidation_1-rmse:3267.88159\n",
      "[209]\tvalidation_0-rmse:1474.24268\tvalidation_1-rmse:3269.06396\n",
      "[210]\tvalidation_0-rmse:1468.62146\tvalidation_1-rmse:3273.08228\n",
      "[211]\tvalidation_0-rmse:1464.22681\tvalidation_1-rmse:3274.30054\n",
      "[212]\tvalidation_0-rmse:1460.22022\tvalidation_1-rmse:3273.68066\n",
      "[213]\tvalidation_0-rmse:1458.67065\tvalidation_1-rmse:3276.06934\n",
      "[214]\tvalidation_0-rmse:1452.77917\tvalidation_1-rmse:3276.73950\n",
      "[215]\tvalidation_0-rmse:1446.07263\tvalidation_1-rmse:3279.92920\n",
      "[216]\tvalidation_0-rmse:1441.45129\tvalidation_1-rmse:3282.39185\n",
      "[217]\tvalidation_0-rmse:1439.09363\tvalidation_1-rmse:3282.36548\n",
      "[218]\tvalidation_0-rmse:1434.23779\tvalidation_1-rmse:3278.95093\n",
      "[219]\tvalidation_0-rmse:1431.27502\tvalidation_1-rmse:3280.62183\n",
      "[220]\tvalidation_0-rmse:1427.94604\tvalidation_1-rmse:3282.20337\n",
      "[221]\tvalidation_0-rmse:1422.61853\tvalidation_1-rmse:3282.54761\n",
      "[222]\tvalidation_0-rmse:1417.92627\tvalidation_1-rmse:3283.28174\n",
      "[223]\tvalidation_0-rmse:1416.85425\tvalidation_1-rmse:3281.17603\n",
      "[224]\tvalidation_0-rmse:1413.21863\tvalidation_1-rmse:3281.64331\n",
      "[225]\tvalidation_0-rmse:1407.45215\tvalidation_1-rmse:3289.37134\n",
      "[226]\tvalidation_0-rmse:1404.34290\tvalidation_1-rmse:3292.68604\n",
      "[227]\tvalidation_0-rmse:1402.51318\tvalidation_1-rmse:3294.35254\n",
      "[228]\tvalidation_0-rmse:1399.72278\tvalidation_1-rmse:3294.18237\n",
      "[229]\tvalidation_0-rmse:1396.22375\tvalidation_1-rmse:3290.11694\n",
      "[230]\tvalidation_0-rmse:1395.86121\tvalidation_1-rmse:3290.43701\n",
      "[231]\tvalidation_0-rmse:1395.05371\tvalidation_1-rmse:3290.55273\n",
      "[232]\tvalidation_0-rmse:1392.62415\tvalidation_1-rmse:3291.51221\n",
      "[233]\tvalidation_0-rmse:1389.30518\tvalidation_1-rmse:3291.79834\n",
      "[234]\tvalidation_0-rmse:1386.48047\tvalidation_1-rmse:3290.76758\n",
      "[235]\tvalidation_0-rmse:1381.44544\tvalidation_1-rmse:3289.32739\n",
      "[236]\tvalidation_0-rmse:1379.54175\tvalidation_1-rmse:3288.78711\n",
      "[237]\tvalidation_0-rmse:1376.26062\tvalidation_1-rmse:3290.07251\n",
      "[238]\tvalidation_0-rmse:1372.19641\tvalidation_1-rmse:3292.08887\n",
      "[239]\tvalidation_0-rmse:1365.82153\tvalidation_1-rmse:3293.54224\n",
      "[240]\tvalidation_0-rmse:1360.84595\tvalidation_1-rmse:3293.89575\n",
      "[241]\tvalidation_0-rmse:1357.44165\tvalidation_1-rmse:3295.22705\n",
      "[242]\tvalidation_0-rmse:1353.68396\tvalidation_1-rmse:3295.20386\n",
      "[243]\tvalidation_0-rmse:1351.66956\tvalidation_1-rmse:3294.71753\n",
      "[244]\tvalidation_0-rmse:1350.67078\tvalidation_1-rmse:3294.72217\n",
      "[245]\tvalidation_0-rmse:1348.67224\tvalidation_1-rmse:3294.66406\n",
      "[246]\tvalidation_0-rmse:1345.59412\tvalidation_1-rmse:3293.60156\n",
      "[247]\tvalidation_0-rmse:1344.13086\tvalidation_1-rmse:3294.69995\n",
      "[248]\tvalidation_0-rmse:1340.82874\tvalidation_1-rmse:3293.47266\n",
      "[249]\tvalidation_0-rmse:1337.58264\tvalidation_1-rmse:3294.64136\n",
      "[250]\tvalidation_0-rmse:1336.49939\tvalidation_1-rmse:3293.20801\n",
      "[251]\tvalidation_0-rmse:1333.54187\tvalidation_1-rmse:3296.30737\n",
      "[252]\tvalidation_0-rmse:1330.99182\tvalidation_1-rmse:3297.53247\n",
      "[253]\tvalidation_0-rmse:1327.71887\tvalidation_1-rmse:3298.94214\n",
      "[254]\tvalidation_0-rmse:1325.21155\tvalidation_1-rmse:3298.49243\n",
      "[255]\tvalidation_0-rmse:1323.07312\tvalidation_1-rmse:3298.40137\n"
     ]
    },
    {
     "name": "stdout",
     "output_type": "stream",
     "text": [
      "[256]\tvalidation_0-rmse:1318.05115\tvalidation_1-rmse:3299.78760\n",
      "[257]\tvalidation_0-rmse:1315.64539\tvalidation_1-rmse:3300.70801\n",
      "[258]\tvalidation_0-rmse:1313.89392\tvalidation_1-rmse:3302.13696\n",
      "[259]\tvalidation_0-rmse:1311.58716\tvalidation_1-rmse:3300.85010\n",
      "[260]\tvalidation_0-rmse:1307.58594\tvalidation_1-rmse:3297.84253\n",
      "[261]\tvalidation_0-rmse:1302.98767\tvalidation_1-rmse:3298.72290\n",
      "[262]\tvalidation_0-rmse:1300.77356\tvalidation_1-rmse:3300.72607\n",
      "[263]\tvalidation_0-rmse:1297.03174\tvalidation_1-rmse:3302.37354\n",
      "[264]\tvalidation_0-rmse:1292.47278\tvalidation_1-rmse:3300.30322\n",
      "[265]\tvalidation_0-rmse:1289.74707\tvalidation_1-rmse:3302.99731\n",
      "[266]\tvalidation_0-rmse:1289.08069\tvalidation_1-rmse:3303.14526\n",
      "[267]\tvalidation_0-rmse:1284.85596\tvalidation_1-rmse:3305.27832\n",
      "[268]\tvalidation_0-rmse:1282.77832\tvalidation_1-rmse:3303.19214\n",
      "[269]\tvalidation_0-rmse:1279.95923\tvalidation_1-rmse:3301.66553\n",
      "[270]\tvalidation_0-rmse:1278.87134\tvalidation_1-rmse:3301.60669\n",
      "[271]\tvalidation_0-rmse:1277.03528\tvalidation_1-rmse:3301.65381\n",
      "[272]\tvalidation_0-rmse:1275.32776\tvalidation_1-rmse:3301.70459\n",
      "[273]\tvalidation_0-rmse:1268.93420\tvalidation_1-rmse:3304.52490\n",
      "[274]\tvalidation_0-rmse:1266.18933\tvalidation_1-rmse:3304.29956\n",
      "[275]\tvalidation_0-rmse:1264.39160\tvalidation_1-rmse:3305.63086\n",
      "[276]\tvalidation_0-rmse:1261.27820\tvalidation_1-rmse:3305.18237\n",
      "[277]\tvalidation_0-rmse:1259.98315\tvalidation_1-rmse:3307.10156\n",
      "[278]\tvalidation_0-rmse:1255.91785\tvalidation_1-rmse:3310.24878\n",
      "[279]\tvalidation_0-rmse:1252.80054\tvalidation_1-rmse:3313.05518\n",
      "[280]\tvalidation_0-rmse:1248.86182\tvalidation_1-rmse:3311.22778\n",
      "[281]\tvalidation_0-rmse:1245.49206\tvalidation_1-rmse:3311.78931\n",
      "[282]\tvalidation_0-rmse:1242.35059\tvalidation_1-rmse:3309.61060\n",
      "[283]\tvalidation_0-rmse:1240.49512\tvalidation_1-rmse:3308.83887\n",
      "[284]\tvalidation_0-rmse:1236.55688\tvalidation_1-rmse:3309.24780\n",
      "[285]\tvalidation_0-rmse:1232.94482\tvalidation_1-rmse:3311.02710\n",
      "[286]\tvalidation_0-rmse:1227.90772\tvalidation_1-rmse:3310.31689\n",
      "[287]\tvalidation_0-rmse:1223.59619\tvalidation_1-rmse:3310.85693\n",
      "[288]\tvalidation_0-rmse:1218.26807\tvalidation_1-rmse:3314.34204\n",
      "[289]\tvalidation_0-rmse:1214.48816\tvalidation_1-rmse:3317.54981\n",
      "[290]\tvalidation_0-rmse:1212.24976\tvalidation_1-rmse:3317.91992\n",
      "[291]\tvalidation_0-rmse:1210.56531\tvalidation_1-rmse:3316.87329\n",
      "[292]\tvalidation_0-rmse:1205.94544\tvalidation_1-rmse:3315.74854\n",
      "[293]\tvalidation_0-rmse:1201.20264\tvalidation_1-rmse:3317.23389\n",
      "[294]\tvalidation_0-rmse:1198.37402\tvalidation_1-rmse:3317.43994\n",
      "[295]\tvalidation_0-rmse:1196.23694\tvalidation_1-rmse:3318.42651\n",
      "[296]\tvalidation_0-rmse:1193.30566\tvalidation_1-rmse:3318.00000\n",
      "[297]\tvalidation_0-rmse:1190.20850\tvalidation_1-rmse:3320.38452\n",
      "[298]\tvalidation_0-rmse:1188.00500\tvalidation_1-rmse:3319.96240\n",
      "[299]\tvalidation_0-rmse:1184.81128\tvalidation_1-rmse:3318.42432\n",
      "[300]\tvalidation_0-rmse:1183.70984\tvalidation_1-rmse:3318.81836\n",
      "[301]\tvalidation_0-rmse:1182.03284\tvalidation_1-rmse:3319.57519\n",
      "[302]\tvalidation_0-rmse:1180.21411\tvalidation_1-rmse:3318.51636\n",
      "[303]\tvalidation_0-rmse:1177.33508\tvalidation_1-rmse:3317.17627\n",
      "[304]\tvalidation_0-rmse:1173.90833\tvalidation_1-rmse:3319.31104\n",
      "[305]\tvalidation_0-rmse:1171.75903\tvalidation_1-rmse:3320.74268\n",
      "[306]\tvalidation_0-rmse:1169.69336\tvalidation_1-rmse:3319.86890\n",
      "[307]\tvalidation_0-rmse:1167.42639\tvalidation_1-rmse:3321.71948\n",
      "[308]\tvalidation_0-rmse:1165.03748\tvalidation_1-rmse:3326.83008\n",
      "[309]\tvalidation_0-rmse:1162.97461\tvalidation_1-rmse:3327.78540\n",
      "[310]\tvalidation_0-rmse:1161.20105\tvalidation_1-rmse:3327.82519\n",
      "[311]\tvalidation_0-rmse:1160.57751\tvalidation_1-rmse:3326.24390\n",
      "[312]\tvalidation_0-rmse:1158.20374\tvalidation_1-rmse:3326.16821\n",
      "[313]\tvalidation_0-rmse:1156.55676\tvalidation_1-rmse:3328.36792\n",
      "[314]\tvalidation_0-rmse:1154.13696\tvalidation_1-rmse:3331.05518\n",
      "[315]\tvalidation_0-rmse:1151.87488\tvalidation_1-rmse:3331.96704\n",
      "[316]\tvalidation_0-rmse:1149.08728\tvalidation_1-rmse:3332.92163\n",
      "[317]\tvalidation_0-rmse:1143.98621\tvalidation_1-rmse:3333.81519\n",
      "[318]\tvalidation_0-rmse:1142.66785\tvalidation_1-rmse:3334.37939\n",
      "[319]\tvalidation_0-rmse:1138.68665\tvalidation_1-rmse:3337.56348\n",
      "[320]\tvalidation_0-rmse:1134.86389\tvalidation_1-rmse:3338.69336\n",
      "[321]\tvalidation_0-rmse:1133.16773\tvalidation_1-rmse:3339.92114\n",
      "[322]\tvalidation_0-rmse:1131.88989\tvalidation_1-rmse:3341.23804\n",
      "[323]\tvalidation_0-rmse:1129.08154\tvalidation_1-rmse:3342.77588\n",
      "[324]\tvalidation_0-rmse:1127.08545\tvalidation_1-rmse:3343.83423\n",
      "[325]\tvalidation_0-rmse:1126.04761\tvalidation_1-rmse:3344.48657\n",
      "[326]\tvalidation_0-rmse:1121.65015\tvalidation_1-rmse:3345.29224\n",
      "[327]\tvalidation_0-rmse:1119.48242\tvalidation_1-rmse:3345.90430\n",
      "[328]\tvalidation_0-rmse:1116.55408\tvalidation_1-rmse:3347.88452\n",
      "[329]\tvalidation_0-rmse:1113.40588\tvalidation_1-rmse:3350.65942\n",
      "[330]\tvalidation_0-rmse:1111.02808\tvalidation_1-rmse:3350.61182\n",
      "[331]\tvalidation_0-rmse:1108.42969\tvalidation_1-rmse:3351.35474\n",
      "[332]\tvalidation_0-rmse:1105.34253\tvalidation_1-rmse:3348.09668\n",
      "[333]\tvalidation_0-rmse:1101.81909\tvalidation_1-rmse:3347.65503\n",
      "[334]\tvalidation_0-rmse:1100.16565\tvalidation_1-rmse:3347.12378\n",
      "[335]\tvalidation_0-rmse:1097.50024\tvalidation_1-rmse:3347.08447\n",
      "[336]\tvalidation_0-rmse:1096.61560\tvalidation_1-rmse:3347.53174\n",
      "[337]\tvalidation_0-rmse:1095.32495\tvalidation_1-rmse:3346.53980\n",
      "[338]\tvalidation_0-rmse:1093.26160\tvalidation_1-rmse:3346.49976\n",
      "[339]\tvalidation_0-rmse:1090.15454\tvalidation_1-rmse:3347.11231\n",
      "[340]\tvalidation_0-rmse:1087.41882\tvalidation_1-rmse:3346.72339\n",
      "[341]\tvalidation_0-rmse:1085.11560\tvalidation_1-rmse:3347.82568\n",
      "[342]\tvalidation_0-rmse:1082.95642\tvalidation_1-rmse:3347.51269\n",
      "[343]\tvalidation_0-rmse:1080.14050\tvalidation_1-rmse:3346.26660\n",
      "[344]\tvalidation_0-rmse:1078.02124\tvalidation_1-rmse:3346.15649\n",
      "[345]\tvalidation_0-rmse:1073.58618\tvalidation_1-rmse:3345.19653\n",
      "[346]\tvalidation_0-rmse:1070.70740\tvalidation_1-rmse:3345.50146\n",
      "[347]\tvalidation_0-rmse:1066.80542\tvalidation_1-rmse:3346.47168\n",
      "[348]\tvalidation_0-rmse:1061.84265\tvalidation_1-rmse:3342.58423\n",
      "[349]\tvalidation_0-rmse:1058.21533\tvalidation_1-rmse:3343.63818\n",
      "[350]\tvalidation_0-rmse:1054.69116\tvalidation_1-rmse:3342.48926\n",
      "[351]\tvalidation_0-rmse:1052.30347\tvalidation_1-rmse:3341.94165\n",
      "[352]\tvalidation_0-rmse:1049.15051\tvalidation_1-rmse:3344.29956\n",
      "[353]\tvalidation_0-rmse:1046.88330\tvalidation_1-rmse:3342.55664\n",
      "[354]\tvalidation_0-rmse:1042.38159\tvalidation_1-rmse:3345.60059\n",
      "[355]\tvalidation_0-rmse:1040.18860\tvalidation_1-rmse:3348.03516\n",
      "[356]\tvalidation_0-rmse:1037.49487\tvalidation_1-rmse:3349.01856\n",
      "[357]\tvalidation_0-rmse:1035.86145\tvalidation_1-rmse:3349.19092\n",
      "[358]\tvalidation_0-rmse:1034.52112\tvalidation_1-rmse:3349.37476\n",
      "[359]\tvalidation_0-rmse:1032.82336\tvalidation_1-rmse:3350.77832\n",
      "[360]\tvalidation_0-rmse:1030.48767\tvalidation_1-rmse:3353.30322\n",
      "[361]\tvalidation_0-rmse:1028.98645\tvalidation_1-rmse:3353.53491\n",
      "[362]\tvalidation_0-rmse:1026.26331\tvalidation_1-rmse:3351.68921\n",
      "[363]\tvalidation_0-rmse:1023.67358\tvalidation_1-rmse:3351.39185\n",
      "[364]\tvalidation_0-rmse:1022.19269\tvalidation_1-rmse:3350.51343\n",
      "[365]\tvalidation_0-rmse:1020.16058\tvalidation_1-rmse:3351.46753\n",
      "[366]\tvalidation_0-rmse:1017.62860\tvalidation_1-rmse:3352.87109\n",
      "[367]\tvalidation_0-rmse:1016.36639\tvalidation_1-rmse:3353.22632\n",
      "[368]\tvalidation_0-rmse:1014.52728\tvalidation_1-rmse:3353.78662\n",
      "[369]\tvalidation_0-rmse:1013.09723\tvalidation_1-rmse:3355.23682\n",
      "[370]\tvalidation_0-rmse:1012.70203\tvalidation_1-rmse:3354.69824\n",
      "[371]\tvalidation_0-rmse:1010.83136\tvalidation_1-rmse:3354.49854\n",
      "[372]\tvalidation_0-rmse:1010.47723\tvalidation_1-rmse:3354.43359\n",
      "[373]\tvalidation_0-rmse:1009.10907\tvalidation_1-rmse:3354.83301\n",
      "[374]\tvalidation_0-rmse:1007.13556\tvalidation_1-rmse:3354.88843\n",
      "[375]\tvalidation_0-rmse:1005.79987\tvalidation_1-rmse:3356.26269\n",
      "[376]\tvalidation_0-rmse:1003.18152\tvalidation_1-rmse:3358.31885\n",
      "[377]\tvalidation_0-rmse:1001.07989\tvalidation_1-rmse:3358.72510\n",
      "[378]\tvalidation_0-rmse:997.49329\tvalidation_1-rmse:3358.84644\n",
      "[379]\tvalidation_0-rmse:994.05292\tvalidation_1-rmse:3359.07715\n",
      "[380]\tvalidation_0-rmse:992.05975\tvalidation_1-rmse:3359.97070\n",
      "[381]\tvalidation_0-rmse:991.85315\tvalidation_1-rmse:3359.94751\n",
      "[382]\tvalidation_0-rmse:987.28076\tvalidation_1-rmse:3365.98291\n",
      "[383]\tvalidation_0-rmse:984.48633\tvalidation_1-rmse:3366.53687\n",
      "[384]\tvalidation_0-rmse:982.66107\tvalidation_1-rmse:3366.60718\n"
     ]
    },
    {
     "name": "stdout",
     "output_type": "stream",
     "text": [
      "[385]\tvalidation_0-rmse:979.82178\tvalidation_1-rmse:3365.64160\n",
      "[386]\tvalidation_0-rmse:978.42456\tvalidation_1-rmse:3365.70703\n",
      "[387]\tvalidation_0-rmse:977.07776\tvalidation_1-rmse:3364.48438\n",
      "[388]\tvalidation_0-rmse:975.29364\tvalidation_1-rmse:3365.07349\n",
      "[389]\tvalidation_0-rmse:974.13513\tvalidation_1-rmse:3364.43237\n",
      "[390]\tvalidation_0-rmse:970.49902\tvalidation_1-rmse:3363.54883\n",
      "[391]\tvalidation_0-rmse:968.13019\tvalidation_1-rmse:3364.48218\n",
      "[392]\tvalidation_0-rmse:967.48090\tvalidation_1-rmse:3365.03149\n",
      "[393]\tvalidation_0-rmse:965.90912\tvalidation_1-rmse:3364.25659\n",
      "[394]\tvalidation_0-rmse:963.53906\tvalidation_1-rmse:3364.36572\n",
      "[395]\tvalidation_0-rmse:961.54321\tvalidation_1-rmse:3363.04346\n",
      "[396]\tvalidation_0-rmse:958.57947\tvalidation_1-rmse:3362.59814\n",
      "[397]\tvalidation_0-rmse:957.09668\tvalidation_1-rmse:3362.27490\n",
      "[398]\tvalidation_0-rmse:954.69605\tvalidation_1-rmse:3362.31689\n",
      "[399]\tvalidation_0-rmse:952.17499\tvalidation_1-rmse:3362.50513\n",
      "[400]\tvalidation_0-rmse:949.61481\tvalidation_1-rmse:3363.65137\n",
      "[401]\tvalidation_0-rmse:948.70960\tvalidation_1-rmse:3363.52856\n",
      "[402]\tvalidation_0-rmse:946.89386\tvalidation_1-rmse:3363.12158\n",
      "[403]\tvalidation_0-rmse:943.08826\tvalidation_1-rmse:3364.65894\n",
      "[404]\tvalidation_0-rmse:939.94946\tvalidation_1-rmse:3365.04199\n",
      "[405]\tvalidation_0-rmse:938.74670\tvalidation_1-rmse:3364.48804\n",
      "[406]\tvalidation_0-rmse:936.54053\tvalidation_1-rmse:3363.98608\n",
      "[407]\tvalidation_0-rmse:934.63904\tvalidation_1-rmse:3364.98340\n",
      "[408]\tvalidation_0-rmse:932.95136\tvalidation_1-rmse:3364.17456\n",
      "[409]\tvalidation_0-rmse:931.59662\tvalidation_1-rmse:3363.70166\n",
      "[410]\tvalidation_0-rmse:929.40363\tvalidation_1-rmse:3367.00781\n",
      "[411]\tvalidation_0-rmse:927.64032\tvalidation_1-rmse:3367.15747\n",
      "[412]\tvalidation_0-rmse:925.45215\tvalidation_1-rmse:3367.31030\n",
      "[413]\tvalidation_0-rmse:924.71924\tvalidation_1-rmse:3367.57080\n",
      "[414]\tvalidation_0-rmse:923.54498\tvalidation_1-rmse:3366.51538\n",
      "[415]\tvalidation_0-rmse:922.32910\tvalidation_1-rmse:3367.32642\n",
      "[416]\tvalidation_0-rmse:920.21198\tvalidation_1-rmse:3367.71069\n",
      "[417]\tvalidation_0-rmse:917.46967\tvalidation_1-rmse:3367.90259\n",
      "[418]\tvalidation_0-rmse:916.56360\tvalidation_1-rmse:3367.60010\n",
      "[419]\tvalidation_0-rmse:914.33862\tvalidation_1-rmse:3367.27319\n",
      "[420]\tvalidation_0-rmse:912.18469\tvalidation_1-rmse:3366.75122\n",
      "[421]\tvalidation_0-rmse:909.51605\tvalidation_1-rmse:3367.74561\n",
      "[422]\tvalidation_0-rmse:907.86414\tvalidation_1-rmse:3368.26489\n",
      "[423]\tvalidation_0-rmse:907.07367\tvalidation_1-rmse:3368.19238\n",
      "[424]\tvalidation_0-rmse:902.30096\tvalidation_1-rmse:3369.81445\n",
      "[425]\tvalidation_0-rmse:900.72040\tvalidation_1-rmse:3370.80859\n",
      "[426]\tvalidation_0-rmse:899.48859\tvalidation_1-rmse:3372.40088\n",
      "[427]\tvalidation_0-rmse:897.98053\tvalidation_1-rmse:3373.95898\n",
      "[428]\tvalidation_0-rmse:895.75873\tvalidation_1-rmse:3374.93091\n",
      "[429]\tvalidation_0-rmse:893.75934\tvalidation_1-rmse:3374.96655\n",
      "[430]\tvalidation_0-rmse:891.51386\tvalidation_1-rmse:3375.03833\n",
      "[431]\tvalidation_0-rmse:889.56177\tvalidation_1-rmse:3376.53980\n",
      "[432]\tvalidation_0-rmse:887.72882\tvalidation_1-rmse:3380.87671\n",
      "[433]\tvalidation_0-rmse:885.85523\tvalidation_1-rmse:3382.67090\n",
      "[434]\tvalidation_0-rmse:880.75269\tvalidation_1-rmse:3386.07422\n",
      "[435]\tvalidation_0-rmse:877.47620\tvalidation_1-rmse:3385.57715\n",
      "[436]\tvalidation_0-rmse:875.16168\tvalidation_1-rmse:3385.03491\n",
      "[437]\tvalidation_0-rmse:873.97766\tvalidation_1-rmse:3385.66040\n",
      "[438]\tvalidation_0-rmse:872.73871\tvalidation_1-rmse:3384.81494\n",
      "[439]\tvalidation_0-rmse:870.77673\tvalidation_1-rmse:3384.90576\n",
      "[440]\tvalidation_0-rmse:868.57581\tvalidation_1-rmse:3386.32251\n",
      "[441]\tvalidation_0-rmse:866.70862\tvalidation_1-rmse:3385.32129\n",
      "[442]\tvalidation_0-rmse:864.54163\tvalidation_1-rmse:3386.53711\n",
      "[443]\tvalidation_0-rmse:863.13409\tvalidation_1-rmse:3387.45459\n",
      "[444]\tvalidation_0-rmse:861.79791\tvalidation_1-rmse:3387.36060\n",
      "[445]\tvalidation_0-rmse:858.78876\tvalidation_1-rmse:3387.61816\n",
      "[446]\tvalidation_0-rmse:856.65204\tvalidation_1-rmse:3389.00806\n",
      "[447]\tvalidation_0-rmse:854.98395\tvalidation_1-rmse:3389.84302\n",
      "[448]\tvalidation_0-rmse:853.90820\tvalidation_1-rmse:3390.38477\n",
      "[449]\tvalidation_0-rmse:852.34784\tvalidation_1-rmse:3391.09619\n",
      "[450]\tvalidation_0-rmse:851.05542\tvalidation_1-rmse:3390.90845\n",
      "[451]\tvalidation_0-rmse:848.34198\tvalidation_1-rmse:3388.06372\n",
      "[452]\tvalidation_0-rmse:846.84784\tvalidation_1-rmse:3389.00317\n",
      "[453]\tvalidation_0-rmse:844.84595\tvalidation_1-rmse:3389.57788\n",
      "[454]\tvalidation_0-rmse:843.72369\tvalidation_1-rmse:3389.28101\n",
      "[455]\tvalidation_0-rmse:841.74750\tvalidation_1-rmse:3388.76514\n",
      "[456]\tvalidation_0-rmse:839.01038\tvalidation_1-rmse:3385.70117\n",
      "[457]\tvalidation_0-rmse:838.14026\tvalidation_1-rmse:3385.90942\n",
      "[458]\tvalidation_0-rmse:836.12671\tvalidation_1-rmse:3385.61206\n",
      "[459]\tvalidation_0-rmse:835.09601\tvalidation_1-rmse:3385.49927\n",
      "[460]\tvalidation_0-rmse:833.20221\tvalidation_1-rmse:3383.27295\n",
      "[461]\tvalidation_0-rmse:830.95581\tvalidation_1-rmse:3383.32690\n",
      "[462]\tvalidation_0-rmse:829.46289\tvalidation_1-rmse:3383.59351\n",
      "[463]\tvalidation_0-rmse:827.90851\tvalidation_1-rmse:3383.71020\n",
      "[464]\tvalidation_0-rmse:826.90131\tvalidation_1-rmse:3383.59058\n",
      "[465]\tvalidation_0-rmse:826.04309\tvalidation_1-rmse:3383.74463\n",
      "[466]\tvalidation_0-rmse:824.28247\tvalidation_1-rmse:3384.30786\n",
      "[467]\tvalidation_0-rmse:821.46710\tvalidation_1-rmse:3384.75952\n",
      "[468]\tvalidation_0-rmse:818.68256\tvalidation_1-rmse:3385.58130\n",
      "[469]\tvalidation_0-rmse:817.69165\tvalidation_1-rmse:3385.11987\n",
      "[470]\tvalidation_0-rmse:817.41638\tvalidation_1-rmse:3384.49292\n",
      "[471]\tvalidation_0-rmse:816.80017\tvalidation_1-rmse:3384.51733\n",
      "[472]\tvalidation_0-rmse:815.58942\tvalidation_1-rmse:3384.98853\n",
      "[473]\tvalidation_0-rmse:814.54175\tvalidation_1-rmse:3385.10181\n",
      "[474]\tvalidation_0-rmse:813.34338\tvalidation_1-rmse:3384.54736\n",
      "[475]\tvalidation_0-rmse:812.30756\tvalidation_1-rmse:3385.00879\n",
      "[476]\tvalidation_0-rmse:811.29736\tvalidation_1-rmse:3385.38867\n",
      "[477]\tvalidation_0-rmse:810.03674\tvalidation_1-rmse:3386.81152\n",
      "[478]\tvalidation_0-rmse:808.97552\tvalidation_1-rmse:3387.19946\n",
      "[479]\tvalidation_0-rmse:808.50330\tvalidation_1-rmse:3388.26099\n",
      "[480]\tvalidation_0-rmse:808.23199\tvalidation_1-rmse:3388.66577\n",
      "[481]\tvalidation_0-rmse:805.68140\tvalidation_1-rmse:3387.96362\n",
      "[482]\tvalidation_0-rmse:805.43390\tvalidation_1-rmse:3387.70068\n",
      "[483]\tvalidation_0-rmse:804.77118\tvalidation_1-rmse:3387.38208\n",
      "[484]\tvalidation_0-rmse:802.80969\tvalidation_1-rmse:3388.70361\n",
      "[485]\tvalidation_0-rmse:801.52136\tvalidation_1-rmse:3388.26221\n",
      "[486]\tvalidation_0-rmse:800.31134\tvalidation_1-rmse:3389.75732\n",
      "[487]\tvalidation_0-rmse:798.97620\tvalidation_1-rmse:3388.46045\n",
      "[488]\tvalidation_0-rmse:797.98663\tvalidation_1-rmse:3388.70166\n",
      "[489]\tvalidation_0-rmse:797.85120\tvalidation_1-rmse:3388.62012\n",
      "[490]\tvalidation_0-rmse:797.03424\tvalidation_1-rmse:3388.67798\n",
      "[491]\tvalidation_0-rmse:794.59479\tvalidation_1-rmse:3388.92603\n",
      "[492]\tvalidation_0-rmse:791.71875\tvalidation_1-rmse:3388.13672\n",
      "[493]\tvalidation_0-rmse:790.04706\tvalidation_1-rmse:3389.90601\n",
      "[494]\tvalidation_0-rmse:788.79584\tvalidation_1-rmse:3389.71997\n",
      "[495]\tvalidation_0-rmse:787.92737\tvalidation_1-rmse:3389.23315\n",
      "[496]\tvalidation_0-rmse:787.75848\tvalidation_1-rmse:3389.44482\n",
      "[497]\tvalidation_0-rmse:785.81207\tvalidation_1-rmse:3388.74634\n",
      "[498]\tvalidation_0-rmse:782.70667\tvalidation_1-rmse:3388.60230\n",
      "[499]\tvalidation_0-rmse:781.92877\tvalidation_1-rmse:3388.51050\n",
      "[500]\tvalidation_0-rmse:781.10724\tvalidation_1-rmse:3388.71973\n",
      "[501]\tvalidation_0-rmse:780.27283\tvalidation_1-rmse:3389.11157\n",
      "[502]\tvalidation_0-rmse:779.49988\tvalidation_1-rmse:3388.88159\n",
      "[503]\tvalidation_0-rmse:779.16693\tvalidation_1-rmse:3389.16846\n",
      "[504]\tvalidation_0-rmse:778.29840\tvalidation_1-rmse:3389.69800\n",
      "[505]\tvalidation_0-rmse:777.50971\tvalidation_1-rmse:3389.74390\n",
      "[506]\tvalidation_0-rmse:776.60706\tvalidation_1-rmse:3390.98267\n",
      "[507]\tvalidation_0-rmse:774.13599\tvalidation_1-rmse:3393.62012\n",
      "[508]\tvalidation_0-rmse:773.96106\tvalidation_1-rmse:3393.66357\n",
      "[509]\tvalidation_0-rmse:773.82587\tvalidation_1-rmse:3393.64209\n",
      "Stopping. Best iteration:\n",
      "[9]\tvalidation_0-rmse:2805.82739\tvalidation_1-rmse:2980.36108\n",
      "\n"
     ]
    },
    {
     "ename": "NameError",
     "evalue": "name 'rmse' is not defined",
     "output_type": "error",
     "traceback": [
      "\u001b[1;31m---------------------------------------------------------------------------\u001b[0m",
      "\u001b[1;31mNameError\u001b[0m                                 Traceback (most recent call last)",
      "\u001b[1;32m<ipython-input-52-0d7216453eef>\u001b[0m in \u001b[0;36m<module>\u001b[1;34m\u001b[0m\n\u001b[0;32m      7\u001b[0m     \u001b[0my_train\u001b[0m\u001b[1;33m,\u001b[0m \u001b[0my_test\u001b[0m \u001b[1;33m=\u001b[0m \u001b[0my\u001b[0m\u001b[1;33m.\u001b[0m\u001b[0miloc\u001b[0m\u001b[1;33m[\u001b[0m\u001b[0mtr_in\u001b[0m\u001b[1;33m]\u001b[0m\u001b[1;33m,\u001b[0m \u001b[0my\u001b[0m\u001b[1;33m.\u001b[0m\u001b[0miloc\u001b[0m\u001b[1;33m[\u001b[0m\u001b[0mte_in\u001b[0m\u001b[1;33m]\u001b[0m\u001b[1;33m\u001b[0m\u001b[1;33m\u001b[0m\u001b[0m\n\u001b[0;32m      8\u001b[0m     \u001b[0mxgb\u001b[0m\u001b[1;33m.\u001b[0m\u001b[0mfit\u001b[0m\u001b[1;33m(\u001b[0m\u001b[0mX_train\u001b[0m\u001b[1;33m,\u001b[0m \u001b[0my_train\u001b[0m\u001b[1;33m,\u001b[0m \u001b[0meval_metric\u001b[0m\u001b[1;33m=\u001b[0m\u001b[1;34m'rmse'\u001b[0m\u001b[1;33m,\u001b[0m \u001b[0meval_set\u001b[0m\u001b[1;33m=\u001b[0m\u001b[1;33m[\u001b[0m\u001b[1;33m(\u001b[0m\u001b[0mX_train\u001b[0m\u001b[1;33m,\u001b[0m \u001b[0my_train\u001b[0m\u001b[1;33m)\u001b[0m\u001b[1;33m,\u001b[0m \u001b[1;33m(\u001b[0m\u001b[0mX_test\u001b[0m\u001b[1;33m,\u001b[0m \u001b[0my_test\u001b[0m\u001b[1;33m)\u001b[0m\u001b[1;33m]\u001b[0m\u001b[1;33m,\u001b[0m \u001b[0mearly_stopping_rounds\u001b[0m\u001b[1;33m=\u001b[0m\u001b[1;36m500\u001b[0m\u001b[1;33m)\u001b[0m\u001b[1;33m\u001b[0m\u001b[1;33m\u001b[0m\u001b[0m\n\u001b[1;32m----> 9\u001b[1;33m     \u001b[0mscores\u001b[0m\u001b[1;33m.\u001b[0m\u001b[0mappend\u001b[0m\u001b[1;33m(\u001b[0m\u001b[0mrmse\u001b[0m\u001b[1;33m(\u001b[0m\u001b[0my_test\u001b[0m\u001b[1;33m,\u001b[0m \u001b[0mxgb\u001b[0m\u001b[1;33m.\u001b[0m\u001b[0mpredict\u001b[0m\u001b[1;33m(\u001b[0m\u001b[0mX_test\u001b[0m\u001b[1;33m)\u001b[0m\u001b[1;33m)\u001b[0m\u001b[1;33m)\u001b[0m\u001b[1;33m\u001b[0m\u001b[1;33m\u001b[0m\u001b[0m\n\u001b[0m\u001b[0;32m     10\u001b[0m     \u001b[0mtest_scores\u001b[0m \u001b[1;33m+=\u001b[0m \u001b[0mxgb\u001b[0m\u001b[1;33m.\u001b[0m\u001b[0mpredict\u001b[0m\u001b[1;33m(\u001b[0m\u001b[0mtest\u001b[0m\u001b[1;33m)\u001b[0m\u001b[1;33m\u001b[0m\u001b[1;33m\u001b[0m\u001b[0m\n\u001b[0;32m     11\u001b[0m     \u001b[0moof_test_kf\u001b[0m\u001b[1;33m[\u001b[0m\u001b[1;33m:\u001b[0m\u001b[1;33m,\u001b[0m\u001b[0mfold\u001b[0m\u001b[1;33m]\u001b[0m \u001b[1;33m+=\u001b[0m \u001b[0mxgb\u001b[0m\u001b[1;33m.\u001b[0m\u001b[0mpredict\u001b[0m\u001b[1;33m(\u001b[0m\u001b[0mtest\u001b[0m\u001b[1;33m)\u001b[0m\u001b[1;33m\u001b[0m\u001b[1;33m\u001b[0m\u001b[0m\n",
      "\u001b[1;31mNameError\u001b[0m: name 'rmse' is not defined"
     ]
    }
   ],
   "source": [
    "scores = []\n",
    "test_pred = np.zeros(len(test))\n",
    "\n",
    "for fold, (tr_in, te_in) in enumerate(kf.split(X)):\n",
    "    print(f'============fold{fold}=============')\n",
    "    X_train, X_test = X.iloc[tr_in], X.iloc[te_in]\n",
    "    y_train, y_test = y.iloc[tr_in], y.iloc[te_in]\n",
    "    xgb.fit(X_train, y_train, eval_metric='rmse', eval_set=[(X_train, y_train), (X_test, y_test)], early_stopping_rounds=500)\n",
    "    scores.append(rmse(y_test, xgb.predict(X_test)))\n",
    "    test_scores += xgb.predict(test)\n",
    "    oof_test_kf[:,fold] += xgb.predict(test)"
   ]
  },
  {
   "cell_type": "code",
   "execution_count": 53,
   "metadata": {},
   "outputs": [
    {
     "data": {
      "text/plain": [
       "[]"
      ]
     },
     "execution_count": 53,
     "metadata": {},
     "output_type": "execute_result"
    }
   ],
   "source": [
    "scores"
   ]
  },
  {
   "cell_type": "code",
   "execution_count": null,
   "metadata": {},
   "outputs": [],
   "source": []
  },
  {
   "cell_type": "code",
   "execution_count": null,
   "metadata": {},
   "outputs": [],
   "source": []
  },
  {
   "cell_type": "code",
   "execution_count": null,
   "metadata": {},
   "outputs": [],
   "source": []
  },
  {
   "cell_type": "code",
   "execution_count": null,
   "metadata": {},
   "outputs": [],
   "source": []
  }
 ],
 "metadata": {
  "kernelspec": {
   "display_name": "Python 3",
   "language": "python",
   "name": "python3"
  },
  "language_info": {
   "codemirror_mode": {
    "name": "ipython",
    "version": 3
   },
   "file_extension": ".py",
   "mimetype": "text/x-python",
   "name": "python",
   "nbconvert_exporter": "python",
   "pygments_lexer": "ipython3",
   "version": "3.7.3"
  }
 },
 "nbformat": 4,
 "nbformat_minor": 2
}
